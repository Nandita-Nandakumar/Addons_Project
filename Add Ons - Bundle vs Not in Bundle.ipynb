{
 "cells": [
  {
   "cell_type": "code",
   "execution_count": 32,
   "metadata": {},
   "outputs": [],
   "source": [
    "import pandas as pd\n",
    "from pandas.io import gbq\n",
    "import numpy as np\n",
    "import os\n",
    "import glob\n",
    "import re"
   ]
  },
  {
   "cell_type": "code",
   "execution_count": 33,
   "metadata": {},
   "outputs": [],
   "source": [
    "import pydata_google_auth"
   ]
  },
  {
   "cell_type": "code",
   "execution_count": 34,
   "metadata": {},
   "outputs": [],
   "source": [
    "    connect_bq = [\n",
    "        'https://www.googleapis.com/auth/cloud-platform',\n",
    "        'https://www.googleapis.com/auth/drive',\n",
    "    ]\n",
    "\n",
    "    credentials = pydata_google_auth.get_user_credentials(\n",
    "        connect_bq,\n",
    "        auth_local_webserver=True,\n",
    "    )"
   ]
  },
  {
   "cell_type": "markdown",
   "metadata": {},
   "source": [
    "#### Query that retrieves add_ons per user for a month and the add ons that a bundle has"
   ]
  },
  {
   "cell_type": "code",
   "execution_count": 35,
   "metadata": {},
   "outputs": [],
   "source": [
    "sql_query = \"\"\"\n",
    "CREATE TEMP FUNCTION STRING_DEDUP(str STRING) AS (\n",
    "(SELECT STRING_AGG(item ORDER BY item) FROM (\n",
    "SELECT DISTINCT item FROM UNNEST(SPLIT(str)) item \n",
    ")) \n",
    ");\n",
    "----------------------------------------------------------------------------------------------------------------------\n",
    "with daily_status as (\n",
    "Select * , DATE_TRUNC(day, month) as change_month\n",
    "from `fubotv-prod.data_insights.daily_status_static_update` t1\n",
    "where final_status_restated like '%paid%'\n",
    "and day >= '2021-01-01'\n",
    "AND day <= '2022-05-31'\n",
    "),\n",
    "add_on as (\n",
    "select account_code, change_month, STRING_DEDUP(add_ons) as addons_sorted,STRING_DEDUP(bundle_add_on_list) as bundle_addons_sorted\n",
    "FROM daily_status\n",
    ")\n",
    "select DISTINCT change_month as month, account_code, bundle_addons_sorted, addons_sorted\n",
    "from add_on\n",
    "\"\"\""
   ]
  },
  {
   "cell_type": "code",
   "execution_count": 36,
   "metadata": {},
   "outputs": [],
   "source": [
    "df = pd.read_gbq(\n",
    "    sql_query,\n",
    "    project_id='fubotv-prod',\n",
    "    credentials=credentials,\n",
    ")"
   ]
  },
  {
   "cell_type": "markdown",
   "metadata": {},
   "source": [
    "#### Checking / Housekeeping"
   ]
  },
  {
   "cell_type": "code",
   "execution_count": 37,
   "metadata": {},
   "outputs": [
    {
     "data": {
      "text/html": [
       "<div>\n",
       "<style scoped>\n",
       "    .dataframe tbody tr th:only-of-type {\n",
       "        vertical-align: middle;\n",
       "    }\n",
       "\n",
       "    .dataframe tbody tr th {\n",
       "        vertical-align: top;\n",
       "    }\n",
       "\n",
       "    .dataframe thead th {\n",
       "        text-align: right;\n",
       "    }\n",
       "</style>\n",
       "<table border=\"1\" class=\"dataframe\">\n",
       "  <thead>\n",
       "    <tr style=\"text-align: right;\">\n",
       "      <th></th>\n",
       "      <th>month</th>\n",
       "      <th>account_code</th>\n",
       "      <th>bundle_addons_sorted</th>\n",
       "      <th>addons_sorted</th>\n",
       "    </tr>\n",
       "  </thead>\n",
       "  <tbody>\n",
       "    <tr>\n",
       "      <th>0</th>\n",
       "      <td>2021-03-01</td>\n",
       "      <td>5fc0f7662c1aa6000199322c</td>\n",
       "      <td>advanced-dvr-250,third-screen</td>\n",
       "      <td>advanced-dvr-250,adventure,fubo-extra-lite,thi...</td>\n",
       "    </tr>\n",
       "    <tr>\n",
       "      <th>1</th>\n",
       "      <td>2021-12-01</td>\n",
       "      <td>60073be7b4d390000150ebc9</td>\n",
       "      <td>advanced-dvr-250,third-screen</td>\n",
       "      <td>advanced-dvr-250,premiere,third-screen</td>\n",
       "    </tr>\n",
       "    <tr>\n",
       "      <th>2</th>\n",
       "      <td>2021-09-01</td>\n",
       "      <td>5709557d1dd0e50100c5702d</td>\n",
       "      <td>None</td>\n",
       "      <td>rsn-fee</td>\n",
       "    </tr>\n",
       "    <tr>\n",
       "      <th>3</th>\n",
       "      <td>2021-06-01</td>\n",
       "      <td>5c08249bb2463f0007d852cf</td>\n",
       "      <td>advanced-dvr-250</td>\n",
       "      <td>advanced-dvr-250,premiere</td>\n",
       "    </tr>\n",
       "    <tr>\n",
       "      <th>4</th>\n",
       "      <td>2021-12-01</td>\n",
       "      <td>5f77eda7d8bf910001d93588</td>\n",
       "      <td>advanced-dvr-1000,sports-lite,third-screen,unl...</td>\n",
       "      <td>advanced-dvr-1000,sports-lite,third-screen,unl...</td>\n",
       "    </tr>\n",
       "  </tbody>\n",
       "</table>\n",
       "</div>"
      ],
      "text/plain": [
       "       month              account_code  \\\n",
       "0 2021-03-01  5fc0f7662c1aa6000199322c   \n",
       "1 2021-12-01  60073be7b4d390000150ebc9   \n",
       "2 2021-09-01  5709557d1dd0e50100c5702d   \n",
       "3 2021-06-01  5c08249bb2463f0007d852cf   \n",
       "4 2021-12-01  5f77eda7d8bf910001d93588   \n",
       "\n",
       "                                bundle_addons_sorted  \\\n",
       "0                      advanced-dvr-250,third-screen   \n",
       "1                      advanced-dvr-250,third-screen   \n",
       "2                                               None   \n",
       "3                                   advanced-dvr-250   \n",
       "4  advanced-dvr-1000,sports-lite,third-screen,unl...   \n",
       "\n",
       "                                       addons_sorted  \n",
       "0  advanced-dvr-250,adventure,fubo-extra-lite,thi...  \n",
       "1             advanced-dvr-250,premiere,third-screen  \n",
       "2                                            rsn-fee  \n",
       "3                          advanced-dvr-250,premiere  \n",
       "4  advanced-dvr-1000,sports-lite,third-screen,unl...  "
      ]
     },
     "execution_count": 37,
     "metadata": {},
     "output_type": "execute_result"
    }
   ],
   "source": [
    "df.head()"
   ]
  },
  {
   "cell_type": "markdown",
   "metadata": {},
   "source": [
    "##### if the bundles addon column is empty, discard that row"
   ]
  },
  {
   "cell_type": "code",
   "execution_count": 38,
   "metadata": {},
   "outputs": [],
   "source": [
    "df = df.dropna()"
   ]
  },
  {
   "cell_type": "markdown",
   "metadata": {},
   "source": [
    "##### Comparing bundle add_ons to the add_ons field and identifying the difference between these two fields and joining each add_on by a comma to a new field called new_addition"
   ]
  },
  {
   "cell_type": "code",
   "execution_count": 39,
   "metadata": {},
   "outputs": [],
   "source": [
    "df['nonbundle_addons'] = [','.join(set(n.split(',')) - set(o.split(','))) \n",
    "                                                          for o, n in zip(df.bundle_addons_sorted, df.addons_sorted)]"
   ]
  },
  {
   "cell_type": "code",
   "execution_count": 40,
   "metadata": {},
   "outputs": [
    {
     "data": {
      "text/html": [
       "<div>\n",
       "<style scoped>\n",
       "    .dataframe tbody tr th:only-of-type {\n",
       "        vertical-align: middle;\n",
       "    }\n",
       "\n",
       "    .dataframe tbody tr th {\n",
       "        vertical-align: top;\n",
       "    }\n",
       "\n",
       "    .dataframe thead th {\n",
       "        text-align: right;\n",
       "    }\n",
       "</style>\n",
       "<table border=\"1\" class=\"dataframe\">\n",
       "  <thead>\n",
       "    <tr style=\"text-align: right;\">\n",
       "      <th></th>\n",
       "      <th>month</th>\n",
       "      <th>account_code</th>\n",
       "      <th>bundle_addons_sorted</th>\n",
       "      <th>addons_sorted</th>\n",
       "      <th>nonbundle_addons</th>\n",
       "    </tr>\n",
       "  </thead>\n",
       "  <tbody>\n",
       "    <tr>\n",
       "      <th>0</th>\n",
       "      <td>2021-03-01</td>\n",
       "      <td>5fc0f7662c1aa6000199322c</td>\n",
       "      <td>advanced-dvr-250,third-screen</td>\n",
       "      <td>advanced-dvr-250,adventure,fubo-extra-lite,thi...</td>\n",
       "      <td>adventure,fubo-extra-lite</td>\n",
       "    </tr>\n",
       "    <tr>\n",
       "      <th>1</th>\n",
       "      <td>2021-12-01</td>\n",
       "      <td>60073be7b4d390000150ebc9</td>\n",
       "      <td>advanced-dvr-250,third-screen</td>\n",
       "      <td>advanced-dvr-250,premiere,third-screen</td>\n",
       "      <td>premiere</td>\n",
       "    </tr>\n",
       "    <tr>\n",
       "      <th>3</th>\n",
       "      <td>2021-06-01</td>\n",
       "      <td>5c08249bb2463f0007d852cf</td>\n",
       "      <td>advanced-dvr-250</td>\n",
       "      <td>advanced-dvr-250,premiere</td>\n",
       "      <td>premiere</td>\n",
       "    </tr>\n",
       "    <tr>\n",
       "      <th>4</th>\n",
       "      <td>2021-12-01</td>\n",
       "      <td>5f77eda7d8bf910001d93588</td>\n",
       "      <td>advanced-dvr-1000,sports-lite,third-screen,unl...</td>\n",
       "      <td>advanced-dvr-1000,sports-lite,third-screen,unl...</td>\n",
       "      <td></td>\n",
       "    </tr>\n",
       "    <tr>\n",
       "      <th>5</th>\n",
       "      <td>2021-09-01</td>\n",
       "      <td>5bccc16821fac9000351c1a6</td>\n",
       "      <td>advanced-dvr,third-screen</td>\n",
       "      <td>advanced-dvr,deportes,rsn-fee,third-screen</td>\n",
       "      <td>deportes,rsn-fee</td>\n",
       "    </tr>\n",
       "    <tr>\n",
       "      <th>...</th>\n",
       "      <td>...</td>\n",
       "      <td>...</td>\n",
       "      <td>...</td>\n",
       "      <td>...</td>\n",
       "      <td>...</td>\n",
       "    </tr>\n",
       "    <tr>\n",
       "      <th>17337684</th>\n",
       "      <td>2022-05-01</td>\n",
       "      <td>5e5bfe54d1622b0001938760</td>\n",
       "      <td>advanced-dvr-1000,fubo-extra-lite,third-screen...</td>\n",
       "      <td>advanced-dvr-1000,fubo-extra-lite,rsn-fee,thir...</td>\n",
       "      <td>rsn-fee</td>\n",
       "    </tr>\n",
       "    <tr>\n",
       "      <th>17337685</th>\n",
       "      <td>2022-01-01</td>\n",
       "      <td>5fed2f69142fd70001caa60a</td>\n",
       "      <td>advanced-dvr-1000,fubo-extra-lite,third-screen...</td>\n",
       "      <td>advanced-dvr-1000,fubo-extra-lite,rsn-fee,thir...</td>\n",
       "      <td>rsn-fee</td>\n",
       "    </tr>\n",
       "    <tr>\n",
       "      <th>17337686</th>\n",
       "      <td>2021-10-01</td>\n",
       "      <td>614f5e5602d4e70001a5f167</td>\n",
       "      <td>advanced-dvr-1000,fubo-extra-lite,third-screen...</td>\n",
       "      <td>advanced-dvr-1000,fubo-extra-lite,rsn-fee,thir...</td>\n",
       "      <td>rsn-fee</td>\n",
       "    </tr>\n",
       "    <tr>\n",
       "      <th>17337687</th>\n",
       "      <td>2021-12-01</td>\n",
       "      <td>6193ecd7e39e1d000182f649</td>\n",
       "      <td>advanced-dvr-1000,fubo-extra-lite,third-screen...</td>\n",
       "      <td>advanced-dvr-1000,fubo-extra-lite,rsn-fee,thir...</td>\n",
       "      <td>rsn-fee</td>\n",
       "    </tr>\n",
       "    <tr>\n",
       "      <th>17337688</th>\n",
       "      <td>2021-02-01</td>\n",
       "      <td>5f79fea032e2d800012406a9</td>\n",
       "      <td>advanced-dvr-1000,fubo-extra-lite,third-screen...</td>\n",
       "      <td>advanced-dvr-1000,fubo-extra-lite,rsn-fee,thir...</td>\n",
       "      <td>rsn-fee</td>\n",
       "    </tr>\n",
       "  </tbody>\n",
       "</table>\n",
       "<p>16336384 rows × 5 columns</p>\n",
       "</div>"
      ],
      "text/plain": [
       "              month              account_code  \\\n",
       "0        2021-03-01  5fc0f7662c1aa6000199322c   \n",
       "1        2021-12-01  60073be7b4d390000150ebc9   \n",
       "3        2021-06-01  5c08249bb2463f0007d852cf   \n",
       "4        2021-12-01  5f77eda7d8bf910001d93588   \n",
       "5        2021-09-01  5bccc16821fac9000351c1a6   \n",
       "...             ...                       ...   \n",
       "17337684 2022-05-01  5e5bfe54d1622b0001938760   \n",
       "17337685 2022-01-01  5fed2f69142fd70001caa60a   \n",
       "17337686 2021-10-01  614f5e5602d4e70001a5f167   \n",
       "17337687 2021-12-01  6193ecd7e39e1d000182f649   \n",
       "17337688 2021-02-01  5f79fea032e2d800012406a9   \n",
       "\n",
       "                                       bundle_addons_sorted  \\\n",
       "0                             advanced-dvr-250,third-screen   \n",
       "1                             advanced-dvr-250,third-screen   \n",
       "3                                          advanced-dvr-250   \n",
       "4         advanced-dvr-1000,sports-lite,third-screen,unl...   \n",
       "5                                 advanced-dvr,third-screen   \n",
       "...                                                     ...   \n",
       "17337684  advanced-dvr-1000,fubo-extra-lite,third-screen...   \n",
       "17337685  advanced-dvr-1000,fubo-extra-lite,third-screen...   \n",
       "17337686  advanced-dvr-1000,fubo-extra-lite,third-screen...   \n",
       "17337687  advanced-dvr-1000,fubo-extra-lite,third-screen...   \n",
       "17337688  advanced-dvr-1000,fubo-extra-lite,third-screen...   \n",
       "\n",
       "                                              addons_sorted  \\\n",
       "0         advanced-dvr-250,adventure,fubo-extra-lite,thi...   \n",
       "1                    advanced-dvr-250,premiere,third-screen   \n",
       "3                                 advanced-dvr-250,premiere   \n",
       "4         advanced-dvr-1000,sports-lite,third-screen,unl...   \n",
       "5                advanced-dvr,deportes,rsn-fee,third-screen   \n",
       "...                                                     ...   \n",
       "17337684  advanced-dvr-1000,fubo-extra-lite,rsn-fee,thir...   \n",
       "17337685  advanced-dvr-1000,fubo-extra-lite,rsn-fee,thir...   \n",
       "17337686  advanced-dvr-1000,fubo-extra-lite,rsn-fee,thir...   \n",
       "17337687  advanced-dvr-1000,fubo-extra-lite,rsn-fee,thir...   \n",
       "17337688  advanced-dvr-1000,fubo-extra-lite,rsn-fee,thir...   \n",
       "\n",
       "                   nonbundle_addons  \n",
       "0         adventure,fubo-extra-lite  \n",
       "1                          premiere  \n",
       "3                          premiere  \n",
       "4                                    \n",
       "5                  deportes,rsn-fee  \n",
       "...                             ...  \n",
       "17337684                    rsn-fee  \n",
       "17337685                    rsn-fee  \n",
       "17337686                    rsn-fee  \n",
       "17337687                    rsn-fee  \n",
       "17337688                    rsn-fee  \n",
       "\n",
       "[16336384 rows x 5 columns]"
      ]
     },
     "execution_count": 40,
     "metadata": {},
     "output_type": "execute_result"
    }
   ],
   "source": [
    "df"
   ]
  },
  {
   "cell_type": "markdown",
   "metadata": {},
   "source": [
    "#### Splitting new_addition column into additional columns and exploding them into individual rows"
   ]
  },
  {
   "cell_type": "code",
   "execution_count": 41,
   "metadata": {},
   "outputs": [],
   "source": [
    "df['nonbundle_addons'] = df['nonbundle_addons'].str.split(',')\n",
    "df = df.explode('nonbundle_addons').reset_index(drop=True)\n",
    "cols = list(df.columns)\n",
    "df = df[cols]"
   ]
  },
  {
   "cell_type": "code",
   "execution_count": 42,
   "metadata": {},
   "outputs": [
    {
     "name": "stdout",
     "output_type": "stream",
     "text": [
      "<class 'pandas.core.frame.DataFrame'>\n",
      "RangeIndex: 17748722 entries, 0 to 17748721\n",
      "Data columns (total 5 columns):\n",
      " #   Column                Dtype         \n",
      "---  ------                -----         \n",
      " 0   month                 datetime64[ns]\n",
      " 1   account_code          object        \n",
      " 2   bundle_addons_sorted  object        \n",
      " 3   addons_sorted         object        \n",
      " 4   nonbundle_addons      object        \n",
      "dtypes: datetime64[ns](1), object(4)\n",
      "memory usage: 677.1+ MB\n"
     ]
    }
   ],
   "source": [
    "df.info()"
   ]
  },
  {
   "cell_type": "code",
   "execution_count": 43,
   "metadata": {},
   "outputs": [
    {
     "data": {
      "text/html": [
       "<div>\n",
       "<style scoped>\n",
       "    .dataframe tbody tr th:only-of-type {\n",
       "        vertical-align: middle;\n",
       "    }\n",
       "\n",
       "    .dataframe tbody tr th {\n",
       "        vertical-align: top;\n",
       "    }\n",
       "\n",
       "    .dataframe thead th {\n",
       "        text-align: right;\n",
       "    }\n",
       "</style>\n",
       "<table border=\"1\" class=\"dataframe\">\n",
       "  <thead>\n",
       "    <tr style=\"text-align: right;\">\n",
       "      <th></th>\n",
       "      <th>month</th>\n",
       "      <th>account_code</th>\n",
       "      <th>bundle_addons_sorted</th>\n",
       "      <th>addons_sorted</th>\n",
       "      <th>nonbundle_addons</th>\n",
       "    </tr>\n",
       "  </thead>\n",
       "  <tbody>\n",
       "    <tr>\n",
       "      <th>0</th>\n",
       "      <td>2021-03-01</td>\n",
       "      <td>5fc0f7662c1aa6000199322c</td>\n",
       "      <td>advanced-dvr-250,third-screen</td>\n",
       "      <td>advanced-dvr-250,adventure,fubo-extra-lite,thi...</td>\n",
       "      <td>adventure</td>\n",
       "    </tr>\n",
       "    <tr>\n",
       "      <th>1</th>\n",
       "      <td>2021-03-01</td>\n",
       "      <td>5fc0f7662c1aa6000199322c</td>\n",
       "      <td>advanced-dvr-250,third-screen</td>\n",
       "      <td>advanced-dvr-250,adventure,fubo-extra-lite,thi...</td>\n",
       "      <td>fubo-extra-lite</td>\n",
       "    </tr>\n",
       "    <tr>\n",
       "      <th>2</th>\n",
       "      <td>2021-12-01</td>\n",
       "      <td>60073be7b4d390000150ebc9</td>\n",
       "      <td>advanced-dvr-250,third-screen</td>\n",
       "      <td>advanced-dvr-250,premiere,third-screen</td>\n",
       "      <td>premiere</td>\n",
       "    </tr>\n",
       "    <tr>\n",
       "      <th>3</th>\n",
       "      <td>2021-06-01</td>\n",
       "      <td>5c08249bb2463f0007d852cf</td>\n",
       "      <td>advanced-dvr-250</td>\n",
       "      <td>advanced-dvr-250,premiere</td>\n",
       "      <td>premiere</td>\n",
       "    </tr>\n",
       "    <tr>\n",
       "      <th>4</th>\n",
       "      <td>2021-12-01</td>\n",
       "      <td>5f77eda7d8bf910001d93588</td>\n",
       "      <td>advanced-dvr-1000,sports-lite,third-screen,unl...</td>\n",
       "      <td>advanced-dvr-1000,sports-lite,third-screen,unl...</td>\n",
       "      <td></td>\n",
       "    </tr>\n",
       "  </tbody>\n",
       "</table>\n",
       "</div>"
      ],
      "text/plain": [
       "       month              account_code  \\\n",
       "0 2021-03-01  5fc0f7662c1aa6000199322c   \n",
       "1 2021-03-01  5fc0f7662c1aa6000199322c   \n",
       "2 2021-12-01  60073be7b4d390000150ebc9   \n",
       "3 2021-06-01  5c08249bb2463f0007d852cf   \n",
       "4 2021-12-01  5f77eda7d8bf910001d93588   \n",
       "\n",
       "                                bundle_addons_sorted  \\\n",
       "0                      advanced-dvr-250,third-screen   \n",
       "1                      advanced-dvr-250,third-screen   \n",
       "2                      advanced-dvr-250,third-screen   \n",
       "3                                   advanced-dvr-250   \n",
       "4  advanced-dvr-1000,sports-lite,third-screen,unl...   \n",
       "\n",
       "                                       addons_sorted nonbundle_addons  \n",
       "0  advanced-dvr-250,adventure,fubo-extra-lite,thi...        adventure  \n",
       "1  advanced-dvr-250,adventure,fubo-extra-lite,thi...  fubo-extra-lite  \n",
       "2             advanced-dvr-250,premiere,third-screen         premiere  \n",
       "3                          advanced-dvr-250,premiere         premiere  \n",
       "4  advanced-dvr-1000,sports-lite,third-screen,unl...                   "
      ]
     },
     "execution_count": 43,
     "metadata": {},
     "output_type": "execute_result"
    }
   ],
   "source": [
    "df = df.drop(['addons_sorted', 'bundle_addons_sorted'], axis=1)"
   ]
  },
  {
   "cell_type": "code",
   "execution_count": 44,
   "metadata": {},
   "outputs": [],
   "source": [
    "df = df.drop_duplicates()"
   ]
  },
  {
   "cell_type": "code",
   "execution_count": 45,
   "metadata": {},
   "outputs": [
    {
     "name": "stdout",
     "output_type": "stream",
     "text": [
      "              month              account_code nonbundle_addons\n",
      "0        2021-03-01  5fc0f7662c1aa6000199322c        adventure\n",
      "1        2021-03-01  5fc0f7662c1aa6000199322c  fubo-extra-lite\n",
      "2        2021-12-01  60073be7b4d390000150ebc9         premiere\n",
      "3        2021-06-01  5c08249bb2463f0007d852cf         premiere\n",
      "4        2021-12-01  5f77eda7d8bf910001d93588                 \n",
      "...             ...                       ...              ...\n",
      "17748717 2022-05-01  5e5bfe54d1622b0001938760          rsn-fee\n",
      "17748718 2022-01-01  5fed2f69142fd70001caa60a          rsn-fee\n",
      "17748719 2021-10-01  614f5e5602d4e70001a5f167          rsn-fee\n",
      "17748720 2021-12-01  6193ecd7e39e1d000182f649          rsn-fee\n",
      "17748721 2021-02-01  5f79fea032e2d800012406a9          rsn-fee\n",
      "\n",
      "[17748722 rows x 3 columns]\n"
     ]
    }
   ],
   "source": [
    "print(df)"
   ]
  },
  {
   "cell_type": "code",
   "execution_count": 46,
   "metadata": {},
   "outputs": [
    {
     "data": {
      "text/html": [
       "<div>\n",
       "<style scoped>\n",
       "    .dataframe tbody tr th:only-of-type {\n",
       "        vertical-align: middle;\n",
       "    }\n",
       "\n",
       "    .dataframe tbody tr th {\n",
       "        vertical-align: top;\n",
       "    }\n",
       "\n",
       "    .dataframe thead th {\n",
       "        text-align: right;\n",
       "    }\n",
       "</style>\n",
       "<table border=\"1\" class=\"dataframe\">\n",
       "  <thead>\n",
       "    <tr style=\"text-align: right;\">\n",
       "      <th></th>\n",
       "      <th>month</th>\n",
       "      <th>account_code</th>\n",
       "      <th>nonbundle_addons</th>\n",
       "    </tr>\n",
       "  </thead>\n",
       "  <tbody>\n",
       "    <tr>\n",
       "      <th>0</th>\n",
       "      <td>2021-03-01</td>\n",
       "      <td>5fc0f7662c1aa6000199322c</td>\n",
       "      <td>adventure</td>\n",
       "    </tr>\n",
       "    <tr>\n",
       "      <th>1</th>\n",
       "      <td>2021-03-01</td>\n",
       "      <td>5fc0f7662c1aa6000199322c</td>\n",
       "      <td>fubo-extra-lite</td>\n",
       "    </tr>\n",
       "    <tr>\n",
       "      <th>2</th>\n",
       "      <td>2021-12-01</td>\n",
       "      <td>60073be7b4d390000150ebc9</td>\n",
       "      <td>premiere</td>\n",
       "    </tr>\n",
       "    <tr>\n",
       "      <th>3</th>\n",
       "      <td>2021-06-01</td>\n",
       "      <td>5c08249bb2463f0007d852cf</td>\n",
       "      <td>premiere</td>\n",
       "    </tr>\n",
       "    <tr>\n",
       "      <th>4</th>\n",
       "      <td>2021-12-01</td>\n",
       "      <td>5f77eda7d8bf910001d93588</td>\n",
       "      <td></td>\n",
       "    </tr>\n",
       "    <tr>\n",
       "      <th>...</th>\n",
       "      <td>...</td>\n",
       "      <td>...</td>\n",
       "      <td>...</td>\n",
       "    </tr>\n",
       "    <tr>\n",
       "      <th>17748717</th>\n",
       "      <td>2022-05-01</td>\n",
       "      <td>5e5bfe54d1622b0001938760</td>\n",
       "      <td>rsn-fee</td>\n",
       "    </tr>\n",
       "    <tr>\n",
       "      <th>17748718</th>\n",
       "      <td>2022-01-01</td>\n",
       "      <td>5fed2f69142fd70001caa60a</td>\n",
       "      <td>rsn-fee</td>\n",
       "    </tr>\n",
       "    <tr>\n",
       "      <th>17748719</th>\n",
       "      <td>2021-10-01</td>\n",
       "      <td>614f5e5602d4e70001a5f167</td>\n",
       "      <td>rsn-fee</td>\n",
       "    </tr>\n",
       "    <tr>\n",
       "      <th>17748720</th>\n",
       "      <td>2021-12-01</td>\n",
       "      <td>6193ecd7e39e1d000182f649</td>\n",
       "      <td>rsn-fee</td>\n",
       "    </tr>\n",
       "    <tr>\n",
       "      <th>17748721</th>\n",
       "      <td>2021-02-01</td>\n",
       "      <td>5f79fea032e2d800012406a9</td>\n",
       "      <td>rsn-fee</td>\n",
       "    </tr>\n",
       "  </tbody>\n",
       "</table>\n",
       "<p>17748722 rows × 3 columns</p>\n",
       "</div>"
      ],
      "text/plain": [
       "              month              account_code nonbundle_addons\n",
       "0        2021-03-01  5fc0f7662c1aa6000199322c        adventure\n",
       "1        2021-03-01  5fc0f7662c1aa6000199322c  fubo-extra-lite\n",
       "2        2021-12-01  60073be7b4d390000150ebc9         premiere\n",
       "3        2021-06-01  5c08249bb2463f0007d852cf         premiere\n",
       "4        2021-12-01  5f77eda7d8bf910001d93588                 \n",
       "...             ...                       ...              ...\n",
       "17748717 2022-05-01  5e5bfe54d1622b0001938760          rsn-fee\n",
       "17748718 2022-01-01  5fed2f69142fd70001caa60a          rsn-fee\n",
       "17748719 2021-10-01  614f5e5602d4e70001a5f167          rsn-fee\n",
       "17748720 2021-12-01  6193ecd7e39e1d000182f649          rsn-fee\n",
       "17748721 2021-02-01  5f79fea032e2d800012406a9          rsn-fee\n",
       "\n",
       "[17748722 rows x 3 columns]"
      ]
     },
     "execution_count": 46,
     "metadata": {},
     "output_type": "execute_result"
    }
   ],
   "source": [
    "df"
   ]
  },
  {
   "cell_type": "markdown",
   "metadata": {},
   "source": [
    "###### Remove RSN fee and blanks from the field"
   ]
  },
  {
   "cell_type": "code",
   "execution_count": 47,
   "metadata": {},
   "outputs": [],
   "source": [
    "df = df[df.nonbundle_addons != 'rsn-fee']\n",
    "df = df[df.nonbundle_addons != '']\n",
    "df = df[df.nonbundle_addons != \"\"]"
   ]
  },
  {
   "cell_type": "code",
   "execution_count": 48,
   "metadata": {},
   "outputs": [
    {
     "name": "stdout",
     "output_type": "stream",
     "text": [
      "<class 'pandas.core.frame.DataFrame'>\n",
      "Int64Index: 4392679 entries, 0 to 17748705\n",
      "Data columns (total 3 columns):\n",
      " #   Column            Dtype         \n",
      "---  ------            -----         \n",
      " 0   month             datetime64[ns]\n",
      " 1   account_code      object        \n",
      " 2   nonbundle_addons  object        \n",
      "dtypes: datetime64[ns](1), object(2)\n",
      "memory usage: 134.1+ MB\n"
     ]
    }
   ],
   "source": [
    "df.info()"
   ]
  },
  {
   "cell_type": "code",
   "execution_count": 49,
   "metadata": {},
   "outputs": [
    {
     "data": {
      "text/html": [
       "<div>\n",
       "<style scoped>\n",
       "    .dataframe tbody tr th:only-of-type {\n",
       "        vertical-align: middle;\n",
       "    }\n",
       "\n",
       "    .dataframe tbody tr th {\n",
       "        vertical-align: top;\n",
       "    }\n",
       "\n",
       "    .dataframe thead th {\n",
       "        text-align: right;\n",
       "    }\n",
       "</style>\n",
       "<table border=\"1\" class=\"dataframe\">\n",
       "  <thead>\n",
       "    <tr style=\"text-align: right;\">\n",
       "      <th></th>\n",
       "      <th>month</th>\n",
       "      <th>account_code</th>\n",
       "      <th>nonbundle_addons</th>\n",
       "    </tr>\n",
       "  </thead>\n",
       "  <tbody>\n",
       "    <tr>\n",
       "      <th>0</th>\n",
       "      <td>2021-03-01</td>\n",
       "      <td>5fc0f7662c1aa6000199322c</td>\n",
       "      <td>adventure</td>\n",
       "    </tr>\n",
       "    <tr>\n",
       "      <th>1</th>\n",
       "      <td>2021-03-01</td>\n",
       "      <td>5fc0f7662c1aa6000199322c</td>\n",
       "      <td>fubo-extra-lite</td>\n",
       "    </tr>\n",
       "    <tr>\n",
       "      <th>2</th>\n",
       "      <td>2021-12-01</td>\n",
       "      <td>60073be7b4d390000150ebc9</td>\n",
       "      <td>premiere</td>\n",
       "    </tr>\n",
       "    <tr>\n",
       "      <th>3</th>\n",
       "      <td>2021-06-01</td>\n",
       "      <td>5c08249bb2463f0007d852cf</td>\n",
       "      <td>premiere</td>\n",
       "    </tr>\n",
       "    <tr>\n",
       "      <th>5</th>\n",
       "      <td>2021-09-01</td>\n",
       "      <td>5bccc16821fac9000351c1a6</td>\n",
       "      <td>deportes</td>\n",
       "    </tr>\n",
       "  </tbody>\n",
       "</table>\n",
       "</div>"
      ],
      "text/plain": [
       "       month              account_code nonbundle_addons\n",
       "0 2021-03-01  5fc0f7662c1aa6000199322c        adventure\n",
       "1 2021-03-01  5fc0f7662c1aa6000199322c  fubo-extra-lite\n",
       "2 2021-12-01  60073be7b4d390000150ebc9         premiere\n",
       "3 2021-06-01  5c08249bb2463f0007d852cf         premiere\n",
       "5 2021-09-01  5bccc16821fac9000351c1a6         deportes"
      ]
     },
     "execution_count": 49,
     "metadata": {},
     "output_type": "execute_result"
    }
   ],
   "source": [
    "df.head()"
   ]
  },
  {
   "cell_type": "markdown",
   "metadata": {},
   "source": [
    "###### Converting timestamp to Date"
   ]
  },
  {
   "cell_type": "code",
   "execution_count": 50,
   "metadata": {},
   "outputs": [],
   "source": [
    "df['month'] = pd.to_datetime(df['month'], format=\"%Y/%m/%d\").dt.date"
   ]
  },
  {
   "cell_type": "markdown",
   "metadata": {},
   "source": [
    "#### Account code level Table"
   ]
  },
  {
   "cell_type": "code",
   "execution_count": 52,
   "metadata": {},
   "outputs": [],
   "source": [
    "df.to_gbq ( destination_table='business_analytics.temp_nonbundle_addon_account_code', project_id= 'fubotv-dev', if_exists= 'replace', table_schema = [{'name':'month','type': 'DATE'}])"
   ]
  },
  {
   "cell_type": "markdown",
   "metadata": {},
   "source": [
    "#### Aggregating by month and new_addition to count distinct account_code"
   ]
  },
  {
   "cell_type": "code",
   "execution_count": 53,
   "metadata": {},
   "outputs": [],
   "source": [
    "df = df.groupby(['month', 'nonbundle_addons'],  as_index=False ).agg({'account_code': 'nunique'})"
   ]
  },
  {
   "cell_type": "code",
   "execution_count": 55,
   "metadata": {},
   "outputs": [
    {
     "data": {
      "text/html": [
       "<div>\n",
       "<style scoped>\n",
       "    .dataframe tbody tr th:only-of-type {\n",
       "        vertical-align: middle;\n",
       "    }\n",
       "\n",
       "    .dataframe tbody tr th {\n",
       "        vertical-align: top;\n",
       "    }\n",
       "\n",
       "    .dataframe thead th {\n",
       "        text-align: right;\n",
       "    }\n",
       "</style>\n",
       "<table border=\"1\" class=\"dataframe\">\n",
       "  <thead>\n",
       "    <tr style=\"text-align: right;\">\n",
       "      <th></th>\n",
       "      <th>month</th>\n",
       "      <th>nonbundle_addons</th>\n",
       "      <th>account_code</th>\n",
       "    </tr>\n",
       "  </thead>\n",
       "  <tbody>\n",
       "    <tr>\n",
       "      <th>0</th>\n",
       "      <td>2021-01-01</td>\n",
       "      <td>advanced-dvr</td>\n",
       "      <td>11215</td>\n",
       "    </tr>\n",
       "    <tr>\n",
       "      <th>1</th>\n",
       "      <td>2021-01-01</td>\n",
       "      <td>advanced-dvr-1000</td>\n",
       "      <td>3508</td>\n",
       "    </tr>\n",
       "    <tr>\n",
       "      <th>2</th>\n",
       "      <td>2021-01-01</td>\n",
       "      <td>advanced-dvr-250</td>\n",
       "      <td>56869</td>\n",
       "    </tr>\n",
       "    <tr>\n",
       "      <th>3</th>\n",
       "      <td>2021-01-01</td>\n",
       "      <td>adventure</td>\n",
       "      <td>6088</td>\n",
       "    </tr>\n",
       "    <tr>\n",
       "      <th>4</th>\n",
       "      <td>2021-01-01</td>\n",
       "      <td>amc-premiere</td>\n",
       "      <td>2725</td>\n",
       "    </tr>\n",
       "    <tr>\n",
       "      <th>...</th>\n",
       "      <td>...</td>\n",
       "      <td>...</td>\n",
       "      <td>...</td>\n",
       "    </tr>\n",
       "    <tr>\n",
       "      <th>486</th>\n",
       "      <td>2022-05-01</td>\n",
       "      <td>starz</td>\n",
       "      <td>2232</td>\n",
       "    </tr>\n",
       "    <tr>\n",
       "      <th>487</th>\n",
       "      <td>2022-05-01</td>\n",
       "      <td>starz-epix-showtime</td>\n",
       "      <td>7516</td>\n",
       "    </tr>\n",
       "    <tr>\n",
       "      <th>488</th>\n",
       "      <td>2022-05-01</td>\n",
       "      <td>third-screen</td>\n",
       "      <td>3183</td>\n",
       "    </tr>\n",
       "    <tr>\n",
       "      <th>489</th>\n",
       "      <td>2022-05-01</td>\n",
       "      <td>tv5-monde</td>\n",
       "      <td>807</td>\n",
       "    </tr>\n",
       "    <tr>\n",
       "      <th>490</th>\n",
       "      <td>2022-05-01</td>\n",
       "      <td>unlimited-screen-home</td>\n",
       "      <td>39942</td>\n",
       "    </tr>\n",
       "  </tbody>\n",
       "</table>\n",
       "<p>491 rows × 3 columns</p>\n",
       "</div>"
      ],
      "text/plain": [
       "          month       nonbundle_addons  account_code\n",
       "0    2021-01-01           advanced-dvr         11215\n",
       "1    2021-01-01      advanced-dvr-1000          3508\n",
       "2    2021-01-01       advanced-dvr-250         56869\n",
       "3    2021-01-01              adventure          6088\n",
       "4    2021-01-01           amc-premiere          2725\n",
       "..          ...                    ...           ...\n",
       "486  2022-05-01                  starz          2232\n",
       "487  2022-05-01    starz-epix-showtime          7516\n",
       "488  2022-05-01           third-screen          3183\n",
       "489  2022-05-01              tv5-monde           807\n",
       "490  2022-05-01  unlimited-screen-home         39942\n",
       "\n",
       "[491 rows x 3 columns]"
      ]
     },
     "execution_count": 55,
     "metadata": {},
     "output_type": "execute_result"
    }
   ],
   "source": [
    "df"
   ]
  },
  {
   "cell_type": "code",
   "execution_count": 54,
   "metadata": {},
   "outputs": [],
   "source": [
    "df.to_gbq ( destination_table='business_analytics.temp_nonbundle_addon_counts', project_id= 'fubotv-dev', if_exists= 'replace', table_schema = [{'name':'month','type': 'DATE'}])"
   ]
  }
 ],
 "metadata": {
  "interpreter": {
   "hash": "0974d6d4526877ac03092eddf71329aa51a4904723e66e5891e6e45546228747"
  },
  "kernelspec": {
   "display_name": "Python 3 (ipykernel)",
   "language": "python",
   "name": "python3"
  },
  "language_info": {
   "codemirror_mode": {
    "name": "ipython",
    "version": 3
   },
   "file_extension": ".py",
   "mimetype": "text/x-python",
   "name": "python",
   "nbconvert_exporter": "python",
   "pygments_lexer": "ipython3",
   "version": "3.7.13"
  }
 },
 "nbformat": 4,
 "nbformat_minor": 4
}
