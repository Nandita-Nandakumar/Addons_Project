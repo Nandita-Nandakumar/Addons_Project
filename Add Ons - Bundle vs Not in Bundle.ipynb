{
 "cells": [
  {
   "cell_type": "code",
   "execution_count": 2,
   "metadata": {},
   "outputs": [],
   "source": [
    "import pandas as pd\n",
    "from pandas.io import gbq\n",
    "import numpy as np\n",
    "import os\n",
    "import glob\n",
    "import re"
   ]
  },
  {
   "cell_type": "code",
   "execution_count": 3,
   "metadata": {},
   "outputs": [],
   "source": [
    "import pydata_google_auth"
   ]
  },
  {
   "cell_type": "code",
   "execution_count": 4,
   "metadata": {},
   "outputs": [],
   "source": [
    "    connect_bq = [\n",
    "        'https://www.googleapis.com/auth/cloud-platform',\n",
    "        'https://www.googleapis.com/auth/drive',\n",
    "    ]\n",
    "\n",
    "    credentials = pydata_google_auth.get_user_credentials(\n",
    "        connect_bq,\n",
    "        auth_local_webserver=True,\n",
    "    )"
   ]
  },
  {
   "cell_type": "markdown",
   "metadata": {},
   "source": [
    "#### Query that retrieves add_ons per user for a month and the add ons that a bundle has"
   ]
  },
  {
   "cell_type": "code",
   "execution_count": 5,
   "metadata": {},
   "outputs": [],
   "source": [
    "sql_query = \"\"\"\n",
    "CREATE TEMP FUNCTION STRING_DEDUP(str STRING) AS (\n",
    "(SELECT STRING_AGG(item ORDER BY item) FROM (\n",
    "SELECT DISTINCT item FROM UNNEST(SPLIT(str)) item \n",
    ")) \n",
    ");\n",
    "----------------------------------------------------------------------------------------------------------------------\n",
    "with daily_status as (\n",
    "Select * , DATE_TRUNC(day, month) as change_month\n",
    "from `fubotv-prod.data_insights.daily_status_static_update` t1\n",
    "where final_status_restated like '%paid%'\n",
    "and day >= '2021-01-01'\n",
    "AND day <= '2022-05-31'\n",
    "),\n",
    "add_on as (\n",
    "select account_code, change_month, STRING_DEDUP(add_ons) as addons_sorted,STRING_DEDUP(bundle_add_on_list) as bundle_addons_sorted\n",
    "FROM daily_status\n",
    ")\n",
    "select DISTINCT change_month as month, account_code, bundle_addons_sorted, addons_sorted\n",
    "from add_on\n",
    "\"\"\""
   ]
  },
  {
   "cell_type": "code",
   "execution_count": 6,
   "metadata": {},
   "outputs": [],
   "source": [
    "df = pd.read_gbq(\n",
    "    sql_query,\n",
    "    project_id='fubotv-prod',\n",
    "    credentials=credentials,\n",
    ")"
   ]
  },
  {
   "cell_type": "markdown",
   "metadata": {},
   "source": [
    "#### Checking / Housekeeping"
   ]
  },
  {
   "cell_type": "code",
   "execution_count": 31,
   "metadata": {},
   "outputs": [
    {
     "data": {
      "text/html": [
       "<div>\n",
       "<style scoped>\n",
       "    .dataframe tbody tr th:only-of-type {\n",
       "        vertical-align: middle;\n",
       "    }\n",
       "\n",
       "    .dataframe tbody tr th {\n",
       "        vertical-align: top;\n",
       "    }\n",
       "\n",
       "    .dataframe thead th {\n",
       "        text-align: right;\n",
       "    }\n",
       "</style>\n",
       "<table border=\"1\" class=\"dataframe\">\n",
       "  <thead>\n",
       "    <tr style=\"text-align: right;\">\n",
       "      <th></th>\n",
       "      <th>month</th>\n",
       "      <th>nonbundle_addons</th>\n",
       "      <th>account_code</th>\n",
       "    </tr>\n",
       "  </thead>\n",
       "  <tbody>\n",
       "    <tr>\n",
       "      <th>0</th>\n",
       "      <td>2021-01-01</td>\n",
       "      <td>advanced-dvr</td>\n",
       "      <td>11215</td>\n",
       "    </tr>\n",
       "    <tr>\n",
       "      <th>1</th>\n",
       "      <td>2021-01-01</td>\n",
       "      <td>advanced-dvr-1000</td>\n",
       "      <td>3508</td>\n",
       "    </tr>\n",
       "    <tr>\n",
       "      <th>2</th>\n",
       "      <td>2021-01-01</td>\n",
       "      <td>advanced-dvr-250</td>\n",
       "      <td>56869</td>\n",
       "    </tr>\n",
       "    <tr>\n",
       "      <th>3</th>\n",
       "      <td>2021-01-01</td>\n",
       "      <td>adventure</td>\n",
       "      <td>6088</td>\n",
       "    </tr>\n",
       "    <tr>\n",
       "      <th>4</th>\n",
       "      <td>2021-01-01</td>\n",
       "      <td>amc-premiere</td>\n",
       "      <td>2725</td>\n",
       "    </tr>\n",
       "  </tbody>\n",
       "</table>\n",
       "</div>"
      ],
      "text/plain": [
       "        month   nonbundle_addons  account_code\n",
       "0  2021-01-01       advanced-dvr         11215\n",
       "1  2021-01-01  advanced-dvr-1000          3508\n",
       "2  2021-01-01   advanced-dvr-250         56869\n",
       "3  2021-01-01          adventure          6088\n",
       "4  2021-01-01       amc-premiere          2725"
      ]
     },
     "execution_count": 31,
     "metadata": {},
     "output_type": "execute_result"
    }
   ],
   "source": [
    "df.head()"
   ]
  },
  {
   "cell_type": "markdown",
   "metadata": {},
   "source": [
    "##### if the bundles addon column is empty, discard that row"
   ]
  },
  {
   "cell_type": "code",
   "execution_count": 8,
   "metadata": {},
   "outputs": [],
   "source": [
    "df = df.dropna()"
   ]
  },
  {
   "cell_type": "markdown",
   "metadata": {},
   "source": [
    "##### Comparing bundle add_ons to the add_ons field and identifying the difference between these two fields and joining each add_on by a comma to a new field called new_addition"
   ]
  },
  {
   "cell_type": "code",
   "execution_count": 10,
   "metadata": {},
   "outputs": [],
   "source": [
    "df['nonbundle_addons'] = [','.join(set(n.split(',')) - set(o.split(','))) \n",
    "                                                          for o, n in zip(df.bundle_addons_sorted, df.addons_sorted)]"
   ]
  },
  {
   "cell_type": "code",
   "execution_count": 11,
   "metadata": {},
   "outputs": [
    {
     "data": {
      "text/html": [
       "<div>\n",
       "<style scoped>\n",
       "    .dataframe tbody tr th:only-of-type {\n",
       "        vertical-align: middle;\n",
       "    }\n",
       "\n",
       "    .dataframe tbody tr th {\n",
       "        vertical-align: top;\n",
       "    }\n",
       "\n",
       "    .dataframe thead th {\n",
       "        text-align: right;\n",
       "    }\n",
       "</style>\n",
       "<table border=\"1\" class=\"dataframe\">\n",
       "  <thead>\n",
       "    <tr style=\"text-align: right;\">\n",
       "      <th></th>\n",
       "      <th>month</th>\n",
       "      <th>account_code</th>\n",
       "      <th>bundle_addons_sorted</th>\n",
       "      <th>addons_sorted</th>\n",
       "      <th>nonbundle_addons</th>\n",
       "    </tr>\n",
       "  </thead>\n",
       "  <tbody>\n",
       "    <tr>\n",
       "      <th>0</th>\n",
       "      <td>2021-03-01</td>\n",
       "      <td>5d7fb49379bf5f000174717d</td>\n",
       "      <td>advanced-dvr,third-screen</td>\n",
       "      <td>advanced-dvr,intl-sports-plus,unlimited-screen...</td>\n",
       "      <td>intl-sports-plus,unlimited-screen-home</td>\n",
       "    </tr>\n",
       "    <tr>\n",
       "      <th>1</th>\n",
       "      <td>2021-08-01</td>\n",
       "      <td>5b46489d1467cf4b8fe2a265</td>\n",
       "      <td>third-screen</td>\n",
       "      <td>third-screen</td>\n",
       "      <td></td>\n",
       "    </tr>\n",
       "    <tr>\n",
       "      <th>2</th>\n",
       "      <td>2022-05-01</td>\n",
       "      <td>6286e6b418025800015d35b6</td>\n",
       "      <td>4k-screen,advanced-dvr-1000,fubo-extra-lite,ne...</td>\n",
       "      <td>4k-screen,advanced-dvr-1000,fubo-extra-lite,ne...</td>\n",
       "      <td>rsn-fee</td>\n",
       "    </tr>\n",
       "    <tr>\n",
       "      <th>3</th>\n",
       "      <td>2021-09-01</td>\n",
       "      <td>5f5c21d8e10f990001894919</td>\n",
       "      <td>advanced-dvr,third-screen</td>\n",
       "      <td>third-screen</td>\n",
       "      <td></td>\n",
       "    </tr>\n",
       "    <tr>\n",
       "      <th>5</th>\n",
       "      <td>2021-12-01</td>\n",
       "      <td>57379de62ab90001002a6271</td>\n",
       "      <td>advanced-dvr,third-screen</td>\n",
       "      <td>advanced-dvr,fubo-extra-lite,intl-sports-plus,...</td>\n",
       "      <td>intl-sports-plus,fubo-extra-lite,unlimited-scr...</td>\n",
       "    </tr>\n",
       "    <tr>\n",
       "      <th>...</th>\n",
       "      <td>...</td>\n",
       "      <td>...</td>\n",
       "      <td>...</td>\n",
       "      <td>...</td>\n",
       "      <td>...</td>\n",
       "    </tr>\n",
       "    <tr>\n",
       "      <th>17337684</th>\n",
       "      <td>2022-05-01</td>\n",
       "      <td>6144ba5328e0760001a9a6a4</td>\n",
       "      <td>advanced-dvr-1000,fubo-extra-lite,third-screen...</td>\n",
       "      <td>advanced-dvr-1000,fubo-extra-lite,rsn-fee,thir...</td>\n",
       "      <td>rsn-fee</td>\n",
       "    </tr>\n",
       "    <tr>\n",
       "      <th>17337685</th>\n",
       "      <td>2022-04-01</td>\n",
       "      <td>5d9fdbc2374be00001c00ea9</td>\n",
       "      <td>advanced-dvr-1000,fubo-extra-lite,third-screen...</td>\n",
       "      <td>advanced-dvr-1000,fubo-extra-lite,rsn-fee,thir...</td>\n",
       "      <td>rsn-fee</td>\n",
       "    </tr>\n",
       "    <tr>\n",
       "      <th>17337686</th>\n",
       "      <td>2021-08-01</td>\n",
       "      <td>5fee74dd3b75a50001ab9709</td>\n",
       "      <td>advanced-dvr-1000,fubo-extra-lite,third-screen...</td>\n",
       "      <td>advanced-dvr-1000,fubo-extra-lite,rsn-fee,thir...</td>\n",
       "      <td>rsn-fee</td>\n",
       "    </tr>\n",
       "    <tr>\n",
       "      <th>17337687</th>\n",
       "      <td>2022-05-01</td>\n",
       "      <td>6167b1cd129abf00011122c1</td>\n",
       "      <td>advanced-dvr-1000,third-screen,unlimited-scree...</td>\n",
       "      <td>advanced-dvr-1000,fubo-extra-lite,rsn-fee,thir...</td>\n",
       "      <td>fubo-extra-lite,rsn-fee</td>\n",
       "    </tr>\n",
       "    <tr>\n",
       "      <th>17337688</th>\n",
       "      <td>2021-06-01</td>\n",
       "      <td>5de2d9821d279d00018f60cb</td>\n",
       "      <td>advanced-dvr-1000,fubo-extra-lite,third-screen...</td>\n",
       "      <td>advanced-dvr-1000,fubo-extra-lite,rsn-fee,thir...</td>\n",
       "      <td>rsn-fee</td>\n",
       "    </tr>\n",
       "  </tbody>\n",
       "</table>\n",
       "<p>16336384 rows × 5 columns</p>\n",
       "</div>"
      ],
      "text/plain": [
       "              month              account_code  \\\n",
       "0        2021-03-01  5d7fb49379bf5f000174717d   \n",
       "1        2021-08-01  5b46489d1467cf4b8fe2a265   \n",
       "2        2022-05-01  6286e6b418025800015d35b6   \n",
       "3        2021-09-01  5f5c21d8e10f990001894919   \n",
       "5        2021-12-01  57379de62ab90001002a6271   \n",
       "...             ...                       ...   \n",
       "17337684 2022-05-01  6144ba5328e0760001a9a6a4   \n",
       "17337685 2022-04-01  5d9fdbc2374be00001c00ea9   \n",
       "17337686 2021-08-01  5fee74dd3b75a50001ab9709   \n",
       "17337687 2022-05-01  6167b1cd129abf00011122c1   \n",
       "17337688 2021-06-01  5de2d9821d279d00018f60cb   \n",
       "\n",
       "                                       bundle_addons_sorted  \\\n",
       "0                                 advanced-dvr,third-screen   \n",
       "1                                              third-screen   \n",
       "2         4k-screen,advanced-dvr-1000,fubo-extra-lite,ne...   \n",
       "3                                 advanced-dvr,third-screen   \n",
       "5                                 advanced-dvr,third-screen   \n",
       "...                                                     ...   \n",
       "17337684  advanced-dvr-1000,fubo-extra-lite,third-screen...   \n",
       "17337685  advanced-dvr-1000,fubo-extra-lite,third-screen...   \n",
       "17337686  advanced-dvr-1000,fubo-extra-lite,third-screen...   \n",
       "17337687  advanced-dvr-1000,third-screen,unlimited-scree...   \n",
       "17337688  advanced-dvr-1000,fubo-extra-lite,third-screen...   \n",
       "\n",
       "                                              addons_sorted  \\\n",
       "0         advanced-dvr,intl-sports-plus,unlimited-screen...   \n",
       "1                                              third-screen   \n",
       "2         4k-screen,advanced-dvr-1000,fubo-extra-lite,ne...   \n",
       "3                                              third-screen   \n",
       "5         advanced-dvr,fubo-extra-lite,intl-sports-plus,...   \n",
       "...                                                     ...   \n",
       "17337684  advanced-dvr-1000,fubo-extra-lite,rsn-fee,thir...   \n",
       "17337685  advanced-dvr-1000,fubo-extra-lite,rsn-fee,thir...   \n",
       "17337686  advanced-dvr-1000,fubo-extra-lite,rsn-fee,thir...   \n",
       "17337687  advanced-dvr-1000,fubo-extra-lite,rsn-fee,thir...   \n",
       "17337688  advanced-dvr-1000,fubo-extra-lite,rsn-fee,thir...   \n",
       "\n",
       "                                           nonbundle_addons  \n",
       "0                    intl-sports-plus,unlimited-screen-home  \n",
       "1                                                            \n",
       "2                                                   rsn-fee  \n",
       "3                                                            \n",
       "5         intl-sports-plus,fubo-extra-lite,unlimited-scr...  \n",
       "...                                                     ...  \n",
       "17337684                                            rsn-fee  \n",
       "17337685                                            rsn-fee  \n",
       "17337686                                            rsn-fee  \n",
       "17337687                            fubo-extra-lite,rsn-fee  \n",
       "17337688                                            rsn-fee  \n",
       "\n",
       "[16336384 rows x 5 columns]"
      ]
     },
     "execution_count": 11,
     "metadata": {},
     "output_type": "execute_result"
    }
   ],
   "source": [
    "df"
   ]
  },
  {
   "cell_type": "markdown",
   "metadata": {},
   "source": [
    "#### Splitting new_addition column into additional columns and exploding them into individual rows"
   ]
  },
  {
   "cell_type": "code",
   "execution_count": 12,
   "metadata": {},
   "outputs": [],
   "source": [
    "df['nonbundle_addons'] = df['nonbundle_addons'].str.split(',')\n",
    "df = df.explode('nonbundle_addons').reset_index(drop=True)\n",
    "cols = list(df.columns)\n",
    "df = df[cols]"
   ]
  },
  {
   "cell_type": "code",
   "execution_count": 13,
   "metadata": {},
   "outputs": [
    {
     "name": "stdout",
     "output_type": "stream",
     "text": [
      "<class 'pandas.core.frame.DataFrame'>\n",
      "RangeIndex: 17748722 entries, 0 to 17748721\n",
      "Data columns (total 5 columns):\n",
      " #   Column                Dtype         \n",
      "---  ------                -----         \n",
      " 0   month                 datetime64[ns]\n",
      " 1   account_code          object        \n",
      " 2   bundle_addons_sorted  object        \n",
      " 3   addons_sorted         object        \n",
      " 4   nonbundle_addons      object        \n",
      "dtypes: datetime64[ns](1), object(4)\n",
      "memory usage: 677.1+ MB\n"
     ]
    }
   ],
   "source": [
    "df.info()"
   ]
  },
  {
   "cell_type": "code",
   "execution_count": 20,
   "metadata": {},
   "outputs": [
    {
     "data": {
      "text/html": [
       "<div>\n",
       "<style scoped>\n",
       "    .dataframe tbody tr th:only-of-type {\n",
       "        vertical-align: middle;\n",
       "    }\n",
       "\n",
       "    .dataframe tbody tr th {\n",
       "        vertical-align: top;\n",
       "    }\n",
       "\n",
       "    .dataframe thead th {\n",
       "        text-align: right;\n",
       "    }\n",
       "</style>\n",
       "<table border=\"1\" class=\"dataframe\">\n",
       "  <thead>\n",
       "    <tr style=\"text-align: right;\">\n",
       "      <th></th>\n",
       "      <th>month</th>\n",
       "      <th>account_code</th>\n",
       "      <th>bundle_addons_sorted</th>\n",
       "      <th>addons_sorted</th>\n",
       "      <th>nonbundle_addons</th>\n",
       "    </tr>\n",
       "  </thead>\n",
       "  <tbody>\n",
       "    <tr>\n",
       "      <th>0</th>\n",
       "      <td>2021-03-01</td>\n",
       "      <td>5d7fb49379bf5f000174717d</td>\n",
       "      <td>advanced-dvr,third-screen</td>\n",
       "      <td>advanced-dvr,intl-sports-plus,unlimited-screen...</td>\n",
       "      <td>intl-sports-plus</td>\n",
       "    </tr>\n",
       "    <tr>\n",
       "      <th>1</th>\n",
       "      <td>2021-03-01</td>\n",
       "      <td>5d7fb49379bf5f000174717d</td>\n",
       "      <td>advanced-dvr,third-screen</td>\n",
       "      <td>advanced-dvr,intl-sports-plus,unlimited-screen...</td>\n",
       "      <td>unlimited-screen-home</td>\n",
       "    </tr>\n",
       "    <tr>\n",
       "      <th>5</th>\n",
       "      <td>2021-12-01</td>\n",
       "      <td>57379de62ab90001002a6271</td>\n",
       "      <td>advanced-dvr,third-screen</td>\n",
       "      <td>advanced-dvr,fubo-extra-lite,intl-sports-plus,...</td>\n",
       "      <td>intl-sports-plus</td>\n",
       "    </tr>\n",
       "    <tr>\n",
       "      <th>6</th>\n",
       "      <td>2021-12-01</td>\n",
       "      <td>57379de62ab90001002a6271</td>\n",
       "      <td>advanced-dvr,third-screen</td>\n",
       "      <td>advanced-dvr,fubo-extra-lite,intl-sports-plus,...</td>\n",
       "      <td>fubo-extra-lite</td>\n",
       "    </tr>\n",
       "    <tr>\n",
       "      <th>7</th>\n",
       "      <td>2021-12-01</td>\n",
       "      <td>57379de62ab90001002a6271</td>\n",
       "      <td>advanced-dvr,third-screen</td>\n",
       "      <td>advanced-dvr,fubo-extra-lite,intl-sports-plus,...</td>\n",
       "      <td>unlimited-screen-home</td>\n",
       "    </tr>\n",
       "  </tbody>\n",
       "</table>\n",
       "</div>"
      ],
      "text/plain": [
       "       month              account_code       bundle_addons_sorted  \\\n",
       "0 2021-03-01  5d7fb49379bf5f000174717d  advanced-dvr,third-screen   \n",
       "1 2021-03-01  5d7fb49379bf5f000174717d  advanced-dvr,third-screen   \n",
       "5 2021-12-01  57379de62ab90001002a6271  advanced-dvr,third-screen   \n",
       "6 2021-12-01  57379de62ab90001002a6271  advanced-dvr,third-screen   \n",
       "7 2021-12-01  57379de62ab90001002a6271  advanced-dvr,third-screen   \n",
       "\n",
       "                                       addons_sorted       nonbundle_addons  \n",
       "0  advanced-dvr,intl-sports-plus,unlimited-screen...       intl-sports-plus  \n",
       "1  advanced-dvr,intl-sports-plus,unlimited-screen...  unlimited-screen-home  \n",
       "5  advanced-dvr,fubo-extra-lite,intl-sports-plus,...       intl-sports-plus  \n",
       "6  advanced-dvr,fubo-extra-lite,intl-sports-plus,...        fubo-extra-lite  \n",
       "7  advanced-dvr,fubo-extra-lite,intl-sports-plus,...  unlimited-screen-home  "
      ]
     },
     "execution_count": 20,
     "metadata": {},
     "output_type": "execute_result"
    }
   ],
   "source": [
    "df = df.drop(['addons_sorted', 'bundle_addons_sorted'], axis=1)"
   ]
  },
  {
   "cell_type": "code",
   "execution_count": 21,
   "metadata": {},
   "outputs": [],
   "source": [
    "df = df.drop_duplicates()"
   ]
  },
  {
   "cell_type": "code",
   "execution_count": 14,
   "metadata": {},
   "outputs": [
    {
     "name": "stdout",
     "output_type": "stream",
     "text": [
      "              month              account_code  \\\n",
      "0        2021-03-01  5d7fb49379bf5f000174717d   \n",
      "1        2021-03-01  5d7fb49379bf5f000174717d   \n",
      "2        2021-08-01  5b46489d1467cf4b8fe2a265   \n",
      "3        2022-05-01  6286e6b418025800015d35b6   \n",
      "4        2021-09-01  5f5c21d8e10f990001894919   \n",
      "...             ...                       ...   \n",
      "17748717 2022-04-01  5d9fdbc2374be00001c00ea9   \n",
      "17748718 2021-08-01  5fee74dd3b75a50001ab9709   \n",
      "17748719 2022-05-01  6167b1cd129abf00011122c1   \n",
      "17748720 2022-05-01  6167b1cd129abf00011122c1   \n",
      "17748721 2021-06-01  5de2d9821d279d00018f60cb   \n",
      "\n",
      "                                       bundle_addons_sorted  \\\n",
      "0                                 advanced-dvr,third-screen   \n",
      "1                                 advanced-dvr,third-screen   \n",
      "2                                              third-screen   \n",
      "3         4k-screen,advanced-dvr-1000,fubo-extra-lite,ne...   \n",
      "4                                 advanced-dvr,third-screen   \n",
      "...                                                     ...   \n",
      "17748717  advanced-dvr-1000,fubo-extra-lite,third-screen...   \n",
      "17748718  advanced-dvr-1000,fubo-extra-lite,third-screen...   \n",
      "17748719  advanced-dvr-1000,third-screen,unlimited-scree...   \n",
      "17748720  advanced-dvr-1000,third-screen,unlimited-scree...   \n",
      "17748721  advanced-dvr-1000,fubo-extra-lite,third-screen...   \n",
      "\n",
      "                                              addons_sorted  \\\n",
      "0         advanced-dvr,intl-sports-plus,unlimited-screen...   \n",
      "1         advanced-dvr,intl-sports-plus,unlimited-screen...   \n",
      "2                                              third-screen   \n",
      "3         4k-screen,advanced-dvr-1000,fubo-extra-lite,ne...   \n",
      "4                                              third-screen   \n",
      "...                                                     ...   \n",
      "17748717  advanced-dvr-1000,fubo-extra-lite,rsn-fee,thir...   \n",
      "17748718  advanced-dvr-1000,fubo-extra-lite,rsn-fee,thir...   \n",
      "17748719  advanced-dvr-1000,fubo-extra-lite,rsn-fee,thir...   \n",
      "17748720  advanced-dvr-1000,fubo-extra-lite,rsn-fee,thir...   \n",
      "17748721  advanced-dvr-1000,fubo-extra-lite,rsn-fee,thir...   \n",
      "\n",
      "               nonbundle_addons  \n",
      "0              intl-sports-plus  \n",
      "1         unlimited-screen-home  \n",
      "2                                \n",
      "3                       rsn-fee  \n",
      "4                                \n",
      "...                         ...  \n",
      "17748717                rsn-fee  \n",
      "17748718                rsn-fee  \n",
      "17748719        fubo-extra-lite  \n",
      "17748720                rsn-fee  \n",
      "17748721                rsn-fee  \n",
      "\n",
      "[17748722 rows x 5 columns]\n"
     ]
    }
   ],
   "source": [
    "print(df)"
   ]
  },
  {
   "cell_type": "code",
   "execution_count": 15,
   "metadata": {},
   "outputs": [
    {
     "data": {
      "text/html": [
       "<div>\n",
       "<style scoped>\n",
       "    .dataframe tbody tr th:only-of-type {\n",
       "        vertical-align: middle;\n",
       "    }\n",
       "\n",
       "    .dataframe tbody tr th {\n",
       "        vertical-align: top;\n",
       "    }\n",
       "\n",
       "    .dataframe thead th {\n",
       "        text-align: right;\n",
       "    }\n",
       "</style>\n",
       "<table border=\"1\" class=\"dataframe\">\n",
       "  <thead>\n",
       "    <tr style=\"text-align: right;\">\n",
       "      <th></th>\n",
       "      <th>month</th>\n",
       "      <th>account_code</th>\n",
       "      <th>bundle_addons_sorted</th>\n",
       "      <th>addons_sorted</th>\n",
       "      <th>nonbundle_addons</th>\n",
       "    </tr>\n",
       "  </thead>\n",
       "  <tbody>\n",
       "    <tr>\n",
       "      <th>0</th>\n",
       "      <td>2021-03-01</td>\n",
       "      <td>5d7fb49379bf5f000174717d</td>\n",
       "      <td>advanced-dvr,third-screen</td>\n",
       "      <td>advanced-dvr,intl-sports-plus,unlimited-screen...</td>\n",
       "      <td>intl-sports-plus</td>\n",
       "    </tr>\n",
       "    <tr>\n",
       "      <th>1</th>\n",
       "      <td>2021-03-01</td>\n",
       "      <td>5d7fb49379bf5f000174717d</td>\n",
       "      <td>advanced-dvr,third-screen</td>\n",
       "      <td>advanced-dvr,intl-sports-plus,unlimited-screen...</td>\n",
       "      <td>unlimited-screen-home</td>\n",
       "    </tr>\n",
       "    <tr>\n",
       "      <th>2</th>\n",
       "      <td>2021-08-01</td>\n",
       "      <td>5b46489d1467cf4b8fe2a265</td>\n",
       "      <td>third-screen</td>\n",
       "      <td>third-screen</td>\n",
       "      <td></td>\n",
       "    </tr>\n",
       "    <tr>\n",
       "      <th>3</th>\n",
       "      <td>2022-05-01</td>\n",
       "      <td>6286e6b418025800015d35b6</td>\n",
       "      <td>4k-screen,advanced-dvr-1000,fubo-extra-lite,ne...</td>\n",
       "      <td>4k-screen,advanced-dvr-1000,fubo-extra-lite,ne...</td>\n",
       "      <td>rsn-fee</td>\n",
       "    </tr>\n",
       "    <tr>\n",
       "      <th>4</th>\n",
       "      <td>2021-09-01</td>\n",
       "      <td>5f5c21d8e10f990001894919</td>\n",
       "      <td>advanced-dvr,third-screen</td>\n",
       "      <td>third-screen</td>\n",
       "      <td></td>\n",
       "    </tr>\n",
       "    <tr>\n",
       "      <th>...</th>\n",
       "      <td>...</td>\n",
       "      <td>...</td>\n",
       "      <td>...</td>\n",
       "      <td>...</td>\n",
       "      <td>...</td>\n",
       "    </tr>\n",
       "    <tr>\n",
       "      <th>17748717</th>\n",
       "      <td>2022-04-01</td>\n",
       "      <td>5d9fdbc2374be00001c00ea9</td>\n",
       "      <td>advanced-dvr-1000,fubo-extra-lite,third-screen...</td>\n",
       "      <td>advanced-dvr-1000,fubo-extra-lite,rsn-fee,thir...</td>\n",
       "      <td>rsn-fee</td>\n",
       "    </tr>\n",
       "    <tr>\n",
       "      <th>17748718</th>\n",
       "      <td>2021-08-01</td>\n",
       "      <td>5fee74dd3b75a50001ab9709</td>\n",
       "      <td>advanced-dvr-1000,fubo-extra-lite,third-screen...</td>\n",
       "      <td>advanced-dvr-1000,fubo-extra-lite,rsn-fee,thir...</td>\n",
       "      <td>rsn-fee</td>\n",
       "    </tr>\n",
       "    <tr>\n",
       "      <th>17748719</th>\n",
       "      <td>2022-05-01</td>\n",
       "      <td>6167b1cd129abf00011122c1</td>\n",
       "      <td>advanced-dvr-1000,third-screen,unlimited-scree...</td>\n",
       "      <td>advanced-dvr-1000,fubo-extra-lite,rsn-fee,thir...</td>\n",
       "      <td>fubo-extra-lite</td>\n",
       "    </tr>\n",
       "    <tr>\n",
       "      <th>17748720</th>\n",
       "      <td>2022-05-01</td>\n",
       "      <td>6167b1cd129abf00011122c1</td>\n",
       "      <td>advanced-dvr-1000,third-screen,unlimited-scree...</td>\n",
       "      <td>advanced-dvr-1000,fubo-extra-lite,rsn-fee,thir...</td>\n",
       "      <td>rsn-fee</td>\n",
       "    </tr>\n",
       "    <tr>\n",
       "      <th>17748721</th>\n",
       "      <td>2021-06-01</td>\n",
       "      <td>5de2d9821d279d00018f60cb</td>\n",
       "      <td>advanced-dvr-1000,fubo-extra-lite,third-screen...</td>\n",
       "      <td>advanced-dvr-1000,fubo-extra-lite,rsn-fee,thir...</td>\n",
       "      <td>rsn-fee</td>\n",
       "    </tr>\n",
       "  </tbody>\n",
       "</table>\n",
       "<p>17748722 rows × 5 columns</p>\n",
       "</div>"
      ],
      "text/plain": [
       "              month              account_code  \\\n",
       "0        2021-03-01  5d7fb49379bf5f000174717d   \n",
       "1        2021-03-01  5d7fb49379bf5f000174717d   \n",
       "2        2021-08-01  5b46489d1467cf4b8fe2a265   \n",
       "3        2022-05-01  6286e6b418025800015d35b6   \n",
       "4        2021-09-01  5f5c21d8e10f990001894919   \n",
       "...             ...                       ...   \n",
       "17748717 2022-04-01  5d9fdbc2374be00001c00ea9   \n",
       "17748718 2021-08-01  5fee74dd3b75a50001ab9709   \n",
       "17748719 2022-05-01  6167b1cd129abf00011122c1   \n",
       "17748720 2022-05-01  6167b1cd129abf00011122c1   \n",
       "17748721 2021-06-01  5de2d9821d279d00018f60cb   \n",
       "\n",
       "                                       bundle_addons_sorted  \\\n",
       "0                                 advanced-dvr,third-screen   \n",
       "1                                 advanced-dvr,third-screen   \n",
       "2                                              third-screen   \n",
       "3         4k-screen,advanced-dvr-1000,fubo-extra-lite,ne...   \n",
       "4                                 advanced-dvr,third-screen   \n",
       "...                                                     ...   \n",
       "17748717  advanced-dvr-1000,fubo-extra-lite,third-screen...   \n",
       "17748718  advanced-dvr-1000,fubo-extra-lite,third-screen...   \n",
       "17748719  advanced-dvr-1000,third-screen,unlimited-scree...   \n",
       "17748720  advanced-dvr-1000,third-screen,unlimited-scree...   \n",
       "17748721  advanced-dvr-1000,fubo-extra-lite,third-screen...   \n",
       "\n",
       "                                              addons_sorted  \\\n",
       "0         advanced-dvr,intl-sports-plus,unlimited-screen...   \n",
       "1         advanced-dvr,intl-sports-plus,unlimited-screen...   \n",
       "2                                              third-screen   \n",
       "3         4k-screen,advanced-dvr-1000,fubo-extra-lite,ne...   \n",
       "4                                              third-screen   \n",
       "...                                                     ...   \n",
       "17748717  advanced-dvr-1000,fubo-extra-lite,rsn-fee,thir...   \n",
       "17748718  advanced-dvr-1000,fubo-extra-lite,rsn-fee,thir...   \n",
       "17748719  advanced-dvr-1000,fubo-extra-lite,rsn-fee,thir...   \n",
       "17748720  advanced-dvr-1000,fubo-extra-lite,rsn-fee,thir...   \n",
       "17748721  advanced-dvr-1000,fubo-extra-lite,rsn-fee,thir...   \n",
       "\n",
       "               nonbundle_addons  \n",
       "0              intl-sports-plus  \n",
       "1         unlimited-screen-home  \n",
       "2                                \n",
       "3                       rsn-fee  \n",
       "4                                \n",
       "...                         ...  \n",
       "17748717                rsn-fee  \n",
       "17748718                rsn-fee  \n",
       "17748719        fubo-extra-lite  \n",
       "17748720                rsn-fee  \n",
       "17748721                rsn-fee  \n",
       "\n",
       "[17748722 rows x 5 columns]"
      ]
     },
     "execution_count": 15,
     "metadata": {},
     "output_type": "execute_result"
    }
   ],
   "source": [
    "df"
   ]
  },
  {
   "cell_type": "markdown",
   "metadata": {},
   "source": [
    "###### Remove RSN fee and blanks from the field"
   ]
  },
  {
   "cell_type": "code",
   "execution_count": 16,
   "metadata": {},
   "outputs": [],
   "source": [
    "df = df[df.nonbundle_addons != 'rsn-fee']\n",
    "df = df[df.nonbundle_addons != '']\n",
    "df = df[df.nonbundle_addons != \"\"]"
   ]
  },
  {
   "cell_type": "code",
   "execution_count": 128,
   "metadata": {},
   "outputs": [
    {
     "name": "stdout",
     "output_type": "stream",
     "text": [
      "<class 'pandas.core.frame.DataFrame'>\n",
      "Int64Index: 522 entries, 1 to 557\n",
      "Data columns (total 3 columns):\n",
      " #   Column            Non-Null Count  Dtype         \n",
      "---  ------            --------------  -----         \n",
      " 0   month             522 non-null    datetime64[ns]\n",
      " 1   nonbundle_addons  522 non-null    object        \n",
      " 2   account_code      522 non-null    int64         \n",
      "dtypes: datetime64[ns](1), int64(1), object(1)\n",
      "memory usage: 16.3+ KB\n"
     ]
    }
   ],
   "source": [
    "df.info()"
   ]
  },
  {
   "cell_type": "code",
   "execution_count": 22,
   "metadata": {},
   "outputs": [
    {
     "data": {
      "text/html": [
       "<div>\n",
       "<style scoped>\n",
       "    .dataframe tbody tr th:only-of-type {\n",
       "        vertical-align: middle;\n",
       "    }\n",
       "\n",
       "    .dataframe tbody tr th {\n",
       "        vertical-align: top;\n",
       "    }\n",
       "\n",
       "    .dataframe thead th {\n",
       "        text-align: right;\n",
       "    }\n",
       "</style>\n",
       "<table border=\"1\" class=\"dataframe\">\n",
       "  <thead>\n",
       "    <tr style=\"text-align: right;\">\n",
       "      <th></th>\n",
       "      <th>month</th>\n",
       "      <th>account_code</th>\n",
       "      <th>nonbundle_addons</th>\n",
       "    </tr>\n",
       "  </thead>\n",
       "  <tbody>\n",
       "    <tr>\n",
       "      <th>0</th>\n",
       "      <td>2021-03-01</td>\n",
       "      <td>5d7fb49379bf5f000174717d</td>\n",
       "      <td>intl-sports-plus</td>\n",
       "    </tr>\n",
       "    <tr>\n",
       "      <th>1</th>\n",
       "      <td>2021-03-01</td>\n",
       "      <td>5d7fb49379bf5f000174717d</td>\n",
       "      <td>unlimited-screen-home</td>\n",
       "    </tr>\n",
       "    <tr>\n",
       "      <th>5</th>\n",
       "      <td>2021-12-01</td>\n",
       "      <td>57379de62ab90001002a6271</td>\n",
       "      <td>intl-sports-plus</td>\n",
       "    </tr>\n",
       "    <tr>\n",
       "      <th>6</th>\n",
       "      <td>2021-12-01</td>\n",
       "      <td>57379de62ab90001002a6271</td>\n",
       "      <td>fubo-extra-lite</td>\n",
       "    </tr>\n",
       "    <tr>\n",
       "      <th>7</th>\n",
       "      <td>2021-12-01</td>\n",
       "      <td>57379de62ab90001002a6271</td>\n",
       "      <td>unlimited-screen-home</td>\n",
       "    </tr>\n",
       "  </tbody>\n",
       "</table>\n",
       "</div>"
      ],
      "text/plain": [
       "       month              account_code       nonbundle_addons\n",
       "0 2021-03-01  5d7fb49379bf5f000174717d       intl-sports-plus\n",
       "1 2021-03-01  5d7fb49379bf5f000174717d  unlimited-screen-home\n",
       "5 2021-12-01  57379de62ab90001002a6271       intl-sports-plus\n",
       "6 2021-12-01  57379de62ab90001002a6271        fubo-extra-lite\n",
       "7 2021-12-01  57379de62ab90001002a6271  unlimited-screen-home"
      ]
     },
     "execution_count": 22,
     "metadata": {},
     "output_type": "execute_result"
    }
   ],
   "source": [
    "df.head()"
   ]
  },
  {
   "cell_type": "markdown",
   "metadata": {},
   "source": [
    "###### COnverting timestamp to Date"
   ]
  },
  {
   "cell_type": "code",
   "execution_count": 25,
   "metadata": {},
   "outputs": [],
   "source": [
    "df['month'] = pd.to_datetime(df['month'], format=\"%Y/%m/%d\").dt.date"
   ]
  },
  {
   "cell_type": "code",
   "execution_count": 26,
   "metadata": {},
   "outputs": [
    {
     "data": {
      "text/plain": [
       "month               object\n",
       "account_code        object\n",
       "nonbundle_addons    object\n",
       "dtype: object"
      ]
     },
     "execution_count": 26,
     "metadata": {},
     "output_type": "execute_result"
    }
   ],
   "source": [
    "df.dtypes"
   ]
  },
  {
   "cell_type": "markdown",
   "metadata": {},
   "source": [
    "#### Account code level Table"
   ]
  },
  {
   "cell_type": "code",
   "execution_count": 28,
   "metadata": {},
   "outputs": [],
   "source": [
    "df.to_gbq ( destination_table='business_analytics.temp_nonbundle_addon_account_code', project_id= 'fubotv-dev', if_exists= 'replace', table_schema = [{'name':'month','type': 'DATE'}])"
   ]
  },
  {
   "cell_type": "markdown",
   "metadata": {},
   "source": [
    "#### Aggregating by month and new_addition to count distinct account_code"
   ]
  },
  {
   "cell_type": "code",
   "execution_count": 29,
   "metadata": {},
   "outputs": [],
   "source": [
    "df = df.groupby(['month', 'nonbundle_addons'],  as_index=False ).agg({'account_code': 'nunique'})"
   ]
  },
  {
   "cell_type": "code",
   "execution_count": 30,
   "metadata": {},
   "outputs": [],
   "source": [
    "df.to_gbq ( destination_table='business_analytics.temp_nonbundle_addon_counts', project_id= 'fubotv-dev', if_exists= 'replace', table_schema = [{'name':'month','type': 'DATE'}])"
   ]
  }
 ],
 "metadata": {
  "interpreter": {
   "hash": "0974d6d4526877ac03092eddf71329aa51a4904723e66e5891e6e45546228747"
  },
  "kernelspec": {
   "display_name": "Python 3 (ipykernel)",
   "language": "python",
   "name": "python3"
  },
  "language_info": {
   "codemirror_mode": {
    "name": "ipython",
    "version": 3
   },
   "file_extension": ".py",
   "mimetype": "text/x-python",
   "name": "python",
   "nbconvert_exporter": "python",
   "pygments_lexer": "ipython3",
   "version": "3.7.13"
  }
 },
 "nbformat": 4,
 "nbformat_minor": 4
}
