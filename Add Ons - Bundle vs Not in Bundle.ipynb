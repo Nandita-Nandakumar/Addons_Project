{
 "cells": [
  {
   "cell_type": "code",
   "execution_count": 6,
   "metadata": {},
   "outputs": [],
   "source": [
    "import pandas as pd\n",
    "from pandas.io import gbq\n",
    "import numpy as np\n",
    "import os\n",
    "import glob\n",
    "import re"
   ]
  },
  {
   "cell_type": "code",
   "execution_count": 7,
   "metadata": {},
   "outputs": [],
   "source": [
    "import pydata_google_auth"
   ]
  },
  {
   "cell_type": "code",
   "execution_count": 8,
   "metadata": {},
   "outputs": [],
   "source": [
    "    connect_bq = [\n",
    "        'https://www.googleapis.com/auth/cloud-platform',\n",
    "        'https://www.googleapis.com/auth/drive',\n",
    "    ]\n",
    "\n",
    "    credentials = pydata_google_auth.get_user_credentials(\n",
    "        connect_bq,\n",
    "        auth_local_webserver=True,\n",
    "    )"
   ]
  },
  {
   "cell_type": "markdown",
   "metadata": {},
   "source": [
    "#### Query that retrieves add_ons per user for a month and the add ons that a bundle has"
   ]
  },
  {
   "cell_type": "code",
   "execution_count": 9,
   "metadata": {},
   "outputs": [],
   "source": [
    "sql_query = \"\"\"\n",
    "CREATE TEMP FUNCTION STRING_DEDUP(str STRING) AS (\n",
    "(SELECT STRING_AGG(item ORDER BY item) FROM (\n",
    "SELECT DISTINCT item FROM UNNEST(SPLIT(str)) item \n",
    ")) \n",
    ");\n",
    "----------------------------------------------------------------------------------------------------------------------\n",
    "with daily_status as (\n",
    "Select * , DATE_TRUNC(day, month) as change_month\n",
    "from `fubotv-prod.data_insights.daily_status_static_update` t1\n",
    "where final_status_restated like '%paid%'\n",
    "and day >= '2021-01-01'\n",
    "AND day <= current_date()-1\n",
    "),\n",
    "add_on as (\n",
    "select account_code, change_month, STRING_DEDUP(add_ons) as addons_sorted,STRING_DEDUP(bundle_add_on_list) as bundle_addons_sorted\n",
    "FROM daily_status\n",
    ")\n",
    "select DISTINCT change_month, account_code, bundle_addons_sorted, addons_sorted\n",
    "from add_on\n",
    "\"\"\""
   ]
  },
  {
   "cell_type": "code",
   "execution_count": 10,
   "metadata": {},
   "outputs": [],
   "source": [
    "df = pd.read_gbq(\n",
    "    sql_query,\n",
    "    project_id='fubotv-prod',\n",
    "    credentials=credentials,\n",
    ")"
   ]
  },
  {
   "cell_type": "markdown",
   "metadata": {},
   "source": [
    "#### Checking / Housekeeping"
   ]
  },
  {
   "cell_type": "code",
   "execution_count": 11,
   "metadata": {},
   "outputs": [
    {
     "data": {
      "text/html": [
       "<div>\n",
       "<style scoped>\n",
       "    .dataframe tbody tr th:only-of-type {\n",
       "        vertical-align: middle;\n",
       "    }\n",
       "\n",
       "    .dataframe tbody tr th {\n",
       "        vertical-align: top;\n",
       "    }\n",
       "\n",
       "    .dataframe thead th {\n",
       "        text-align: right;\n",
       "    }\n",
       "</style>\n",
       "<table border=\"1\" class=\"dataframe\">\n",
       "  <thead>\n",
       "    <tr style=\"text-align: right;\">\n",
       "      <th></th>\n",
       "      <th>change_month</th>\n",
       "      <th>account_code</th>\n",
       "      <th>bundle_addons_sorted</th>\n",
       "      <th>addons_sorted</th>\n",
       "    </tr>\n",
       "  </thead>\n",
       "  <tbody>\n",
       "    <tr>\n",
       "      <th>0</th>\n",
       "      <td>2021-06-01</td>\n",
       "      <td>5ffb441aa597bb00016ed4b2</td>\n",
       "      <td>advanced-dvr-1000,fubo-extra-lite,third-screen...</td>\n",
       "      <td>advanced-dvr-1000,deportes,fubo-extra-lite,thi...</td>\n",
       "    </tr>\n",
       "    <tr>\n",
       "      <th>1</th>\n",
       "      <td>2021-06-01</td>\n",
       "      <td>60b27fe0b8af80000110b216</td>\n",
       "      <td>advanced-dvr-1000,fubo-extra-lite,third-screen...</td>\n",
       "      <td>advanced-dvr-1000,fubo-extra-lite,starz-epix-s...</td>\n",
       "    </tr>\n",
       "    <tr>\n",
       "      <th>2</th>\n",
       "      <td>2022-03-01</td>\n",
       "      <td>5f6fc190137e190001d3de31</td>\n",
       "      <td>advanced-dvr-250,third-screen</td>\n",
       "      <td>advanced-dvr-250,intl-sports-plus,third-screen</td>\n",
       "    </tr>\n",
       "    <tr>\n",
       "      <th>3</th>\n",
       "      <td>2021-11-01</td>\n",
       "      <td>61551bcc2bd3490001f08797</td>\n",
       "      <td>advanced-dvr-250,third-screen</td>\n",
       "      <td>advanced-dvr-250,adventure,third-screen</td>\n",
       "    </tr>\n",
       "    <tr>\n",
       "      <th>4</th>\n",
       "      <td>2021-06-01</td>\n",
       "      <td>5cb916477d68180009005d8a</td>\n",
       "      <td>None</td>\n",
       "      <td>deportes,fubo-extra-lite-preview</td>\n",
       "    </tr>\n",
       "  </tbody>\n",
       "</table>\n",
       "</div>"
      ],
      "text/plain": [
       "  change_month              account_code  \\\n",
       "0   2021-06-01  5ffb441aa597bb00016ed4b2   \n",
       "1   2021-06-01  60b27fe0b8af80000110b216   \n",
       "2   2022-03-01  5f6fc190137e190001d3de31   \n",
       "3   2021-11-01  61551bcc2bd3490001f08797   \n",
       "4   2021-06-01  5cb916477d68180009005d8a   \n",
       "\n",
       "                                bundle_addons_sorted  \\\n",
       "0  advanced-dvr-1000,fubo-extra-lite,third-screen...   \n",
       "1  advanced-dvr-1000,fubo-extra-lite,third-screen...   \n",
       "2                      advanced-dvr-250,third-screen   \n",
       "3                      advanced-dvr-250,third-screen   \n",
       "4                                               None   \n",
       "\n",
       "                                       addons_sorted  \n",
       "0  advanced-dvr-1000,deportes,fubo-extra-lite,thi...  \n",
       "1  advanced-dvr-1000,fubo-extra-lite,starz-epix-s...  \n",
       "2     advanced-dvr-250,intl-sports-plus,third-screen  \n",
       "3            advanced-dvr-250,adventure,third-screen  \n",
       "4                   deportes,fubo-extra-lite-preview  "
      ]
     },
     "execution_count": 11,
     "metadata": {},
     "output_type": "execute_result"
    }
   ],
   "source": [
    "df.head()"
   ]
  },
  {
   "cell_type": "code",
   "execution_count": 12,
   "metadata": {},
   "outputs": [
    {
     "name": "stdout",
     "output_type": "stream",
     "text": [
      "<class 'pandas.core.frame.DataFrame'>\n",
      "RangeIndex: 18296490 entries, 0 to 18296489\n",
      "Data columns (total 4 columns):\n",
      " #   Column                Dtype         \n",
      "---  ------                -----         \n",
      " 0   change_month          datetime64[ns]\n",
      " 1   account_code          object        \n",
      " 2   bundle_addons_sorted  object        \n",
      " 3   addons_sorted         object        \n",
      "dtypes: datetime64[ns](1), object(3)\n",
      "memory usage: 558.4+ MB\n"
     ]
    }
   ],
   "source": [
    "df.info()"
   ]
  },
  {
   "cell_type": "markdown",
   "metadata": {},
   "source": [
    "##### Replace null with blanks to ensure edge cases are accounted for"
   ]
  },
  {
   "cell_type": "code",
   "execution_count": 13,
   "metadata": {},
   "outputs": [],
   "source": [
    "df = df.fillna(\" \")"
   ]
  },
  {
   "cell_type": "code",
   "execution_count": 14,
   "metadata": {},
   "outputs": [
    {
     "name": "stdout",
     "output_type": "stream",
     "text": [
      "<class 'pandas.core.frame.DataFrame'>\n",
      "RangeIndex: 18296490 entries, 0 to 18296489\n",
      "Data columns (total 4 columns):\n",
      " #   Column                Dtype         \n",
      "---  ------                -----         \n",
      " 0   change_month          datetime64[ns]\n",
      " 1   account_code          object        \n",
      " 2   bundle_addons_sorted  object        \n",
      " 3   addons_sorted         object        \n",
      "dtypes: datetime64[ns](1), object(3)\n",
      "memory usage: 558.4+ MB\n"
     ]
    }
   ],
   "source": [
    "df.info()"
   ]
  },
  {
   "cell_type": "markdown",
   "metadata": {},
   "source": [
    "##### Comparing bundle add_ons to the add_ons field and identifying the difference between these two fields and joining each add_on by a comma to a new field called new_addition"
   ]
  },
  {
   "cell_type": "code",
   "execution_count": 16,
   "metadata": {},
   "outputs": [],
   "source": [
    "df['new_addition'] = [','.join(set(n.split(',')) - set(o.split(','))) \n",
    "                                                          for o, n in zip(df.bundle_addons_sorted, df.addons_sorted)]"
   ]
  },
  {
   "cell_type": "code",
   "execution_count": 17,
   "metadata": {},
   "outputs": [
    {
     "data": {
      "text/html": [
       "<div>\n",
       "<style scoped>\n",
       "    .dataframe tbody tr th:only-of-type {\n",
       "        vertical-align: middle;\n",
       "    }\n",
       "\n",
       "    .dataframe tbody tr th {\n",
       "        vertical-align: top;\n",
       "    }\n",
       "\n",
       "    .dataframe thead th {\n",
       "        text-align: right;\n",
       "    }\n",
       "</style>\n",
       "<table border=\"1\" class=\"dataframe\">\n",
       "  <thead>\n",
       "    <tr style=\"text-align: right;\">\n",
       "      <th></th>\n",
       "      <th>change_month</th>\n",
       "      <th>account_code</th>\n",
       "      <th>bundle_addons_sorted</th>\n",
       "      <th>addons_sorted</th>\n",
       "      <th>new_addition</th>\n",
       "    </tr>\n",
       "  </thead>\n",
       "  <tbody>\n",
       "    <tr>\n",
       "      <th>0</th>\n",
       "      <td>2021-06-01</td>\n",
       "      <td>5ffb441aa597bb00016ed4b2</td>\n",
       "      <td>advanced-dvr-1000,fubo-extra-lite,third-screen...</td>\n",
       "      <td>advanced-dvr-1000,deportes,fubo-extra-lite,thi...</td>\n",
       "      <td>deportes</td>\n",
       "    </tr>\n",
       "    <tr>\n",
       "      <th>1</th>\n",
       "      <td>2021-06-01</td>\n",
       "      <td>60b27fe0b8af80000110b216</td>\n",
       "      <td>advanced-dvr-1000,fubo-extra-lite,third-screen...</td>\n",
       "      <td>advanced-dvr-1000,fubo-extra-lite,starz-epix-s...</td>\n",
       "      <td>starz-epix-showtime</td>\n",
       "    </tr>\n",
       "    <tr>\n",
       "      <th>2</th>\n",
       "      <td>2022-03-01</td>\n",
       "      <td>5f6fc190137e190001d3de31</td>\n",
       "      <td>advanced-dvr-250,third-screen</td>\n",
       "      <td>advanced-dvr-250,intl-sports-plus,third-screen</td>\n",
       "      <td>intl-sports-plus</td>\n",
       "    </tr>\n",
       "    <tr>\n",
       "      <th>3</th>\n",
       "      <td>2021-11-01</td>\n",
       "      <td>61551bcc2bd3490001f08797</td>\n",
       "      <td>advanced-dvr-250,third-screen</td>\n",
       "      <td>advanced-dvr-250,adventure,third-screen</td>\n",
       "      <td>adventure</td>\n",
       "    </tr>\n",
       "    <tr>\n",
       "      <th>4</th>\n",
       "      <td>2021-06-01</td>\n",
       "      <td>5cb916477d68180009005d8a</td>\n",
       "      <td></td>\n",
       "      <td>deportes,fubo-extra-lite-preview</td>\n",
       "      <td>deportes,fubo-extra-lite-preview</td>\n",
       "    </tr>\n",
       "    <tr>\n",
       "      <th>...</th>\n",
       "      <td>...</td>\n",
       "      <td>...</td>\n",
       "      <td>...</td>\n",
       "      <td>...</td>\n",
       "      <td>...</td>\n",
       "    </tr>\n",
       "    <tr>\n",
       "      <th>18296485</th>\n",
       "      <td>2022-06-01</td>\n",
       "      <td>609604d1920bc2000111b0d2</td>\n",
       "      <td>advanced-dvr-1000,fubo-extra-lite,third-screen...</td>\n",
       "      <td>advanced-dvr-1000,fubo-extra-lite,rsn-fee,thir...</td>\n",
       "      <td>rsn-fee</td>\n",
       "    </tr>\n",
       "    <tr>\n",
       "      <th>18296486</th>\n",
       "      <td>2022-02-01</td>\n",
       "      <td>61860a1ff1a5510001698c3f</td>\n",
       "      <td>advanced-dvr-1000,fubo-extra-lite,third-screen...</td>\n",
       "      <td>advanced-dvr-1000,fubo-extra-lite,rsn-fee,thir...</td>\n",
       "      <td>rsn-fee</td>\n",
       "    </tr>\n",
       "    <tr>\n",
       "      <th>18296487</th>\n",
       "      <td>2022-02-01</td>\n",
       "      <td>60aacfc53458b60001ae518d</td>\n",
       "      <td>advanced-dvr-1000,fubo-extra-lite,third-screen...</td>\n",
       "      <td>advanced-dvr-1000,fubo-extra-lite,rsn-fee,thir...</td>\n",
       "      <td>rsn-fee</td>\n",
       "    </tr>\n",
       "    <tr>\n",
       "      <th>18296488</th>\n",
       "      <td>2021-11-01</td>\n",
       "      <td>60c5027ebee73400014a1603</td>\n",
       "      <td>advanced-dvr-1000,fubo-extra-lite,third-screen...</td>\n",
       "      <td>advanced-dvr-1000,fubo-extra-lite,rsn-fee,thir...</td>\n",
       "      <td>rsn-fee</td>\n",
       "    </tr>\n",
       "    <tr>\n",
       "      <th>18296489</th>\n",
       "      <td>2022-02-01</td>\n",
       "      <td>600ccf2001d46400017e6296</td>\n",
       "      <td>advanced-dvr-1000,fubo-extra-lite,third-screen...</td>\n",
       "      <td>advanced-dvr-1000,fubo-extra-lite,rsn-fee,thir...</td>\n",
       "      <td>rsn-fee</td>\n",
       "    </tr>\n",
       "  </tbody>\n",
       "</table>\n",
       "<p>18296490 rows × 5 columns</p>\n",
       "</div>"
      ],
      "text/plain": [
       "         change_month              account_code  \\\n",
       "0          2021-06-01  5ffb441aa597bb00016ed4b2   \n",
       "1          2021-06-01  60b27fe0b8af80000110b216   \n",
       "2          2022-03-01  5f6fc190137e190001d3de31   \n",
       "3          2021-11-01  61551bcc2bd3490001f08797   \n",
       "4          2021-06-01  5cb916477d68180009005d8a   \n",
       "...               ...                       ...   \n",
       "18296485   2022-06-01  609604d1920bc2000111b0d2   \n",
       "18296486   2022-02-01  61860a1ff1a5510001698c3f   \n",
       "18296487   2022-02-01  60aacfc53458b60001ae518d   \n",
       "18296488   2021-11-01  60c5027ebee73400014a1603   \n",
       "18296489   2022-02-01  600ccf2001d46400017e6296   \n",
       "\n",
       "                                       bundle_addons_sorted  \\\n",
       "0         advanced-dvr-1000,fubo-extra-lite,third-screen...   \n",
       "1         advanced-dvr-1000,fubo-extra-lite,third-screen...   \n",
       "2                             advanced-dvr-250,third-screen   \n",
       "3                             advanced-dvr-250,third-screen   \n",
       "4                                                             \n",
       "...                                                     ...   \n",
       "18296485  advanced-dvr-1000,fubo-extra-lite,third-screen...   \n",
       "18296486  advanced-dvr-1000,fubo-extra-lite,third-screen...   \n",
       "18296487  advanced-dvr-1000,fubo-extra-lite,third-screen...   \n",
       "18296488  advanced-dvr-1000,fubo-extra-lite,third-screen...   \n",
       "18296489  advanced-dvr-1000,fubo-extra-lite,third-screen...   \n",
       "\n",
       "                                              addons_sorted  \\\n",
       "0         advanced-dvr-1000,deportes,fubo-extra-lite,thi...   \n",
       "1         advanced-dvr-1000,fubo-extra-lite,starz-epix-s...   \n",
       "2            advanced-dvr-250,intl-sports-plus,third-screen   \n",
       "3                   advanced-dvr-250,adventure,third-screen   \n",
       "4                          deportes,fubo-extra-lite-preview   \n",
       "...                                                     ...   \n",
       "18296485  advanced-dvr-1000,fubo-extra-lite,rsn-fee,thir...   \n",
       "18296486  advanced-dvr-1000,fubo-extra-lite,rsn-fee,thir...   \n",
       "18296487  advanced-dvr-1000,fubo-extra-lite,rsn-fee,thir...   \n",
       "18296488  advanced-dvr-1000,fubo-extra-lite,rsn-fee,thir...   \n",
       "18296489  advanced-dvr-1000,fubo-extra-lite,rsn-fee,thir...   \n",
       "\n",
       "                              new_addition  \n",
       "0                                 deportes  \n",
       "1                      starz-epix-showtime  \n",
       "2                         intl-sports-plus  \n",
       "3                                adventure  \n",
       "4         deportes,fubo-extra-lite-preview  \n",
       "...                                    ...  \n",
       "18296485                           rsn-fee  \n",
       "18296486                           rsn-fee  \n",
       "18296487                           rsn-fee  \n",
       "18296488                           rsn-fee  \n",
       "18296489                           rsn-fee  \n",
       "\n",
       "[18296490 rows x 5 columns]"
      ]
     },
     "execution_count": 17,
     "metadata": {},
     "output_type": "execute_result"
    }
   ],
   "source": [
    "df"
   ]
  },
  {
   "cell_type": "markdown",
   "metadata": {},
   "source": [
    "#### Splitting new_addition column into additional columns and exploding them into individual rows"
   ]
  },
  {
   "cell_type": "code",
   "execution_count": 18,
   "metadata": {},
   "outputs": [],
   "source": [
    "df['new_addition'] = df['new_addition'].str.split(',')\n",
    "df = df.explode('new_addition').reset_index(drop=True)\n",
    "cols = list(df.columns)\n",
    "df = df[cols]"
   ]
  },
  {
   "cell_type": "code",
   "execution_count": null,
   "metadata": {},
   "outputs": [],
   "source": [
    "df.info()"
   ]
  },
  {
   "cell_type": "code",
   "execution_count": null,
   "metadata": {},
   "outputs": [],
   "source": [
    "df.head()"
   ]
  },
  {
   "cell_type": "code",
   "execution_count": null,
   "metadata": {},
   "outputs": [],
   "source": [
    "df = df.drop(['addons_sorted', 'bundle_addons_sorted'], axis=1)"
   ]
  },
  {
   "cell_type": "code",
   "execution_count": null,
   "metadata": {},
   "outputs": [],
   "source": [
    "df"
   ]
  },
  {
   "cell_type": "code",
   "execution_count": null,
   "metadata": {},
   "outputs": [],
   "source": [
    "df = df.drop_duplicates()"
   ]
  },
  {
   "cell_type": "code",
   "execution_count": null,
   "metadata": {},
   "outputs": [],
   "source": [
    "df"
   ]
  },
  {
   "cell_type": "markdown",
   "metadata": {},
   "source": [
    "#### Aggregating by month and new_addition to count distinct account_code"
   ]
  },
  {
   "cell_type": "code",
   "execution_count": null,
   "metadata": {},
   "outputs": [],
   "source": [
    "df = df.groupby(['change_month', 'new_addition'],  as_index=False ).agg({'account_code': 'nunique'})"
   ]
  },
  {
   "cell_type": "code",
   "execution_count": null,
   "metadata": {},
   "outputs": [],
   "source": [
    "print(df)"
   ]
  },
  {
   "cell_type": "code",
   "execution_count": null,
   "metadata": {},
   "outputs": [],
   "source": [
    "df.to_csv('/Users/nanditanandakumar/Dropbox (fuboTV)/Business Analytics/Team/Nandita/Git/Addons_Project/Count of Users per Add On - By Month.csv', index =False)"
   ]
  }
 ],
 "metadata": {
  "interpreter": {
   "hash": "0974d6d4526877ac03092eddf71329aa51a4904723e66e5891e6e45546228747"
  },
  "kernelspec": {
   "display_name": "Python 3 (ipykernel)",
   "language": "python",
   "name": "python3"
  },
  "language_info": {
   "codemirror_mode": {
    "name": "ipython",
    "version": 3
   },
   "file_extension": ".py",
   "mimetype": "text/x-python",
   "name": "python",
   "nbconvert_exporter": "python",
   "pygments_lexer": "ipython3",
   "version": "3.7.13"
  }
 },
 "nbformat": 4,
 "nbformat_minor": 4
}
