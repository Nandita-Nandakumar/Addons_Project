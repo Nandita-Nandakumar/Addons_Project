{
 "cells": [
  {
   "cell_type": "code",
   "execution_count": 1,
   "metadata": {},
   "outputs": [],
   "source": [
    "import pandas as pd\n",
    "from pandas.io import gbq\n",
    "import numpy as np\n",
    "import os\n",
    "import glob\n",
    "import re"
   ]
  },
  {
   "cell_type": "code",
   "execution_count": 2,
   "metadata": {},
   "outputs": [],
   "source": [
    "import pydata_google_auth"
   ]
  },
  {
   "cell_type": "code",
   "execution_count": 3,
   "metadata": {},
   "outputs": [],
   "source": [
    "    connect_bq = [\n",
    "        'https://www.googleapis.com/auth/cloud-platform',\n",
    "        'https://www.googleapis.com/auth/drive',\n",
    "    ]\n",
    "\n",
    "    credentials = pydata_google_auth.get_user_credentials(\n",
    "        connect_bq,\n",
    "        auth_local_webserver=True,\n",
    "    )"
   ]
  },
  {
   "cell_type": "markdown",
   "metadata": {},
   "source": [
    "#### Query that retrieves add_ons per user for a month and the add ons that a bundle has"
   ]
  },
  {
   "cell_type": "code",
   "execution_count": 4,
   "metadata": {},
   "outputs": [],
   "source": [
    "sql_query = \"\"\"\n",
    "CREATE TEMP FUNCTION STRING_DEDUP(str STRING) AS (\n",
    "(SELECT STRING_AGG(item ORDER BY item) FROM (\n",
    "SELECT DISTINCT item FROM UNNEST(SPLIT(str)) item \n",
    ")) \n",
    ");\n",
    "----------------------------------------------------------------------------------------------------------------------\n",
    "with daily_status as (\n",
    "Select * , DATE_TRUNC(day, month) as change_month\n",
    "from `fubotv-prod.data_insights.daily_status_static_update` t1\n",
    "where final_status_restated like '%paid%'\n",
    "and day >= '2021-01-01'\n",
    "AND day <= current_date()-1\n",
    "),\n",
    "add_on as (\n",
    "select account_code, change_month, STRING_DEDUP(add_ons) as addons_sorted,STRING_DEDUP(bundle_add_on_list) as bundle_addons_sorted\n",
    "FROM daily_status\n",
    ")\n",
    "select DISTINCT change_month, account_code, bundle_addons_sorted, addons_sorted\n",
    "from add_on\n",
    "\"\"\""
   ]
  },
  {
   "cell_type": "code",
   "execution_count": 6,
   "metadata": {},
   "outputs": [],
   "source": [
    "df = pd.read_gbq(\n",
    "    sql_query,\n",
    "    project_id='fubotv-prod',\n",
    "    credentials=credentials,\n",
    ")"
   ]
  },
  {
   "cell_type": "markdown",
   "metadata": {},
   "source": [
    "#### Checking / Housekeeping"
   ]
  },
  {
   "cell_type": "code",
   "execution_count": 7,
   "metadata": {},
   "outputs": [
    {
     "data": {
      "text/html": [
       "<div>\n",
       "<style scoped>\n",
       "    .dataframe tbody tr th:only-of-type {\n",
       "        vertical-align: middle;\n",
       "    }\n",
       "\n",
       "    .dataframe tbody tr th {\n",
       "        vertical-align: top;\n",
       "    }\n",
       "\n",
       "    .dataframe thead th {\n",
       "        text-align: right;\n",
       "    }\n",
       "</style>\n",
       "<table border=\"1\" class=\"dataframe\">\n",
       "  <thead>\n",
       "    <tr style=\"text-align: right;\">\n",
       "      <th></th>\n",
       "      <th>change_month</th>\n",
       "      <th>account_code</th>\n",
       "      <th>bundle_addons_sorted</th>\n",
       "      <th>addons_sorted</th>\n",
       "    </tr>\n",
       "  </thead>\n",
       "  <tbody>\n",
       "    <tr>\n",
       "      <th>0</th>\n",
       "      <td>2021-05-01</td>\n",
       "      <td>5f35eea88374d800018a52d5</td>\n",
       "      <td>advanced-dvr,showtime,third-screen</td>\n",
       "      <td>advanced-dvr,showtime,third-screen</td>\n",
       "    </tr>\n",
       "    <tr>\n",
       "      <th>1</th>\n",
       "      <td>2021-12-01</td>\n",
       "      <td>5d29fdbbb021e30001f492ac</td>\n",
       "      <td>advanced-dvr-250,third-screen</td>\n",
       "      <td>advanced-dvr-250,adventure,third-screen</td>\n",
       "    </tr>\n",
       "    <tr>\n",
       "      <th>2</th>\n",
       "      <td>2021-01-01</td>\n",
       "      <td>5e167a959ff70b0001d582b6</td>\n",
       "      <td>advanced-dvr,third-screen</td>\n",
       "      <td>advanced-dvr,deportes,rsn-fee,third-screen,unl...</td>\n",
       "    </tr>\n",
       "    <tr>\n",
       "      <th>3</th>\n",
       "      <td>2022-06-01</td>\n",
       "      <td>6147ace4bad80c00014e68d0</td>\n",
       "      <td>advanced-dvr-1000,third-screen,unlimited-scree...</td>\n",
       "      <td>advanced-dvr-1000,epix,rsn-fee,starz,third-scr...</td>\n",
       "    </tr>\n",
       "    <tr>\n",
       "      <th>4</th>\n",
       "      <td>2021-12-01</td>\n",
       "      <td>607f603e62831a0001cf7a78</td>\n",
       "      <td>advanced-dvr-1000,fubo-extra-lite,third-screen...</td>\n",
       "      <td>advanced-dvr-1000,fubo-extra-lite,intl-sports-...</td>\n",
       "    </tr>\n",
       "  </tbody>\n",
       "</table>\n",
       "</div>"
      ],
      "text/plain": [
       "  change_month              account_code  \\\n",
       "0   2021-05-01  5f35eea88374d800018a52d5   \n",
       "1   2021-12-01  5d29fdbbb021e30001f492ac   \n",
       "2   2021-01-01  5e167a959ff70b0001d582b6   \n",
       "3   2022-06-01  6147ace4bad80c00014e68d0   \n",
       "4   2021-12-01  607f603e62831a0001cf7a78   \n",
       "\n",
       "                                bundle_addons_sorted  \\\n",
       "0                 advanced-dvr,showtime,third-screen   \n",
       "1                      advanced-dvr-250,third-screen   \n",
       "2                          advanced-dvr,third-screen   \n",
       "3  advanced-dvr-1000,third-screen,unlimited-scree...   \n",
       "4  advanced-dvr-1000,fubo-extra-lite,third-screen...   \n",
       "\n",
       "                                       addons_sorted  \n",
       "0                 advanced-dvr,showtime,third-screen  \n",
       "1            advanced-dvr-250,adventure,third-screen  \n",
       "2  advanced-dvr,deportes,rsn-fee,third-screen,unl...  \n",
       "3  advanced-dvr-1000,epix,rsn-fee,starz,third-scr...  \n",
       "4  advanced-dvr-1000,fubo-extra-lite,intl-sports-...  "
      ]
     },
     "execution_count": 7,
     "metadata": {},
     "output_type": "execute_result"
    }
   ],
   "source": [
    "df.head()"
   ]
  },
  {
   "cell_type": "code",
   "execution_count": 8,
   "metadata": {},
   "outputs": [
    {
     "name": "stdout",
     "output_type": "stream",
     "text": [
      "<class 'pandas.core.frame.DataFrame'>\n",
      "RangeIndex: 18296490 entries, 0 to 18296489\n",
      "Data columns (total 4 columns):\n",
      " #   Column                Dtype         \n",
      "---  ------                -----         \n",
      " 0   change_month          datetime64[ns]\n",
      " 1   account_code          object        \n",
      " 2   bundle_addons_sorted  object        \n",
      " 3   addons_sorted         object        \n",
      "dtypes: datetime64[ns](1), object(3)\n",
      "memory usage: 558.4+ MB\n"
     ]
    }
   ],
   "source": [
    "df.info()"
   ]
  },
  {
   "cell_type": "markdown",
   "metadata": {},
   "source": [
    "##### Remove nulls"
   ]
  },
  {
   "cell_type": "code",
   "execution_count": 9,
   "metadata": {},
   "outputs": [],
   "source": [
    "df = df.dropna()"
   ]
  },
  {
   "cell_type": "code",
   "execution_count": 10,
   "metadata": {},
   "outputs": [
    {
     "name": "stdout",
     "output_type": "stream",
     "text": [
      "<class 'pandas.core.frame.DataFrame'>\n",
      "Int64Index: 17269293 entries, 0 to 18296489\n",
      "Data columns (total 4 columns):\n",
      " #   Column                Dtype         \n",
      "---  ------                -----         \n",
      " 0   change_month          datetime64[ns]\n",
      " 1   account_code          object        \n",
      " 2   bundle_addons_sorted  object        \n",
      " 3   addons_sorted         object        \n",
      "dtypes: datetime64[ns](1), object(3)\n",
      "memory usage: 658.8+ MB\n"
     ]
    }
   ],
   "source": [
    "df.info()"
   ]
  },
  {
   "cell_type": "markdown",
   "metadata": {},
   "source": [
    "##### Comparing bundle add_ons to the add_ons field and identifying the difference between these two fields and joining each add_on by a comma to a new field called new_addition"
   ]
  },
  {
   "cell_type": "code",
   "execution_count": 11,
   "metadata": {},
   "outputs": [],
   "source": [
    "df['new_addition'] = [','.join(set(n.split(',')) - set(o.split(','))) \n",
    "                                                          for o, n in zip(df.bundle_addons_sorted, df.addons_sorted)]"
   ]
  },
  {
   "cell_type": "code",
   "execution_count": 12,
   "metadata": {},
   "outputs": [
    {
     "data": {
      "text/html": [
       "<div>\n",
       "<style scoped>\n",
       "    .dataframe tbody tr th:only-of-type {\n",
       "        vertical-align: middle;\n",
       "    }\n",
       "\n",
       "    .dataframe tbody tr th {\n",
       "        vertical-align: top;\n",
       "    }\n",
       "\n",
       "    .dataframe thead th {\n",
       "        text-align: right;\n",
       "    }\n",
       "</style>\n",
       "<table border=\"1\" class=\"dataframe\">\n",
       "  <thead>\n",
       "    <tr style=\"text-align: right;\">\n",
       "      <th></th>\n",
       "      <th>change_month</th>\n",
       "      <th>account_code</th>\n",
       "      <th>bundle_addons_sorted</th>\n",
       "      <th>addons_sorted</th>\n",
       "      <th>new_addition</th>\n",
       "    </tr>\n",
       "  </thead>\n",
       "  <tbody>\n",
       "    <tr>\n",
       "      <th>0</th>\n",
       "      <td>2021-05-01</td>\n",
       "      <td>5f35eea88374d800018a52d5</td>\n",
       "      <td>advanced-dvr,showtime,third-screen</td>\n",
       "      <td>advanced-dvr,showtime,third-screen</td>\n",
       "      <td></td>\n",
       "    </tr>\n",
       "    <tr>\n",
       "      <th>1</th>\n",
       "      <td>2021-12-01</td>\n",
       "      <td>5d29fdbbb021e30001f492ac</td>\n",
       "      <td>advanced-dvr-250,third-screen</td>\n",
       "      <td>advanced-dvr-250,adventure,third-screen</td>\n",
       "      <td>adventure</td>\n",
       "    </tr>\n",
       "    <tr>\n",
       "      <th>2</th>\n",
       "      <td>2021-01-01</td>\n",
       "      <td>5e167a959ff70b0001d582b6</td>\n",
       "      <td>advanced-dvr,third-screen</td>\n",
       "      <td>advanced-dvr,deportes,rsn-fee,third-screen,unl...</td>\n",
       "      <td>rsn-fee,deportes,unlimited-screen-home</td>\n",
       "    </tr>\n",
       "    <tr>\n",
       "      <th>3</th>\n",
       "      <td>2022-06-01</td>\n",
       "      <td>6147ace4bad80c00014e68d0</td>\n",
       "      <td>advanced-dvr-1000,third-screen,unlimited-scree...</td>\n",
       "      <td>advanced-dvr-1000,epix,rsn-fee,starz,third-scr...</td>\n",
       "      <td>rsn-fee,starz,epix</td>\n",
       "    </tr>\n",
       "    <tr>\n",
       "      <th>4</th>\n",
       "      <td>2021-12-01</td>\n",
       "      <td>607f603e62831a0001cf7a78</td>\n",
       "      <td>advanced-dvr-1000,fubo-extra-lite,third-screen...</td>\n",
       "      <td>advanced-dvr-1000,fubo-extra-lite,intl-sports-...</td>\n",
       "      <td>intl-sports-plus</td>\n",
       "    </tr>\n",
       "    <tr>\n",
       "      <th>...</th>\n",
       "      <td>...</td>\n",
       "      <td>...</td>\n",
       "      <td>...</td>\n",
       "      <td>...</td>\n",
       "      <td>...</td>\n",
       "    </tr>\n",
       "    <tr>\n",
       "      <th>18296485</th>\n",
       "      <td>2021-07-01</td>\n",
       "      <td>5e14eb4db0631800017e78c5</td>\n",
       "      <td>advanced-dvr-1000,fubo-extra-lite,third-screen...</td>\n",
       "      <td>advanced-dvr-1000,fubo-extra-lite,rsn-fee,thir...</td>\n",
       "      <td>rsn-fee</td>\n",
       "    </tr>\n",
       "    <tr>\n",
       "      <th>18296486</th>\n",
       "      <td>2022-01-01</td>\n",
       "      <td>5efe133a9ab22100017bc961</td>\n",
       "      <td>advanced-dvr-1000,fubo-extra-lite,third-screen...</td>\n",
       "      <td>advanced-dvr-1000,fubo-extra-lite,rsn-fee,thir...</td>\n",
       "      <td>rsn-fee</td>\n",
       "    </tr>\n",
       "    <tr>\n",
       "      <th>18296487</th>\n",
       "      <td>2022-03-01</td>\n",
       "      <td>61452815b8474700019dc2da</td>\n",
       "      <td>advanced-dvr-1000,fubo-extra-lite,third-screen...</td>\n",
       "      <td>advanced-dvr-1000,fubo-extra-lite,rsn-fee,thir...</td>\n",
       "      <td>rsn-fee</td>\n",
       "    </tr>\n",
       "    <tr>\n",
       "      <th>18296488</th>\n",
       "      <td>2022-04-01</td>\n",
       "      <td>5fe943971f58fc000198154e</td>\n",
       "      <td>advanced-dvr-1000,fubo-extra-lite,third-screen...</td>\n",
       "      <td>advanced-dvr-1000,fubo-extra-lite,rsn-fee,thir...</td>\n",
       "      <td>rsn-fee</td>\n",
       "    </tr>\n",
       "    <tr>\n",
       "      <th>18296489</th>\n",
       "      <td>2022-03-01</td>\n",
       "      <td>61197b9365069b00018be76d</td>\n",
       "      <td>advanced-dvr-1000,fubo-extra-lite,third-screen...</td>\n",
       "      <td>advanced-dvr-1000,fubo-extra-lite,rsn-fee,thir...</td>\n",
       "      <td>rsn-fee</td>\n",
       "    </tr>\n",
       "  </tbody>\n",
       "</table>\n",
       "<p>17269293 rows × 5 columns</p>\n",
       "</div>"
      ],
      "text/plain": [
       "         change_month              account_code  \\\n",
       "0          2021-05-01  5f35eea88374d800018a52d5   \n",
       "1          2021-12-01  5d29fdbbb021e30001f492ac   \n",
       "2          2021-01-01  5e167a959ff70b0001d582b6   \n",
       "3          2022-06-01  6147ace4bad80c00014e68d0   \n",
       "4          2021-12-01  607f603e62831a0001cf7a78   \n",
       "...               ...                       ...   \n",
       "18296485   2021-07-01  5e14eb4db0631800017e78c5   \n",
       "18296486   2022-01-01  5efe133a9ab22100017bc961   \n",
       "18296487   2022-03-01  61452815b8474700019dc2da   \n",
       "18296488   2022-04-01  5fe943971f58fc000198154e   \n",
       "18296489   2022-03-01  61197b9365069b00018be76d   \n",
       "\n",
       "                                       bundle_addons_sorted  \\\n",
       "0                        advanced-dvr,showtime,third-screen   \n",
       "1                             advanced-dvr-250,third-screen   \n",
       "2                                 advanced-dvr,third-screen   \n",
       "3         advanced-dvr-1000,third-screen,unlimited-scree...   \n",
       "4         advanced-dvr-1000,fubo-extra-lite,third-screen...   \n",
       "...                                                     ...   \n",
       "18296485  advanced-dvr-1000,fubo-extra-lite,third-screen...   \n",
       "18296486  advanced-dvr-1000,fubo-extra-lite,third-screen...   \n",
       "18296487  advanced-dvr-1000,fubo-extra-lite,third-screen...   \n",
       "18296488  advanced-dvr-1000,fubo-extra-lite,third-screen...   \n",
       "18296489  advanced-dvr-1000,fubo-extra-lite,third-screen...   \n",
       "\n",
       "                                              addons_sorted  \\\n",
       "0                        advanced-dvr,showtime,third-screen   \n",
       "1                   advanced-dvr-250,adventure,third-screen   \n",
       "2         advanced-dvr,deportes,rsn-fee,third-screen,unl...   \n",
       "3         advanced-dvr-1000,epix,rsn-fee,starz,third-scr...   \n",
       "4         advanced-dvr-1000,fubo-extra-lite,intl-sports-...   \n",
       "...                                                     ...   \n",
       "18296485  advanced-dvr-1000,fubo-extra-lite,rsn-fee,thir...   \n",
       "18296486  advanced-dvr-1000,fubo-extra-lite,rsn-fee,thir...   \n",
       "18296487  advanced-dvr-1000,fubo-extra-lite,rsn-fee,thir...   \n",
       "18296488  advanced-dvr-1000,fubo-extra-lite,rsn-fee,thir...   \n",
       "18296489  advanced-dvr-1000,fubo-extra-lite,rsn-fee,thir...   \n",
       "\n",
       "                                    new_addition  \n",
       "0                                                 \n",
       "1                                      adventure  \n",
       "2         rsn-fee,deportes,unlimited-screen-home  \n",
       "3                             rsn-fee,starz,epix  \n",
       "4                               intl-sports-plus  \n",
       "...                                          ...  \n",
       "18296485                                 rsn-fee  \n",
       "18296486                                 rsn-fee  \n",
       "18296487                                 rsn-fee  \n",
       "18296488                                 rsn-fee  \n",
       "18296489                                 rsn-fee  \n",
       "\n",
       "[17269293 rows x 5 columns]"
      ]
     },
     "execution_count": 12,
     "metadata": {},
     "output_type": "execute_result"
    }
   ],
   "source": [
    "df"
   ]
  },
  {
   "cell_type": "markdown",
   "metadata": {},
   "source": [
    "#### Splitting new_addition column into additional columns and exploding them into individual rows"
   ]
  },
  {
   "cell_type": "code",
   "execution_count": 14,
   "metadata": {},
   "outputs": [],
   "source": [
    "df['new_addition'] = df['new_addition'].str.split(',')\n",
    "df = df.explode('new_addition').reset_index(drop=True)\n",
    "cols = list(df.columns)\n",
    "df = df[cols]"
   ]
  },
  {
   "cell_type": "code",
   "execution_count": 15,
   "metadata": {},
   "outputs": [
    {
     "name": "stdout",
     "output_type": "stream",
     "text": [
      "<class 'pandas.core.frame.DataFrame'>\n",
      "RangeIndex: 18767739 entries, 0 to 18767738\n",
      "Data columns (total 5 columns):\n",
      " #   Column                Dtype         \n",
      "---  ------                -----         \n",
      " 0   change_month          datetime64[ns]\n",
      " 1   account_code          object        \n",
      " 2   bundle_addons_sorted  object        \n",
      " 3   addons_sorted         object        \n",
      " 4   new_addition          object        \n",
      "dtypes: datetime64[ns](1), object(4)\n",
      "memory usage: 715.9+ MB\n"
     ]
    }
   ],
   "source": [
    "df.info()"
   ]
  },
  {
   "cell_type": "code",
   "execution_count": 16,
   "metadata": {},
   "outputs": [],
   "source": [
    "df.to_csv('/Users/nanditanandakumar/Dropbox (fuboTV)/Business Analytics/Team/Nandita/Git/Add_Ons_Project/All data.csv', index =False)"
   ]
  },
  {
   "cell_type": "code",
   "execution_count": 17,
   "metadata": {},
   "outputs": [
    {
     "data": {
      "text/html": [
       "<div>\n",
       "<style scoped>\n",
       "    .dataframe tbody tr th:only-of-type {\n",
       "        vertical-align: middle;\n",
       "    }\n",
       "\n",
       "    .dataframe tbody tr th {\n",
       "        vertical-align: top;\n",
       "    }\n",
       "\n",
       "    .dataframe thead th {\n",
       "        text-align: right;\n",
       "    }\n",
       "</style>\n",
       "<table border=\"1\" class=\"dataframe\">\n",
       "  <thead>\n",
       "    <tr style=\"text-align: right;\">\n",
       "      <th></th>\n",
       "      <th>change_month</th>\n",
       "      <th>account_code</th>\n",
       "      <th>bundle_addons_sorted</th>\n",
       "      <th>addons_sorted</th>\n",
       "      <th>new_addition</th>\n",
       "    </tr>\n",
       "  </thead>\n",
       "  <tbody>\n",
       "    <tr>\n",
       "      <th>0</th>\n",
       "      <td>2021-05-01</td>\n",
       "      <td>5f35eea88374d800018a52d5</td>\n",
       "      <td>advanced-dvr,showtime,third-screen</td>\n",
       "      <td>advanced-dvr,showtime,third-screen</td>\n",
       "      <td></td>\n",
       "    </tr>\n",
       "    <tr>\n",
       "      <th>1</th>\n",
       "      <td>2021-12-01</td>\n",
       "      <td>5d29fdbbb021e30001f492ac</td>\n",
       "      <td>advanced-dvr-250,third-screen</td>\n",
       "      <td>advanced-dvr-250,adventure,third-screen</td>\n",
       "      <td>adventure</td>\n",
       "    </tr>\n",
       "    <tr>\n",
       "      <th>2</th>\n",
       "      <td>2021-01-01</td>\n",
       "      <td>5e167a959ff70b0001d582b6</td>\n",
       "      <td>advanced-dvr,third-screen</td>\n",
       "      <td>advanced-dvr,deportes,rsn-fee,third-screen,unl...</td>\n",
       "      <td>rsn-fee</td>\n",
       "    </tr>\n",
       "    <tr>\n",
       "      <th>3</th>\n",
       "      <td>2021-01-01</td>\n",
       "      <td>5e167a959ff70b0001d582b6</td>\n",
       "      <td>advanced-dvr,third-screen</td>\n",
       "      <td>advanced-dvr,deportes,rsn-fee,third-screen,unl...</td>\n",
       "      <td>deportes</td>\n",
       "    </tr>\n",
       "    <tr>\n",
       "      <th>4</th>\n",
       "      <td>2021-01-01</td>\n",
       "      <td>5e167a959ff70b0001d582b6</td>\n",
       "      <td>advanced-dvr,third-screen</td>\n",
       "      <td>advanced-dvr,deportes,rsn-fee,third-screen,unl...</td>\n",
       "      <td>unlimited-screen-home</td>\n",
       "    </tr>\n",
       "  </tbody>\n",
       "</table>\n",
       "</div>"
      ],
      "text/plain": [
       "  change_month              account_code                bundle_addons_sorted  \\\n",
       "0   2021-05-01  5f35eea88374d800018a52d5  advanced-dvr,showtime,third-screen   \n",
       "1   2021-12-01  5d29fdbbb021e30001f492ac       advanced-dvr-250,third-screen   \n",
       "2   2021-01-01  5e167a959ff70b0001d582b6           advanced-dvr,third-screen   \n",
       "3   2021-01-01  5e167a959ff70b0001d582b6           advanced-dvr,third-screen   \n",
       "4   2021-01-01  5e167a959ff70b0001d582b6           advanced-dvr,third-screen   \n",
       "\n",
       "                                       addons_sorted           new_addition  \n",
       "0                 advanced-dvr,showtime,third-screen                         \n",
       "1            advanced-dvr-250,adventure,third-screen              adventure  \n",
       "2  advanced-dvr,deportes,rsn-fee,third-screen,unl...                rsn-fee  \n",
       "3  advanced-dvr,deportes,rsn-fee,third-screen,unl...               deportes  \n",
       "4  advanced-dvr,deportes,rsn-fee,third-screen,unl...  unlimited-screen-home  "
      ]
     },
     "execution_count": 17,
     "metadata": {},
     "output_type": "execute_result"
    }
   ],
   "source": [
    "df.head()"
   ]
  },
  {
   "cell_type": "code",
   "execution_count": 18,
   "metadata": {},
   "outputs": [],
   "source": [
    "df = df.drop(['addons_sorted', 'bundle_addons_sorted'], axis=1)"
   ]
  },
  {
   "cell_type": "code",
   "execution_count": 19,
   "metadata": {},
   "outputs": [
    {
     "data": {
      "text/html": [
       "<div>\n",
       "<style scoped>\n",
       "    .dataframe tbody tr th:only-of-type {\n",
       "        vertical-align: middle;\n",
       "    }\n",
       "\n",
       "    .dataframe tbody tr th {\n",
       "        vertical-align: top;\n",
       "    }\n",
       "\n",
       "    .dataframe thead th {\n",
       "        text-align: right;\n",
       "    }\n",
       "</style>\n",
       "<table border=\"1\" class=\"dataframe\">\n",
       "  <thead>\n",
       "    <tr style=\"text-align: right;\">\n",
       "      <th></th>\n",
       "      <th>change_month</th>\n",
       "      <th>account_code</th>\n",
       "      <th>new_addition</th>\n",
       "    </tr>\n",
       "  </thead>\n",
       "  <tbody>\n",
       "    <tr>\n",
       "      <th>0</th>\n",
       "      <td>2021-05-01</td>\n",
       "      <td>5f35eea88374d800018a52d5</td>\n",
       "      <td></td>\n",
       "    </tr>\n",
       "    <tr>\n",
       "      <th>1</th>\n",
       "      <td>2021-12-01</td>\n",
       "      <td>5d29fdbbb021e30001f492ac</td>\n",
       "      <td>adventure</td>\n",
       "    </tr>\n",
       "    <tr>\n",
       "      <th>2</th>\n",
       "      <td>2021-01-01</td>\n",
       "      <td>5e167a959ff70b0001d582b6</td>\n",
       "      <td>rsn-fee</td>\n",
       "    </tr>\n",
       "    <tr>\n",
       "      <th>3</th>\n",
       "      <td>2021-01-01</td>\n",
       "      <td>5e167a959ff70b0001d582b6</td>\n",
       "      <td>deportes</td>\n",
       "    </tr>\n",
       "    <tr>\n",
       "      <th>4</th>\n",
       "      <td>2021-01-01</td>\n",
       "      <td>5e167a959ff70b0001d582b6</td>\n",
       "      <td>unlimited-screen-home</td>\n",
       "    </tr>\n",
       "    <tr>\n",
       "      <th>...</th>\n",
       "      <td>...</td>\n",
       "      <td>...</td>\n",
       "      <td>...</td>\n",
       "    </tr>\n",
       "    <tr>\n",
       "      <th>18767734</th>\n",
       "      <td>2021-07-01</td>\n",
       "      <td>5e14eb4db0631800017e78c5</td>\n",
       "      <td>rsn-fee</td>\n",
       "    </tr>\n",
       "    <tr>\n",
       "      <th>18767735</th>\n",
       "      <td>2022-01-01</td>\n",
       "      <td>5efe133a9ab22100017bc961</td>\n",
       "      <td>rsn-fee</td>\n",
       "    </tr>\n",
       "    <tr>\n",
       "      <th>18767736</th>\n",
       "      <td>2022-03-01</td>\n",
       "      <td>61452815b8474700019dc2da</td>\n",
       "      <td>rsn-fee</td>\n",
       "    </tr>\n",
       "    <tr>\n",
       "      <th>18767737</th>\n",
       "      <td>2022-04-01</td>\n",
       "      <td>5fe943971f58fc000198154e</td>\n",
       "      <td>rsn-fee</td>\n",
       "    </tr>\n",
       "    <tr>\n",
       "      <th>18767738</th>\n",
       "      <td>2022-03-01</td>\n",
       "      <td>61197b9365069b00018be76d</td>\n",
       "      <td>rsn-fee</td>\n",
       "    </tr>\n",
       "  </tbody>\n",
       "</table>\n",
       "<p>18767739 rows × 3 columns</p>\n",
       "</div>"
      ],
      "text/plain": [
       "         change_month              account_code           new_addition\n",
       "0          2021-05-01  5f35eea88374d800018a52d5                       \n",
       "1          2021-12-01  5d29fdbbb021e30001f492ac              adventure\n",
       "2          2021-01-01  5e167a959ff70b0001d582b6                rsn-fee\n",
       "3          2021-01-01  5e167a959ff70b0001d582b6               deportes\n",
       "4          2021-01-01  5e167a959ff70b0001d582b6  unlimited-screen-home\n",
       "...               ...                       ...                    ...\n",
       "18767734   2021-07-01  5e14eb4db0631800017e78c5                rsn-fee\n",
       "18767735   2022-01-01  5efe133a9ab22100017bc961                rsn-fee\n",
       "18767736   2022-03-01  61452815b8474700019dc2da                rsn-fee\n",
       "18767737   2022-04-01  5fe943971f58fc000198154e                rsn-fee\n",
       "18767738   2022-03-01  61197b9365069b00018be76d                rsn-fee\n",
       "\n",
       "[18767739 rows x 3 columns]"
      ]
     },
     "execution_count": 19,
     "metadata": {},
     "output_type": "execute_result"
    }
   ],
   "source": [
    "df"
   ]
  },
  {
   "cell_type": "code",
   "execution_count": 20,
   "metadata": {},
   "outputs": [],
   "source": [
    "df = df.drop_duplicates()\n",
    "df = df.dropna()"
   ]
  },
  {
   "cell_type": "code",
   "execution_count": 21,
   "metadata": {},
   "outputs": [
    {
     "data": {
      "text/html": [
       "<div>\n",
       "<style scoped>\n",
       "    .dataframe tbody tr th:only-of-type {\n",
       "        vertical-align: middle;\n",
       "    }\n",
       "\n",
       "    .dataframe tbody tr th {\n",
       "        vertical-align: top;\n",
       "    }\n",
       "\n",
       "    .dataframe thead th {\n",
       "        text-align: right;\n",
       "    }\n",
       "</style>\n",
       "<table border=\"1\" class=\"dataframe\">\n",
       "  <thead>\n",
       "    <tr style=\"text-align: right;\">\n",
       "      <th></th>\n",
       "      <th>change_month</th>\n",
       "      <th>account_code</th>\n",
       "      <th>new_addition</th>\n",
       "    </tr>\n",
       "  </thead>\n",
       "  <tbody>\n",
       "    <tr>\n",
       "      <th>0</th>\n",
       "      <td>2021-05-01</td>\n",
       "      <td>5f35eea88374d800018a52d5</td>\n",
       "      <td></td>\n",
       "    </tr>\n",
       "    <tr>\n",
       "      <th>1</th>\n",
       "      <td>2021-12-01</td>\n",
       "      <td>5d29fdbbb021e30001f492ac</td>\n",
       "      <td>adventure</td>\n",
       "    </tr>\n",
       "    <tr>\n",
       "      <th>2</th>\n",
       "      <td>2021-01-01</td>\n",
       "      <td>5e167a959ff70b0001d582b6</td>\n",
       "      <td>rsn-fee</td>\n",
       "    </tr>\n",
       "    <tr>\n",
       "      <th>3</th>\n",
       "      <td>2021-01-01</td>\n",
       "      <td>5e167a959ff70b0001d582b6</td>\n",
       "      <td>deportes</td>\n",
       "    </tr>\n",
       "    <tr>\n",
       "      <th>4</th>\n",
       "      <td>2021-01-01</td>\n",
       "      <td>5e167a959ff70b0001d582b6</td>\n",
       "      <td>unlimited-screen-home</td>\n",
       "    </tr>\n",
       "    <tr>\n",
       "      <th>...</th>\n",
       "      <td>...</td>\n",
       "      <td>...</td>\n",
       "      <td>...</td>\n",
       "    </tr>\n",
       "    <tr>\n",
       "      <th>18767734</th>\n",
       "      <td>2021-07-01</td>\n",
       "      <td>5e14eb4db0631800017e78c5</td>\n",
       "      <td>rsn-fee</td>\n",
       "    </tr>\n",
       "    <tr>\n",
       "      <th>18767735</th>\n",
       "      <td>2022-01-01</td>\n",
       "      <td>5efe133a9ab22100017bc961</td>\n",
       "      <td>rsn-fee</td>\n",
       "    </tr>\n",
       "    <tr>\n",
       "      <th>18767736</th>\n",
       "      <td>2022-03-01</td>\n",
       "      <td>61452815b8474700019dc2da</td>\n",
       "      <td>rsn-fee</td>\n",
       "    </tr>\n",
       "    <tr>\n",
       "      <th>18767737</th>\n",
       "      <td>2022-04-01</td>\n",
       "      <td>5fe943971f58fc000198154e</td>\n",
       "      <td>rsn-fee</td>\n",
       "    </tr>\n",
       "    <tr>\n",
       "      <th>18767738</th>\n",
       "      <td>2022-03-01</td>\n",
       "      <td>61197b9365069b00018be76d</td>\n",
       "      <td>rsn-fee</td>\n",
       "    </tr>\n",
       "  </tbody>\n",
       "</table>\n",
       "<p>18113098 rows × 3 columns</p>\n",
       "</div>"
      ],
      "text/plain": [
       "         change_month              account_code           new_addition\n",
       "0          2021-05-01  5f35eea88374d800018a52d5                       \n",
       "1          2021-12-01  5d29fdbbb021e30001f492ac              adventure\n",
       "2          2021-01-01  5e167a959ff70b0001d582b6                rsn-fee\n",
       "3          2021-01-01  5e167a959ff70b0001d582b6               deportes\n",
       "4          2021-01-01  5e167a959ff70b0001d582b6  unlimited-screen-home\n",
       "...               ...                       ...                    ...\n",
       "18767734   2021-07-01  5e14eb4db0631800017e78c5                rsn-fee\n",
       "18767735   2022-01-01  5efe133a9ab22100017bc961                rsn-fee\n",
       "18767736   2022-03-01  61452815b8474700019dc2da                rsn-fee\n",
       "18767737   2022-04-01  5fe943971f58fc000198154e                rsn-fee\n",
       "18767738   2022-03-01  61197b9365069b00018be76d                rsn-fee\n",
       "\n",
       "[18113098 rows x 3 columns]"
      ]
     },
     "execution_count": 21,
     "metadata": {},
     "output_type": "execute_result"
    }
   ],
   "source": [
    "df"
   ]
  },
  {
   "cell_type": "markdown",
   "metadata": {},
   "source": [
    "#### Aggregating by month and new_addition to count distinct account_code"
   ]
  },
  {
   "cell_type": "code",
   "execution_count": 22,
   "metadata": {},
   "outputs": [],
   "source": [
    "df = df.groupby(['change_month', 'new_addition'],  as_index=False ).agg({'account_code': 'nunique'})"
   ]
  },
  {
   "cell_type": "code",
   "execution_count": 23,
   "metadata": {},
   "outputs": [
    {
     "name": "stdout",
     "output_type": "stream",
     "text": [
      "    change_month           new_addition  account_code\n",
      "0     2021-01-01                               445184\n",
      "1     2021-01-01           advanced-dvr         11215\n",
      "2     2021-01-01      advanced-dvr-1000          3508\n",
      "3     2021-01-01       advanced-dvr-250         56869\n",
      "4     2021-01-01              adventure          6088\n",
      "..           ...                    ...           ...\n",
      "553   2022-06-01                  starz          1910\n",
      "554   2022-06-01    starz-epix-showtime          6572\n",
      "555   2022-06-01           third-screen          2226\n",
      "556   2022-06-01              tv5-monde           707\n",
      "557   2022-06-01  unlimited-screen-home          3103\n",
      "\n",
      "[558 rows x 3 columns]\n"
     ]
    }
   ],
   "source": [
    "print(df)"
   ]
  },
  {
   "cell_type": "code",
   "execution_count": 24,
   "metadata": {},
   "outputs": [],
   "source": [
    "df.to_csv('/Users/nanditanandakumar/Dropbox (fuboTV)/Business Analytics/Team/Nandita/Git/Add_Ons_Project/Count of Users per Add On - By Month.csv', index =False)"
   ]
  }
 ],
 "metadata": {
  "interpreter": {
   "hash": "0974d6d4526877ac03092eddf71329aa51a4904723e66e5891e6e45546228747"
  },
  "kernelspec": {
   "display_name": "Python 3 (ipykernel)",
   "language": "python",
   "name": "python3"
  },
  "language_info": {
   "codemirror_mode": {
    "name": "ipython",
    "version": 3
   },
   "file_extension": ".py",
   "mimetype": "text/x-python",
   "name": "python",
   "nbconvert_exporter": "python",
   "pygments_lexer": "ipython3",
   "version": "3.7.13"
  }
 },
 "nbformat": 4,
 "nbformat_minor": 4
}
