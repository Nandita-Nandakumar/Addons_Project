{
 "cells": [
  {
   "cell_type": "code",
   "execution_count": 27,
   "metadata": {},
   "outputs": [],
   "source": [
    "import pandas as pd\n",
    "from pandas.io import gbq\n",
    "import numpy as np\n",
    "import os\n",
    "import glob\n",
    "import re"
   ]
  },
  {
   "cell_type": "code",
   "execution_count": 28,
   "metadata": {},
   "outputs": [],
   "source": [
    "import pydata_google_auth"
   ]
  },
  {
   "cell_type": "code",
   "execution_count": 29,
   "metadata": {},
   "outputs": [],
   "source": [
    "    connect_bq = [\n",
    "        'https://www.googleapis.com/auth/cloud-platform',\n",
    "        'https://www.googleapis.com/auth/drive',\n",
    "    ]\n",
    "\n",
    "    credentials = pydata_google_auth.get_user_credentials(\n",
    "        connect_bq,\n",
    "        auth_local_webserver=True,\n",
    "    )"
   ]
  },
  {
   "cell_type": "markdown",
   "metadata": {},
   "source": [
    "#### Query that retrieves add_ons per user for a month and the add ons that a bundle has"
   ]
  },
  {
   "cell_type": "code",
   "execution_count": 30,
   "metadata": {},
   "outputs": [],
   "source": [
    "sql_query = \"\"\"\n",
    "CREATE TEMP FUNCTION STRING_DEDUP(str STRING) AS (\n",
    "(SELECT STRING_AGG(item ORDER BY item) FROM (\n",
    "SELECT DISTINCT item FROM UNNEST(SPLIT(str)) item \n",
    ")) \n",
    ");\n",
    "----------------------------------------------------------------------------------------------------------------------\n",
    "with daily_status as (\n",
    "Select * , DATE_TRUNC(day, month) as change_month\n",
    "from `fubotv-prod.data_insights.daily_status_static_update` t1\n",
    "where final_status_restated like '%paid%'\n",
    "and day >= '2021-01-01'\n",
    "AND day <= current_date()-1\n",
    "),\n",
    "add_on as (\n",
    "select account_code, change_month, STRING_DEDUP(add_ons) as addons_sorted,STRING_DEDUP(bundle_add_on_list) as bundle_addons_sorted\n",
    "FROM daily_status\n",
    ")\n",
    "select DISTINCT change_month, account_code, bundle_addons_sorted, addons_sorted\n",
    "from add_on\n",
    "\"\"\""
   ]
  },
  {
   "cell_type": "code",
   "execution_count": 56,
   "metadata": {},
   "outputs": [],
   "source": [
    "df = pd.read_gbq(\n",
    "    sql_query,\n",
    "    project_id='fubotv-prod',\n",
    "    credentials=credentials,\n",
    ")"
   ]
  },
  {
   "cell_type": "markdown",
   "metadata": {},
   "source": [
    "#### Checking / Housekeeping"
   ]
  },
  {
   "cell_type": "code",
   "execution_count": 57,
   "metadata": {},
   "outputs": [
    {
     "data": {
      "text/html": [
       "<div>\n",
       "<style scoped>\n",
       "    .dataframe tbody tr th:only-of-type {\n",
       "        vertical-align: middle;\n",
       "    }\n",
       "\n",
       "    .dataframe tbody tr th {\n",
       "        vertical-align: top;\n",
       "    }\n",
       "\n",
       "    .dataframe thead th {\n",
       "        text-align: right;\n",
       "    }\n",
       "</style>\n",
       "<table border=\"1\" class=\"dataframe\">\n",
       "  <thead>\n",
       "    <tr style=\"text-align: right;\">\n",
       "      <th></th>\n",
       "      <th>change_month</th>\n",
       "      <th>account_code</th>\n",
       "      <th>bundle_addons_sorted</th>\n",
       "      <th>addons_sorted</th>\n",
       "    </tr>\n",
       "  </thead>\n",
       "  <tbody>\n",
       "    <tr>\n",
       "      <th>0</th>\n",
       "      <td>2022-03-01</td>\n",
       "      <td>5d4f2d7a007d840001e3b65d</td>\n",
       "      <td>advanced-dvr-250,third-screen</td>\n",
       "      <td>advanced-dvr-250,rsn-fee,third-screen,unlimite...</td>\n",
       "    </tr>\n",
       "    <tr>\n",
       "      <th>1</th>\n",
       "      <td>2022-06-01</td>\n",
       "      <td>625f79aabec11e000174c880</td>\n",
       "      <td>advanced-dvr-1000,fubo-extra-lite,third-screen...</td>\n",
       "      <td>advanced-dvr-1000,fubo-extra-lite,news-plus,rs...</td>\n",
       "    </tr>\n",
       "    <tr>\n",
       "      <th>2</th>\n",
       "      <td>2021-12-01</td>\n",
       "      <td>5edb13c5b128a80001378ebb</td>\n",
       "      <td>advanced-dvr,third-screen</td>\n",
       "      <td>advanced-dvr,latino,third-screen</td>\n",
       "    </tr>\n",
       "    <tr>\n",
       "      <th>3</th>\n",
       "      <td>2021-03-01</td>\n",
       "      <td>5734a4654c41890100d47b6c</td>\n",
       "      <td>advanced-dvr,third-screen</td>\n",
       "      <td>third-screen</td>\n",
       "    </tr>\n",
       "    <tr>\n",
       "      <th>4</th>\n",
       "      <td>2022-06-01</td>\n",
       "      <td>5eadd90d1525120001f8873c</td>\n",
       "      <td>advanced-dvr-250</td>\n",
       "      <td>advanced-dvr,extra</td>\n",
       "    </tr>\n",
       "  </tbody>\n",
       "</table>\n",
       "</div>"
      ],
      "text/plain": [
       "  change_month              account_code  \\\n",
       "0   2022-03-01  5d4f2d7a007d840001e3b65d   \n",
       "1   2022-06-01  625f79aabec11e000174c880   \n",
       "2   2021-12-01  5edb13c5b128a80001378ebb   \n",
       "3   2021-03-01  5734a4654c41890100d47b6c   \n",
       "4   2022-06-01  5eadd90d1525120001f8873c   \n",
       "\n",
       "                                bundle_addons_sorted  \\\n",
       "0                      advanced-dvr-250,third-screen   \n",
       "1  advanced-dvr-1000,fubo-extra-lite,third-screen...   \n",
       "2                          advanced-dvr,third-screen   \n",
       "3                          advanced-dvr,third-screen   \n",
       "4                                   advanced-dvr-250   \n",
       "\n",
       "                                       addons_sorted  \n",
       "0  advanced-dvr-250,rsn-fee,third-screen,unlimite...  \n",
       "1  advanced-dvr-1000,fubo-extra-lite,news-plus,rs...  \n",
       "2                   advanced-dvr,latino,third-screen  \n",
       "3                                       third-screen  \n",
       "4                                 advanced-dvr,extra  "
      ]
     },
     "execution_count": 57,
     "metadata": {},
     "output_type": "execute_result"
    }
   ],
   "source": [
    "df.head()"
   ]
  },
  {
   "cell_type": "code",
   "execution_count": 58,
   "metadata": {},
   "outputs": [
    {
     "name": "stdout",
     "output_type": "stream",
     "text": [
      "<class 'pandas.core.frame.DataFrame'>\n",
      "RangeIndex: 18296490 entries, 0 to 18296489\n",
      "Data columns (total 4 columns):\n",
      " #   Column                Dtype         \n",
      "---  ------                -----         \n",
      " 0   change_month          datetime64[ns]\n",
      " 1   account_code          object        \n",
      " 2   bundle_addons_sorted  object        \n",
      " 3   addons_sorted         object        \n",
      "dtypes: datetime64[ns](1), object(3)\n",
      "memory usage: 558.4+ MB\n"
     ]
    }
   ],
   "source": [
    "df.info()"
   ]
  },
  {
   "cell_type": "markdown",
   "metadata": {},
   "source": [
    "##### if the bundles addon column is empty, discard that row"
   ]
  },
  {
   "cell_type": "code",
   "execution_count": 59,
   "metadata": {},
   "outputs": [],
   "source": [
    "df = df.dropna()"
   ]
  },
  {
   "cell_type": "code",
   "execution_count": 35,
   "metadata": {},
   "outputs": [
    {
     "name": "stdout",
     "output_type": "stream",
     "text": [
      "<class 'pandas.core.frame.DataFrame'>\n",
      "Int64Index: 17269293 entries, 0 to 18296489\n",
      "Data columns (total 4 columns):\n",
      " #   Column                Dtype         \n",
      "---  ------                -----         \n",
      " 0   change_month          datetime64[ns]\n",
      " 1   account_code          object        \n",
      " 2   bundle_addons_sorted  object        \n",
      " 3   addons_sorted         object        \n",
      "dtypes: datetime64[ns](1), object(3)\n",
      "memory usage: 658.8+ MB\n"
     ]
    }
   ],
   "source": [
    "df.info()"
   ]
  },
  {
   "cell_type": "markdown",
   "metadata": {},
   "source": [
    "##### Comparing bundle add_ons to the add_ons field and identifying the difference between these two fields and joining each add_on by a comma to a new field called new_addition"
   ]
  },
  {
   "cell_type": "code",
   "execution_count": 60,
   "metadata": {},
   "outputs": [],
   "source": [
    "df['nonbundle_addons'] = [','.join(set(n.split(',')) - set(o.split(','))) \n",
    "                                                          for o, n in zip(df.bundle_addons_sorted, df.addons_sorted)]"
   ]
  },
  {
   "cell_type": "code",
   "execution_count": 61,
   "metadata": {},
   "outputs": [
    {
     "data": {
      "text/html": [
       "<div>\n",
       "<style scoped>\n",
       "    .dataframe tbody tr th:only-of-type {\n",
       "        vertical-align: middle;\n",
       "    }\n",
       "\n",
       "    .dataframe tbody tr th {\n",
       "        vertical-align: top;\n",
       "    }\n",
       "\n",
       "    .dataframe thead th {\n",
       "        text-align: right;\n",
       "    }\n",
       "</style>\n",
       "<table border=\"1\" class=\"dataframe\">\n",
       "  <thead>\n",
       "    <tr style=\"text-align: right;\">\n",
       "      <th></th>\n",
       "      <th>change_month</th>\n",
       "      <th>account_code</th>\n",
       "      <th>bundle_addons_sorted</th>\n",
       "      <th>addons_sorted</th>\n",
       "      <th>nonbundle_addons</th>\n",
       "    </tr>\n",
       "  </thead>\n",
       "  <tbody>\n",
       "    <tr>\n",
       "      <th>0</th>\n",
       "      <td>2022-03-01</td>\n",
       "      <td>5d4f2d7a007d840001e3b65d</td>\n",
       "      <td>advanced-dvr-250,third-screen</td>\n",
       "      <td>advanced-dvr-250,rsn-fee,third-screen,unlimite...</td>\n",
       "      <td>unlimited-screen-home,rsn-fee</td>\n",
       "    </tr>\n",
       "    <tr>\n",
       "      <th>1</th>\n",
       "      <td>2022-06-01</td>\n",
       "      <td>625f79aabec11e000174c880</td>\n",
       "      <td>advanced-dvr-1000,fubo-extra-lite,third-screen...</td>\n",
       "      <td>advanced-dvr-1000,fubo-extra-lite,news-plus,rs...</td>\n",
       "      <td>news-plus,rsn-fee</td>\n",
       "    </tr>\n",
       "    <tr>\n",
       "      <th>2</th>\n",
       "      <td>2021-12-01</td>\n",
       "      <td>5edb13c5b128a80001378ebb</td>\n",
       "      <td>advanced-dvr,third-screen</td>\n",
       "      <td>advanced-dvr,latino,third-screen</td>\n",
       "      <td>latino</td>\n",
       "    </tr>\n",
       "    <tr>\n",
       "      <th>3</th>\n",
       "      <td>2021-03-01</td>\n",
       "      <td>5734a4654c41890100d47b6c</td>\n",
       "      <td>advanced-dvr,third-screen</td>\n",
       "      <td>third-screen</td>\n",
       "      <td></td>\n",
       "    </tr>\n",
       "    <tr>\n",
       "      <th>4</th>\n",
       "      <td>2022-06-01</td>\n",
       "      <td>5eadd90d1525120001f8873c</td>\n",
       "      <td>advanced-dvr-250</td>\n",
       "      <td>advanced-dvr,extra</td>\n",
       "      <td>advanced-dvr,extra</td>\n",
       "    </tr>\n",
       "    <tr>\n",
       "      <th>...</th>\n",
       "      <td>...</td>\n",
       "      <td>...</td>\n",
       "      <td>...</td>\n",
       "      <td>...</td>\n",
       "      <td>...</td>\n",
       "    </tr>\n",
       "    <tr>\n",
       "      <th>18296485</th>\n",
       "      <td>2021-11-01</td>\n",
       "      <td>6154bd4f6d0058000113a797</td>\n",
       "      <td>advanced-dvr-1000,fubo-extra-lite,third-screen...</td>\n",
       "      <td>advanced-dvr-1000,fubo-extra-lite,rsn-fee,thir...</td>\n",
       "      <td>rsn-fee</td>\n",
       "    </tr>\n",
       "    <tr>\n",
       "      <th>18296486</th>\n",
       "      <td>2021-06-01</td>\n",
       "      <td>60021a0ac44a8f0001ae0f53</td>\n",
       "      <td>advanced-dvr-1000,fubo-extra-lite,third-screen...</td>\n",
       "      <td>advanced-dvr-1000,fubo-extra-lite,rsn-fee,thir...</td>\n",
       "      <td>rsn-fee</td>\n",
       "    </tr>\n",
       "    <tr>\n",
       "      <th>18296487</th>\n",
       "      <td>2022-05-01</td>\n",
       "      <td>617480ea9aca270001dcbda1</td>\n",
       "      <td>advanced-dvr-1000,fubo-extra-lite,third-screen...</td>\n",
       "      <td>advanced-dvr-1000,fubo-extra-lite,rsn-fee,thir...</td>\n",
       "      <td>rsn-fee</td>\n",
       "    </tr>\n",
       "    <tr>\n",
       "      <th>18296488</th>\n",
       "      <td>2021-11-01</td>\n",
       "      <td>6168dec7b2c7ad0001dcf1a1</td>\n",
       "      <td>advanced-dvr-1000,fubo-extra-lite,third-screen...</td>\n",
       "      <td>advanced-dvr-1000,fubo-extra-lite,rsn-fee,thir...</td>\n",
       "      <td>rsn-fee</td>\n",
       "    </tr>\n",
       "    <tr>\n",
       "      <th>18296489</th>\n",
       "      <td>2022-01-01</td>\n",
       "      <td>61cf7f65af5ac00001a0cb76</td>\n",
       "      <td>advanced-dvr-1000,fubo-extra-lite,third-screen...</td>\n",
       "      <td>advanced-dvr-1000,fubo-extra-lite,rsn-fee,thir...</td>\n",
       "      <td>rsn-fee</td>\n",
       "    </tr>\n",
       "  </tbody>\n",
       "</table>\n",
       "<p>17269293 rows × 5 columns</p>\n",
       "</div>"
      ],
      "text/plain": [
       "         change_month              account_code  \\\n",
       "0          2022-03-01  5d4f2d7a007d840001e3b65d   \n",
       "1          2022-06-01  625f79aabec11e000174c880   \n",
       "2          2021-12-01  5edb13c5b128a80001378ebb   \n",
       "3          2021-03-01  5734a4654c41890100d47b6c   \n",
       "4          2022-06-01  5eadd90d1525120001f8873c   \n",
       "...               ...                       ...   \n",
       "18296485   2021-11-01  6154bd4f6d0058000113a797   \n",
       "18296486   2021-06-01  60021a0ac44a8f0001ae0f53   \n",
       "18296487   2022-05-01  617480ea9aca270001dcbda1   \n",
       "18296488   2021-11-01  6168dec7b2c7ad0001dcf1a1   \n",
       "18296489   2022-01-01  61cf7f65af5ac00001a0cb76   \n",
       "\n",
       "                                       bundle_addons_sorted  \\\n",
       "0                             advanced-dvr-250,third-screen   \n",
       "1         advanced-dvr-1000,fubo-extra-lite,third-screen...   \n",
       "2                                 advanced-dvr,third-screen   \n",
       "3                                 advanced-dvr,third-screen   \n",
       "4                                          advanced-dvr-250   \n",
       "...                                                     ...   \n",
       "18296485  advanced-dvr-1000,fubo-extra-lite,third-screen...   \n",
       "18296486  advanced-dvr-1000,fubo-extra-lite,third-screen...   \n",
       "18296487  advanced-dvr-1000,fubo-extra-lite,third-screen...   \n",
       "18296488  advanced-dvr-1000,fubo-extra-lite,third-screen...   \n",
       "18296489  advanced-dvr-1000,fubo-extra-lite,third-screen...   \n",
       "\n",
       "                                              addons_sorted  \\\n",
       "0         advanced-dvr-250,rsn-fee,third-screen,unlimite...   \n",
       "1         advanced-dvr-1000,fubo-extra-lite,news-plus,rs...   \n",
       "2                          advanced-dvr,latino,third-screen   \n",
       "3                                              third-screen   \n",
       "4                                        advanced-dvr,extra   \n",
       "...                                                     ...   \n",
       "18296485  advanced-dvr-1000,fubo-extra-lite,rsn-fee,thir...   \n",
       "18296486  advanced-dvr-1000,fubo-extra-lite,rsn-fee,thir...   \n",
       "18296487  advanced-dvr-1000,fubo-extra-lite,rsn-fee,thir...   \n",
       "18296488  advanced-dvr-1000,fubo-extra-lite,rsn-fee,thir...   \n",
       "18296489  advanced-dvr-1000,fubo-extra-lite,rsn-fee,thir...   \n",
       "\n",
       "                       nonbundle_addons  \n",
       "0         unlimited-screen-home,rsn-fee  \n",
       "1                     news-plus,rsn-fee  \n",
       "2                                latino  \n",
       "3                                        \n",
       "4                    advanced-dvr,extra  \n",
       "...                                 ...  \n",
       "18296485                        rsn-fee  \n",
       "18296486                        rsn-fee  \n",
       "18296487                        rsn-fee  \n",
       "18296488                        rsn-fee  \n",
       "18296489                        rsn-fee  \n",
       "\n",
       "[17269293 rows x 5 columns]"
      ]
     },
     "execution_count": 61,
     "metadata": {},
     "output_type": "execute_result"
    }
   ],
   "source": [
    "df"
   ]
  },
  {
   "cell_type": "markdown",
   "metadata": {},
   "source": [
    "#### Splitting new_addition column into additional columns and exploding them into individual rows"
   ]
  },
  {
   "cell_type": "code",
   "execution_count": 62,
   "metadata": {},
   "outputs": [],
   "source": [
    "df['nonbundle_addons'] = df['nonbundle_addons'].str.split(',')\n",
    "df = df.explode('nonbundle_addons').reset_index(drop=True)\n",
    "cols = list(df.columns)\n",
    "df = df[cols]"
   ]
  },
  {
   "cell_type": "code",
   "execution_count": 63,
   "metadata": {},
   "outputs": [
    {
     "name": "stdout",
     "output_type": "stream",
     "text": [
      "<class 'pandas.core.frame.DataFrame'>\n",
      "RangeIndex: 18767739 entries, 0 to 18767738\n",
      "Data columns (total 5 columns):\n",
      " #   Column                Dtype         \n",
      "---  ------                -----         \n",
      " 0   change_month          datetime64[ns]\n",
      " 1   account_code          object        \n",
      " 2   bundle_addons_sorted  object        \n",
      " 3   addons_sorted         object        \n",
      " 4   nonbundle_addons      object        \n",
      "dtypes: datetime64[ns](1), object(4)\n",
      "memory usage: 715.9+ MB\n"
     ]
    }
   ],
   "source": [
    "df.info()"
   ]
  },
  {
   "cell_type": "code",
   "execution_count": 41,
   "metadata": {},
   "outputs": [
    {
     "data": {
      "text/html": [
       "<div>\n",
       "<style scoped>\n",
       "    .dataframe tbody tr th:only-of-type {\n",
       "        vertical-align: middle;\n",
       "    }\n",
       "\n",
       "    .dataframe tbody tr th {\n",
       "        vertical-align: top;\n",
       "    }\n",
       "\n",
       "    .dataframe thead th {\n",
       "        text-align: right;\n",
       "    }\n",
       "</style>\n",
       "<table border=\"1\" class=\"dataframe\">\n",
       "  <thead>\n",
       "    <tr style=\"text-align: right;\">\n",
       "      <th></th>\n",
       "      <th>change_month</th>\n",
       "      <th>account_code</th>\n",
       "      <th>bundle_addons_sorted</th>\n",
       "      <th>addons_sorted</th>\n",
       "      <th>nonbundle_addons</th>\n",
       "    </tr>\n",
       "  </thead>\n",
       "  <tbody>\n",
       "    <tr>\n",
       "      <th>0</th>\n",
       "      <td>2022-02-01</td>\n",
       "      <td>61b79491bc49a800014cf8e3</td>\n",
       "      <td>advanced-dvr-1000,fubo-extra-lite,third-screen...</td>\n",
       "      <td>advanced-dvr-1000,deportes,fubo-extra-lite,rsn...</td>\n",
       "      <td>deportes</td>\n",
       "    </tr>\n",
       "    <tr>\n",
       "      <th>1</th>\n",
       "      <td>2022-02-01</td>\n",
       "      <td>61b79491bc49a800014cf8e3</td>\n",
       "      <td>advanced-dvr-1000,fubo-extra-lite,third-screen...</td>\n",
       "      <td>advanced-dvr-1000,deportes,fubo-extra-lite,rsn...</td>\n",
       "      <td>rsn-fee</td>\n",
       "    </tr>\n",
       "    <tr>\n",
       "      <th>2</th>\n",
       "      <td>2021-10-01</td>\n",
       "      <td>602f08ada99b060001ec72de</td>\n",
       "      <td>advanced-dvr-1000,fubo-extra-lite,third-screen...</td>\n",
       "      <td>advanced-dvr-1000,amc-premiere,fubo-extra-lite...</td>\n",
       "      <td>amc-premiere</td>\n",
       "    </tr>\n",
       "    <tr>\n",
       "      <th>3</th>\n",
       "      <td>2022-05-01</td>\n",
       "      <td>5f99b0ecc89fdc00019e9234</td>\n",
       "      <td>4k-screen,advanced-dvr-1000,fubo-extra-lite,ne...</td>\n",
       "      <td>4k-screen,advanced-dvr-1000,fubo-extra-lite,ne...</td>\n",
       "      <td></td>\n",
       "    </tr>\n",
       "    <tr>\n",
       "      <th>4</th>\n",
       "      <td>2021-09-01</td>\n",
       "      <td>5fce5f8223e3470001f44351</td>\n",
       "      <td>advanced-dvr-1000,fubo-extra-lite,third-screen...</td>\n",
       "      <td>advanced-dvr-1000,deportes,fubo-extra-lite,thi...</td>\n",
       "      <td>deportes</td>\n",
       "    </tr>\n",
       "  </tbody>\n",
       "</table>\n",
       "</div>"
      ],
      "text/plain": [
       "  change_month              account_code  \\\n",
       "0   2022-02-01  61b79491bc49a800014cf8e3   \n",
       "1   2022-02-01  61b79491bc49a800014cf8e3   \n",
       "2   2021-10-01  602f08ada99b060001ec72de   \n",
       "3   2022-05-01  5f99b0ecc89fdc00019e9234   \n",
       "4   2021-09-01  5fce5f8223e3470001f44351   \n",
       "\n",
       "                                bundle_addons_sorted  \\\n",
       "0  advanced-dvr-1000,fubo-extra-lite,third-screen...   \n",
       "1  advanced-dvr-1000,fubo-extra-lite,third-screen...   \n",
       "2  advanced-dvr-1000,fubo-extra-lite,third-screen...   \n",
       "3  4k-screen,advanced-dvr-1000,fubo-extra-lite,ne...   \n",
       "4  advanced-dvr-1000,fubo-extra-lite,third-screen...   \n",
       "\n",
       "                                       addons_sorted nonbundle_addons  \n",
       "0  advanced-dvr-1000,deportes,fubo-extra-lite,rsn...         deportes  \n",
       "1  advanced-dvr-1000,deportes,fubo-extra-lite,rsn...          rsn-fee  \n",
       "2  advanced-dvr-1000,amc-premiere,fubo-extra-lite...     amc-premiere  \n",
       "3  4k-screen,advanced-dvr-1000,fubo-extra-lite,ne...                   \n",
       "4  advanced-dvr-1000,deportes,fubo-extra-lite,thi...         deportes  "
      ]
     },
     "execution_count": 41,
     "metadata": {},
     "output_type": "execute_result"
    }
   ],
   "source": [
    "df.head()"
   ]
  },
  {
   "cell_type": "code",
   "execution_count": 64,
   "metadata": {},
   "outputs": [],
   "source": [
    "df = df.drop(['addons_sorted', 'bundle_addons_sorted'], axis=1)"
   ]
  },
  {
   "cell_type": "code",
   "execution_count": 65,
   "metadata": {},
   "outputs": [],
   "source": [
    "df = df.drop_duplicates()"
   ]
  },
  {
   "cell_type": "code",
   "execution_count": 44,
   "metadata": {},
   "outputs": [
    {
     "data": {
      "text/html": [
       "<div>\n",
       "<style scoped>\n",
       "    .dataframe tbody tr th:only-of-type {\n",
       "        vertical-align: middle;\n",
       "    }\n",
       "\n",
       "    .dataframe tbody tr th {\n",
       "        vertical-align: top;\n",
       "    }\n",
       "\n",
       "    .dataframe thead th {\n",
       "        text-align: right;\n",
       "    }\n",
       "</style>\n",
       "<table border=\"1\" class=\"dataframe\">\n",
       "  <thead>\n",
       "    <tr style=\"text-align: right;\">\n",
       "      <th></th>\n",
       "      <th>change_month</th>\n",
       "      <th>account_code</th>\n",
       "      <th>nonbundle_addons</th>\n",
       "    </tr>\n",
       "  </thead>\n",
       "  <tbody>\n",
       "    <tr>\n",
       "      <th>0</th>\n",
       "      <td>2022-02-01</td>\n",
       "      <td>61b79491bc49a800014cf8e3</td>\n",
       "      <td>deportes</td>\n",
       "    </tr>\n",
       "    <tr>\n",
       "      <th>1</th>\n",
       "      <td>2022-02-01</td>\n",
       "      <td>61b79491bc49a800014cf8e3</td>\n",
       "      <td>rsn-fee</td>\n",
       "    </tr>\n",
       "    <tr>\n",
       "      <th>2</th>\n",
       "      <td>2021-10-01</td>\n",
       "      <td>602f08ada99b060001ec72de</td>\n",
       "      <td>amc-premiere</td>\n",
       "    </tr>\n",
       "    <tr>\n",
       "      <th>3</th>\n",
       "      <td>2022-05-01</td>\n",
       "      <td>5f99b0ecc89fdc00019e9234</td>\n",
       "      <td></td>\n",
       "    </tr>\n",
       "    <tr>\n",
       "      <th>4</th>\n",
       "      <td>2021-09-01</td>\n",
       "      <td>5fce5f8223e3470001f44351</td>\n",
       "      <td>deportes</td>\n",
       "    </tr>\n",
       "    <tr>\n",
       "      <th>...</th>\n",
       "      <td>...</td>\n",
       "      <td>...</td>\n",
       "      <td>...</td>\n",
       "    </tr>\n",
       "    <tr>\n",
       "      <th>18767732</th>\n",
       "      <td>2022-06-01</td>\n",
       "      <td>60b56dd40aa35c00015192f3</td>\n",
       "      <td>fubo-extra-lite</td>\n",
       "    </tr>\n",
       "    <tr>\n",
       "      <th>18767733</th>\n",
       "      <td>2022-05-01</td>\n",
       "      <td>600c808101d46400017e6068</td>\n",
       "      <td>rsn-fee</td>\n",
       "    </tr>\n",
       "    <tr>\n",
       "      <th>18767734</th>\n",
       "      <td>2021-05-01</td>\n",
       "      <td>6088a805408e240001ca2516</td>\n",
       "      <td>rsn-fee</td>\n",
       "    </tr>\n",
       "    <tr>\n",
       "      <th>18767735</th>\n",
       "      <td>2021-10-01</td>\n",
       "      <td>613e3d66eb4721000166b76c</td>\n",
       "      <td>rsn-fee</td>\n",
       "    </tr>\n",
       "    <tr>\n",
       "      <th>18767736</th>\n",
       "      <td>2021-04-01</td>\n",
       "      <td>5b2284da4cbd6e01005f81d0</td>\n",
       "      <td>rsn-fee</td>\n",
       "    </tr>\n",
       "  </tbody>\n",
       "</table>\n",
       "<p>18113098 rows × 3 columns</p>\n",
       "</div>"
      ],
      "text/plain": [
       "         change_month              account_code nonbundle_addons\n",
       "0          2022-02-01  61b79491bc49a800014cf8e3         deportes\n",
       "1          2022-02-01  61b79491bc49a800014cf8e3          rsn-fee\n",
       "2          2021-10-01  602f08ada99b060001ec72de     amc-premiere\n",
       "3          2022-05-01  5f99b0ecc89fdc00019e9234                 \n",
       "4          2021-09-01  5fce5f8223e3470001f44351         deportes\n",
       "...               ...                       ...              ...\n",
       "18767732   2022-06-01  60b56dd40aa35c00015192f3  fubo-extra-lite\n",
       "18767733   2022-05-01  600c808101d46400017e6068          rsn-fee\n",
       "18767734   2021-05-01  6088a805408e240001ca2516          rsn-fee\n",
       "18767735   2021-10-01  613e3d66eb4721000166b76c          rsn-fee\n",
       "18767736   2021-04-01  5b2284da4cbd6e01005f81d0          rsn-fee\n",
       "\n",
       "[18113098 rows x 3 columns]"
      ]
     },
     "execution_count": 44,
     "metadata": {},
     "output_type": "execute_result"
    }
   ],
   "source": [
    "df"
   ]
  },
  {
   "cell_type": "markdown",
   "metadata": {},
   "source": [
    "#### Aggregating by month and new_addition to count distinct account_code"
   ]
  },
  {
   "cell_type": "code",
   "execution_count": 85,
   "metadata": {},
   "outputs": [],
   "source": [
    "df = df.groupby(['change_month', 'nonbundle_addons'],  as_index=False ).agg({'account_code': 'nunique'})"
   ]
  },
  {
   "cell_type": "code",
   "execution_count": 105,
   "metadata": {},
   "outputs": [],
   "source": [
    "df = df[df.nonbundle_addons != 'rsn-fee']\n",
    "df = df[df.nonbundle_addons != '']\n",
    "df = df[df.nonbundle_addons != \"\"]"
   ]
  },
  {
   "cell_type": "code",
   "execution_count": 106,
   "metadata": {},
   "outputs": [
    {
     "name": "stdout",
     "output_type": "stream",
     "text": [
      "<class 'pandas.core.frame.DataFrame'>\n",
      "Int64Index: 522 entries, 1 to 557\n",
      "Data columns (total 3 columns):\n",
      " #   Column            Non-Null Count  Dtype         \n",
      "---  ------            --------------  -----         \n",
      " 0   change_month      522 non-null    datetime64[ns]\n",
      " 1   nonbundle_addons  522 non-null    object        \n",
      " 2   account_code      522 non-null    int64         \n",
      "dtypes: datetime64[ns](1), int64(1), object(1)\n",
      "memory usage: 16.3+ KB\n"
     ]
    }
   ],
   "source": [
    "df.info()"
   ]
  },
  {
   "cell_type": "code",
   "execution_count": 107,
   "metadata": {},
   "outputs": [],
   "source": [
    "df.to_csv('/Users/nanditanandakumar/Dropbox (fuboTV)/Business Analytics/Team/Nandita/Git/Addons_Project/NonBundle_AddOns - Count.csv', index =False)"
   ]
  },
  {
   "cell_type": "code",
   "execution_count": 108,
   "metadata": {},
   "outputs": [],
   "source": [
    "df.to_gbq ( destination_table='business_analytics.temp_nonbundle_addon_counts', project_id= 'fubotv-dev', if_exists= 'replace')"
   ]
  }
 ],
 "metadata": {
  "interpreter": {
   "hash": "0974d6d4526877ac03092eddf71329aa51a4904723e66e5891e6e45546228747"
  },
  "kernelspec": {
   "display_name": "Python 3 (ipykernel)",
   "language": "python",
   "name": "python3"
  },
  "language_info": {
   "codemirror_mode": {
    "name": "ipython",
    "version": 3
   },
   "file_extension": ".py",
   "mimetype": "text/x-python",
   "name": "python",
   "nbconvert_exporter": "python",
   "pygments_lexer": "ipython3",
   "version": "3.7.13"
  }
 },
 "nbformat": 4,
 "nbformat_minor": 4
}
