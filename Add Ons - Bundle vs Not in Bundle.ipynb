{
 "cells": [
  {
   "cell_type": "code",
   "execution_count": 109,
   "metadata": {},
   "outputs": [],
   "source": [
    "import pandas as pd\n",
    "from pandas.io import gbq\n",
    "import numpy as np\n",
    "import os\n",
    "import glob\n",
    "import re"
   ]
  },
  {
   "cell_type": "code",
   "execution_count": 110,
   "metadata": {},
   "outputs": [],
   "source": [
    "import pydata_google_auth"
   ]
  },
  {
   "cell_type": "code",
   "execution_count": 111,
   "metadata": {},
   "outputs": [],
   "source": [
    "    connect_bq = [\n",
    "        'https://www.googleapis.com/auth/cloud-platform',\n",
    "        'https://www.googleapis.com/auth/drive',\n",
    "    ]\n",
    "\n",
    "    credentials = pydata_google_auth.get_user_credentials(\n",
    "        connect_bq,\n",
    "        auth_local_webserver=True,\n",
    "    )"
   ]
  },
  {
   "cell_type": "markdown",
   "metadata": {},
   "source": [
    "#### Query that retrieves add_ons per user for a month and the add ons that a bundle has"
   ]
  },
  {
   "cell_type": "code",
   "execution_count": 112,
   "metadata": {},
   "outputs": [],
   "source": [
    "sql_query = \"\"\"\n",
    "CREATE TEMP FUNCTION STRING_DEDUP(str STRING) AS (\n",
    "(SELECT STRING_AGG(item ORDER BY item) FROM (\n",
    "SELECT DISTINCT item FROM UNNEST(SPLIT(str)) item \n",
    ")) \n",
    ");\n",
    "----------------------------------------------------------------------------------------------------------------------\n",
    "with daily_status as (\n",
    "Select * , DATE_TRUNC(day, month) as change_month\n",
    "from `fubotv-prod.data_insights.daily_status_static_update` t1\n",
    "where final_status_restated like '%paid%'\n",
    "and day >= '2021-01-01'\n",
    "AND day <= current_date()-1\n",
    "),\n",
    "add_on as (\n",
    "select account_code, change_month, STRING_DEDUP(add_ons) as addons_sorted,STRING_DEDUP(bundle_add_on_list) as bundle_addons_sorted\n",
    "FROM daily_status\n",
    ")\n",
    "select DISTINCT change_month as month, account_code, bundle_addons_sorted, addons_sorted\n",
    "from add_on\n",
    "\"\"\""
   ]
  },
  {
   "cell_type": "code",
   "execution_count": 113,
   "metadata": {},
   "outputs": [],
   "source": [
    "df = pd.read_gbq(\n",
    "    sql_query,\n",
    "    project_id='fubotv-prod',\n",
    "    credentials=credentials,\n",
    ")"
   ]
  },
  {
   "cell_type": "markdown",
   "metadata": {},
   "source": [
    "#### Checking / Housekeeping"
   ]
  },
  {
   "cell_type": "code",
   "execution_count": 114,
   "metadata": {},
   "outputs": [
    {
     "data": {
      "text/html": [
       "<div>\n",
       "<style scoped>\n",
       "    .dataframe tbody tr th:only-of-type {\n",
       "        vertical-align: middle;\n",
       "    }\n",
       "\n",
       "    .dataframe tbody tr th {\n",
       "        vertical-align: top;\n",
       "    }\n",
       "\n",
       "    .dataframe thead th {\n",
       "        text-align: right;\n",
       "    }\n",
       "</style>\n",
       "<table border=\"1\" class=\"dataframe\">\n",
       "  <thead>\n",
       "    <tr style=\"text-align: right;\">\n",
       "      <th></th>\n",
       "      <th>month</th>\n",
       "      <th>account_code</th>\n",
       "      <th>bundle_addons_sorted</th>\n",
       "      <th>addons_sorted</th>\n",
       "    </tr>\n",
       "  </thead>\n",
       "  <tbody>\n",
       "    <tr>\n",
       "      <th>0</th>\n",
       "      <td>2022-06-01</td>\n",
       "      <td>62138c861d2a050001cf8773</td>\n",
       "      <td>advanced-dvr-1000,third-screen,unlimited-scree...</td>\n",
       "      <td>advanced-dvr-1000,amc-premiere,starz-epix-show...</td>\n",
       "    </tr>\n",
       "    <tr>\n",
       "      <th>1</th>\n",
       "      <td>2022-04-01</td>\n",
       "      <td>5b7b3dc5e09d61ef1b4a74ed</td>\n",
       "      <td>advanced-dvr,third-screen</td>\n",
       "      <td>advanced-dvr,deportes,rsn-fee,third-screen</td>\n",
       "    </tr>\n",
       "    <tr>\n",
       "      <th>2</th>\n",
       "      <td>2021-06-01</td>\n",
       "      <td>5fe4ee8ff0680c0001514ab5</td>\n",
       "      <td>advanced-dvr-1000,fubo-extra-lite,third-screen...</td>\n",
       "      <td>advanced-dvr-1000,epix,fubo-extra-lite,third-s...</td>\n",
       "    </tr>\n",
       "    <tr>\n",
       "      <th>3</th>\n",
       "      <td>2022-05-01</td>\n",
       "      <td>61f335130ffeb20001e191c1</td>\n",
       "      <td>advanced-dvr-1000,fubo-extra-lite,third-screen...</td>\n",
       "      <td>advanced-dvr-1000,fubo-extra-lite,news-plus,th...</td>\n",
       "    </tr>\n",
       "    <tr>\n",
       "      <th>4</th>\n",
       "      <td>2022-03-01</td>\n",
       "      <td>6133a334439c4e000195c01b</td>\n",
       "      <td>advanced-dvr-250,third-screen</td>\n",
       "      <td>advanced-dvr-250,fubo-extra-lite,rsn-fee,third...</td>\n",
       "    </tr>\n",
       "  </tbody>\n",
       "</table>\n",
       "</div>"
      ],
      "text/plain": [
       "       month              account_code  \\\n",
       "0 2022-06-01  62138c861d2a050001cf8773   \n",
       "1 2022-04-01  5b7b3dc5e09d61ef1b4a74ed   \n",
       "2 2021-06-01  5fe4ee8ff0680c0001514ab5   \n",
       "3 2022-05-01  61f335130ffeb20001e191c1   \n",
       "4 2022-03-01  6133a334439c4e000195c01b   \n",
       "\n",
       "                                bundle_addons_sorted  \\\n",
       "0  advanced-dvr-1000,third-screen,unlimited-scree...   \n",
       "1                          advanced-dvr,third-screen   \n",
       "2  advanced-dvr-1000,fubo-extra-lite,third-screen...   \n",
       "3  advanced-dvr-1000,fubo-extra-lite,third-screen...   \n",
       "4                      advanced-dvr-250,third-screen   \n",
       "\n",
       "                                       addons_sorted  \n",
       "0  advanced-dvr-1000,amc-premiere,starz-epix-show...  \n",
       "1         advanced-dvr,deportes,rsn-fee,third-screen  \n",
       "2  advanced-dvr-1000,epix,fubo-extra-lite,third-s...  \n",
       "3  advanced-dvr-1000,fubo-extra-lite,news-plus,th...  \n",
       "4  advanced-dvr-250,fubo-extra-lite,rsn-fee,third...  "
      ]
     },
     "execution_count": 114,
     "metadata": {},
     "output_type": "execute_result"
    }
   ],
   "source": [
    "df.head()"
   ]
  },
  {
   "cell_type": "code",
   "execution_count": 115,
   "metadata": {},
   "outputs": [
    {
     "name": "stdout",
     "output_type": "stream",
     "text": [
      "<class 'pandas.core.frame.DataFrame'>\n",
      "RangeIndex: 18296490 entries, 0 to 18296489\n",
      "Data columns (total 4 columns):\n",
      " #   Column                Dtype         \n",
      "---  ------                -----         \n",
      " 0   month                 datetime64[ns]\n",
      " 1   account_code          object        \n",
      " 2   bundle_addons_sorted  object        \n",
      " 3   addons_sorted         object        \n",
      "dtypes: datetime64[ns](1), object(3)\n",
      "memory usage: 558.4+ MB\n"
     ]
    }
   ],
   "source": [
    "df.info()"
   ]
  },
  {
   "cell_type": "markdown",
   "metadata": {},
   "source": [
    "##### if the bundles addon column is empty, discard that row"
   ]
  },
  {
   "cell_type": "code",
   "execution_count": 116,
   "metadata": {},
   "outputs": [],
   "source": [
    "df = df.dropna()"
   ]
  },
  {
   "cell_type": "code",
   "execution_count": 117,
   "metadata": {},
   "outputs": [
    {
     "name": "stdout",
     "output_type": "stream",
     "text": [
      "<class 'pandas.core.frame.DataFrame'>\n",
      "Int64Index: 17269293 entries, 0 to 18296489\n",
      "Data columns (total 4 columns):\n",
      " #   Column                Dtype         \n",
      "---  ------                -----         \n",
      " 0   month                 datetime64[ns]\n",
      " 1   account_code          object        \n",
      " 2   bundle_addons_sorted  object        \n",
      " 3   addons_sorted         object        \n",
      "dtypes: datetime64[ns](1), object(3)\n",
      "memory usage: 658.8+ MB\n"
     ]
    }
   ],
   "source": [
    "df.info()"
   ]
  },
  {
   "cell_type": "markdown",
   "metadata": {},
   "source": [
    "##### Comparing bundle add_ons to the add_ons field and identifying the difference between these two fields and joining each add_on by a comma to a new field called new_addition"
   ]
  },
  {
   "cell_type": "code",
   "execution_count": 118,
   "metadata": {},
   "outputs": [],
   "source": [
    "df['nonbundle_addons'] = [','.join(set(n.split(',')) - set(o.split(','))) \n",
    "                                                          for o, n in zip(df.bundle_addons_sorted, df.addons_sorted)]"
   ]
  },
  {
   "cell_type": "code",
   "execution_count": 119,
   "metadata": {},
   "outputs": [
    {
     "data": {
      "text/html": [
       "<div>\n",
       "<style scoped>\n",
       "    .dataframe tbody tr th:only-of-type {\n",
       "        vertical-align: middle;\n",
       "    }\n",
       "\n",
       "    .dataframe tbody tr th {\n",
       "        vertical-align: top;\n",
       "    }\n",
       "\n",
       "    .dataframe thead th {\n",
       "        text-align: right;\n",
       "    }\n",
       "</style>\n",
       "<table border=\"1\" class=\"dataframe\">\n",
       "  <thead>\n",
       "    <tr style=\"text-align: right;\">\n",
       "      <th></th>\n",
       "      <th>month</th>\n",
       "      <th>account_code</th>\n",
       "      <th>bundle_addons_sorted</th>\n",
       "      <th>addons_sorted</th>\n",
       "      <th>nonbundle_addons</th>\n",
       "    </tr>\n",
       "  </thead>\n",
       "  <tbody>\n",
       "    <tr>\n",
       "      <th>0</th>\n",
       "      <td>2022-06-01</td>\n",
       "      <td>62138c861d2a050001cf8773</td>\n",
       "      <td>advanced-dvr-1000,third-screen,unlimited-scree...</td>\n",
       "      <td>advanced-dvr-1000,amc-premiere,starz-epix-show...</td>\n",
       "      <td>starz-epix-showtime,amc-premiere</td>\n",
       "    </tr>\n",
       "    <tr>\n",
       "      <th>1</th>\n",
       "      <td>2022-04-01</td>\n",
       "      <td>5b7b3dc5e09d61ef1b4a74ed</td>\n",
       "      <td>advanced-dvr,third-screen</td>\n",
       "      <td>advanced-dvr,deportes,rsn-fee,third-screen</td>\n",
       "      <td>deportes,rsn-fee</td>\n",
       "    </tr>\n",
       "    <tr>\n",
       "      <th>2</th>\n",
       "      <td>2021-06-01</td>\n",
       "      <td>5fe4ee8ff0680c0001514ab5</td>\n",
       "      <td>advanced-dvr-1000,fubo-extra-lite,third-screen...</td>\n",
       "      <td>advanced-dvr-1000,epix,fubo-extra-lite,third-s...</td>\n",
       "      <td>epix</td>\n",
       "    </tr>\n",
       "    <tr>\n",
       "      <th>3</th>\n",
       "      <td>2022-05-01</td>\n",
       "      <td>61f335130ffeb20001e191c1</td>\n",
       "      <td>advanced-dvr-1000,fubo-extra-lite,third-screen...</td>\n",
       "      <td>advanced-dvr-1000,fubo-extra-lite,news-plus,th...</td>\n",
       "      <td>news-plus</td>\n",
       "    </tr>\n",
       "    <tr>\n",
       "      <th>4</th>\n",
       "      <td>2022-03-01</td>\n",
       "      <td>6133a334439c4e000195c01b</td>\n",
       "      <td>advanced-dvr-250,third-screen</td>\n",
       "      <td>advanced-dvr-250,fubo-extra-lite,rsn-fee,third...</td>\n",
       "      <td>rsn-fee,fubo-extra-lite</td>\n",
       "    </tr>\n",
       "    <tr>\n",
       "      <th>...</th>\n",
       "      <td>...</td>\n",
       "      <td>...</td>\n",
       "      <td>...</td>\n",
       "      <td>...</td>\n",
       "      <td>...</td>\n",
       "    </tr>\n",
       "    <tr>\n",
       "      <th>18296485</th>\n",
       "      <td>2022-01-01</td>\n",
       "      <td>6175bfedb4f95f0001a132f4</td>\n",
       "      <td>advanced-dvr-1000,fubo-extra-lite,third-screen...</td>\n",
       "      <td>advanced-dvr-1000,fubo-extra-lite,rsn-fee,thir...</td>\n",
       "      <td>rsn-fee</td>\n",
       "    </tr>\n",
       "    <tr>\n",
       "      <th>18296486</th>\n",
       "      <td>2021-09-01</td>\n",
       "      <td>60610971c641910001edca22</td>\n",
       "      <td>advanced-dvr-1000,fubo-extra-lite,third-screen...</td>\n",
       "      <td>advanced-dvr-1000,fubo-extra-lite,rsn-fee,thir...</td>\n",
       "      <td>rsn-fee</td>\n",
       "    </tr>\n",
       "    <tr>\n",
       "      <th>18296487</th>\n",
       "      <td>2022-02-01</td>\n",
       "      <td>60c0cb33bff11a0001df9945</td>\n",
       "      <td>advanced-dvr-1000,fubo-extra-lite,third-screen...</td>\n",
       "      <td>advanced-dvr-1000,fubo-extra-lite,rsn-fee,thir...</td>\n",
       "      <td>rsn-fee</td>\n",
       "    </tr>\n",
       "    <tr>\n",
       "      <th>18296488</th>\n",
       "      <td>2022-01-01</td>\n",
       "      <td>6000b77f01dad2000188a4d3</td>\n",
       "      <td>advanced-dvr-1000,fubo-extra-lite,third-screen...</td>\n",
       "      <td>advanced-dvr-1000,fubo-extra-lite,rsn-fee,thir...</td>\n",
       "      <td>rsn-fee</td>\n",
       "    </tr>\n",
       "    <tr>\n",
       "      <th>18296489</th>\n",
       "      <td>2022-04-01</td>\n",
       "      <td>61b3cf1415c2a50001fe6b5d</td>\n",
       "      <td>advanced-dvr-1000,fubo-extra-lite,third-screen...</td>\n",
       "      <td>advanced-dvr-1000,fubo-extra-lite,rsn-fee,thir...</td>\n",
       "      <td>rsn-fee</td>\n",
       "    </tr>\n",
       "  </tbody>\n",
       "</table>\n",
       "<p>17269293 rows × 5 columns</p>\n",
       "</div>"
      ],
      "text/plain": [
       "              month              account_code  \\\n",
       "0        2022-06-01  62138c861d2a050001cf8773   \n",
       "1        2022-04-01  5b7b3dc5e09d61ef1b4a74ed   \n",
       "2        2021-06-01  5fe4ee8ff0680c0001514ab5   \n",
       "3        2022-05-01  61f335130ffeb20001e191c1   \n",
       "4        2022-03-01  6133a334439c4e000195c01b   \n",
       "...             ...                       ...   \n",
       "18296485 2022-01-01  6175bfedb4f95f0001a132f4   \n",
       "18296486 2021-09-01  60610971c641910001edca22   \n",
       "18296487 2022-02-01  60c0cb33bff11a0001df9945   \n",
       "18296488 2022-01-01  6000b77f01dad2000188a4d3   \n",
       "18296489 2022-04-01  61b3cf1415c2a50001fe6b5d   \n",
       "\n",
       "                                       bundle_addons_sorted  \\\n",
       "0         advanced-dvr-1000,third-screen,unlimited-scree...   \n",
       "1                                 advanced-dvr,third-screen   \n",
       "2         advanced-dvr-1000,fubo-extra-lite,third-screen...   \n",
       "3         advanced-dvr-1000,fubo-extra-lite,third-screen...   \n",
       "4                             advanced-dvr-250,third-screen   \n",
       "...                                                     ...   \n",
       "18296485  advanced-dvr-1000,fubo-extra-lite,third-screen...   \n",
       "18296486  advanced-dvr-1000,fubo-extra-lite,third-screen...   \n",
       "18296487  advanced-dvr-1000,fubo-extra-lite,third-screen...   \n",
       "18296488  advanced-dvr-1000,fubo-extra-lite,third-screen...   \n",
       "18296489  advanced-dvr-1000,fubo-extra-lite,third-screen...   \n",
       "\n",
       "                                              addons_sorted  \\\n",
       "0         advanced-dvr-1000,amc-premiere,starz-epix-show...   \n",
       "1                advanced-dvr,deportes,rsn-fee,third-screen   \n",
       "2         advanced-dvr-1000,epix,fubo-extra-lite,third-s...   \n",
       "3         advanced-dvr-1000,fubo-extra-lite,news-plus,th...   \n",
       "4         advanced-dvr-250,fubo-extra-lite,rsn-fee,third...   \n",
       "...                                                     ...   \n",
       "18296485  advanced-dvr-1000,fubo-extra-lite,rsn-fee,thir...   \n",
       "18296486  advanced-dvr-1000,fubo-extra-lite,rsn-fee,thir...   \n",
       "18296487  advanced-dvr-1000,fubo-extra-lite,rsn-fee,thir...   \n",
       "18296488  advanced-dvr-1000,fubo-extra-lite,rsn-fee,thir...   \n",
       "18296489  advanced-dvr-1000,fubo-extra-lite,rsn-fee,thir...   \n",
       "\n",
       "                          nonbundle_addons  \n",
       "0         starz-epix-showtime,amc-premiere  \n",
       "1                         deportes,rsn-fee  \n",
       "2                                     epix  \n",
       "3                                news-plus  \n",
       "4                  rsn-fee,fubo-extra-lite  \n",
       "...                                    ...  \n",
       "18296485                           rsn-fee  \n",
       "18296486                           rsn-fee  \n",
       "18296487                           rsn-fee  \n",
       "18296488                           rsn-fee  \n",
       "18296489                           rsn-fee  \n",
       "\n",
       "[17269293 rows x 5 columns]"
      ]
     },
     "execution_count": 119,
     "metadata": {},
     "output_type": "execute_result"
    }
   ],
   "source": [
    "df"
   ]
  },
  {
   "cell_type": "markdown",
   "metadata": {},
   "source": [
    "#### Splitting new_addition column into additional columns and exploding them into individual rows"
   ]
  },
  {
   "cell_type": "code",
   "execution_count": 120,
   "metadata": {},
   "outputs": [],
   "source": [
    "df['nonbundle_addons'] = df['nonbundle_addons'].str.split(',')\n",
    "df = df.explode('nonbundle_addons').reset_index(drop=True)\n",
    "cols = list(df.columns)\n",
    "df = df[cols]"
   ]
  },
  {
   "cell_type": "code",
   "execution_count": 121,
   "metadata": {},
   "outputs": [
    {
     "name": "stdout",
     "output_type": "stream",
     "text": [
      "<class 'pandas.core.frame.DataFrame'>\n",
      "RangeIndex: 18767739 entries, 0 to 18767738\n",
      "Data columns (total 5 columns):\n",
      " #   Column                Dtype         \n",
      "---  ------                -----         \n",
      " 0   month                 datetime64[ns]\n",
      " 1   account_code          object        \n",
      " 2   bundle_addons_sorted  object        \n",
      " 3   addons_sorted         object        \n",
      " 4   nonbundle_addons      object        \n",
      "dtypes: datetime64[ns](1), object(4)\n",
      "memory usage: 715.9+ MB\n"
     ]
    }
   ],
   "source": [
    "df.info()"
   ]
  },
  {
   "cell_type": "code",
   "execution_count": 122,
   "metadata": {},
   "outputs": [
    {
     "data": {
      "text/html": [
       "<div>\n",
       "<style scoped>\n",
       "    .dataframe tbody tr th:only-of-type {\n",
       "        vertical-align: middle;\n",
       "    }\n",
       "\n",
       "    .dataframe tbody tr th {\n",
       "        vertical-align: top;\n",
       "    }\n",
       "\n",
       "    .dataframe thead th {\n",
       "        text-align: right;\n",
       "    }\n",
       "</style>\n",
       "<table border=\"1\" class=\"dataframe\">\n",
       "  <thead>\n",
       "    <tr style=\"text-align: right;\">\n",
       "      <th></th>\n",
       "      <th>month</th>\n",
       "      <th>account_code</th>\n",
       "      <th>bundle_addons_sorted</th>\n",
       "      <th>addons_sorted</th>\n",
       "      <th>nonbundle_addons</th>\n",
       "    </tr>\n",
       "  </thead>\n",
       "  <tbody>\n",
       "    <tr>\n",
       "      <th>0</th>\n",
       "      <td>2022-06-01</td>\n",
       "      <td>62138c861d2a050001cf8773</td>\n",
       "      <td>advanced-dvr-1000,third-screen,unlimited-scree...</td>\n",
       "      <td>advanced-dvr-1000,amc-premiere,starz-epix-show...</td>\n",
       "      <td>starz-epix-showtime</td>\n",
       "    </tr>\n",
       "    <tr>\n",
       "      <th>1</th>\n",
       "      <td>2022-06-01</td>\n",
       "      <td>62138c861d2a050001cf8773</td>\n",
       "      <td>advanced-dvr-1000,third-screen,unlimited-scree...</td>\n",
       "      <td>advanced-dvr-1000,amc-premiere,starz-epix-show...</td>\n",
       "      <td>amc-premiere</td>\n",
       "    </tr>\n",
       "    <tr>\n",
       "      <th>2</th>\n",
       "      <td>2022-04-01</td>\n",
       "      <td>5b7b3dc5e09d61ef1b4a74ed</td>\n",
       "      <td>advanced-dvr,third-screen</td>\n",
       "      <td>advanced-dvr,deportes,rsn-fee,third-screen</td>\n",
       "      <td>deportes</td>\n",
       "    </tr>\n",
       "    <tr>\n",
       "      <th>3</th>\n",
       "      <td>2022-04-01</td>\n",
       "      <td>5b7b3dc5e09d61ef1b4a74ed</td>\n",
       "      <td>advanced-dvr,third-screen</td>\n",
       "      <td>advanced-dvr,deportes,rsn-fee,third-screen</td>\n",
       "      <td>rsn-fee</td>\n",
       "    </tr>\n",
       "    <tr>\n",
       "      <th>4</th>\n",
       "      <td>2021-06-01</td>\n",
       "      <td>5fe4ee8ff0680c0001514ab5</td>\n",
       "      <td>advanced-dvr-1000,fubo-extra-lite,third-screen...</td>\n",
       "      <td>advanced-dvr-1000,epix,fubo-extra-lite,third-s...</td>\n",
       "      <td>epix</td>\n",
       "    </tr>\n",
       "  </tbody>\n",
       "</table>\n",
       "</div>"
      ],
      "text/plain": [
       "       month              account_code  \\\n",
       "0 2022-06-01  62138c861d2a050001cf8773   \n",
       "1 2022-06-01  62138c861d2a050001cf8773   \n",
       "2 2022-04-01  5b7b3dc5e09d61ef1b4a74ed   \n",
       "3 2022-04-01  5b7b3dc5e09d61ef1b4a74ed   \n",
       "4 2021-06-01  5fe4ee8ff0680c0001514ab5   \n",
       "\n",
       "                                bundle_addons_sorted  \\\n",
       "0  advanced-dvr-1000,third-screen,unlimited-scree...   \n",
       "1  advanced-dvr-1000,third-screen,unlimited-scree...   \n",
       "2                          advanced-dvr,third-screen   \n",
       "3                          advanced-dvr,third-screen   \n",
       "4  advanced-dvr-1000,fubo-extra-lite,third-screen...   \n",
       "\n",
       "                                       addons_sorted     nonbundle_addons  \n",
       "0  advanced-dvr-1000,amc-premiere,starz-epix-show...  starz-epix-showtime  \n",
       "1  advanced-dvr-1000,amc-premiere,starz-epix-show...         amc-premiere  \n",
       "2         advanced-dvr,deportes,rsn-fee,third-screen             deportes  \n",
       "3         advanced-dvr,deportes,rsn-fee,third-screen              rsn-fee  \n",
       "4  advanced-dvr-1000,epix,fubo-extra-lite,third-s...                 epix  "
      ]
     },
     "execution_count": 122,
     "metadata": {},
     "output_type": "execute_result"
    }
   ],
   "source": [
    "df.head()"
   ]
  },
  {
   "cell_type": "code",
   "execution_count": 123,
   "metadata": {},
   "outputs": [],
   "source": [
    "df = df.drop(['addons_sorted', 'bundle_addons_sorted'], axis=1)"
   ]
  },
  {
   "cell_type": "code",
   "execution_count": 124,
   "metadata": {},
   "outputs": [],
   "source": [
    "df = df.drop_duplicates()"
   ]
  },
  {
   "cell_type": "code",
   "execution_count": 125,
   "metadata": {},
   "outputs": [
    {
     "data": {
      "text/html": [
       "<div>\n",
       "<style scoped>\n",
       "    .dataframe tbody tr th:only-of-type {\n",
       "        vertical-align: middle;\n",
       "    }\n",
       "\n",
       "    .dataframe tbody tr th {\n",
       "        vertical-align: top;\n",
       "    }\n",
       "\n",
       "    .dataframe thead th {\n",
       "        text-align: right;\n",
       "    }\n",
       "</style>\n",
       "<table border=\"1\" class=\"dataframe\">\n",
       "  <thead>\n",
       "    <tr style=\"text-align: right;\">\n",
       "      <th></th>\n",
       "      <th>month</th>\n",
       "      <th>account_code</th>\n",
       "      <th>nonbundle_addons</th>\n",
       "    </tr>\n",
       "  </thead>\n",
       "  <tbody>\n",
       "    <tr>\n",
       "      <th>0</th>\n",
       "      <td>2022-06-01</td>\n",
       "      <td>62138c861d2a050001cf8773</td>\n",
       "      <td>starz-epix-showtime</td>\n",
       "    </tr>\n",
       "    <tr>\n",
       "      <th>1</th>\n",
       "      <td>2022-06-01</td>\n",
       "      <td>62138c861d2a050001cf8773</td>\n",
       "      <td>amc-premiere</td>\n",
       "    </tr>\n",
       "    <tr>\n",
       "      <th>2</th>\n",
       "      <td>2022-04-01</td>\n",
       "      <td>5b7b3dc5e09d61ef1b4a74ed</td>\n",
       "      <td>deportes</td>\n",
       "    </tr>\n",
       "    <tr>\n",
       "      <th>3</th>\n",
       "      <td>2022-04-01</td>\n",
       "      <td>5b7b3dc5e09d61ef1b4a74ed</td>\n",
       "      <td>rsn-fee</td>\n",
       "    </tr>\n",
       "    <tr>\n",
       "      <th>4</th>\n",
       "      <td>2021-06-01</td>\n",
       "      <td>5fe4ee8ff0680c0001514ab5</td>\n",
       "      <td>epix</td>\n",
       "    </tr>\n",
       "    <tr>\n",
       "      <th>...</th>\n",
       "      <td>...</td>\n",
       "      <td>...</td>\n",
       "      <td>...</td>\n",
       "    </tr>\n",
       "    <tr>\n",
       "      <th>18767734</th>\n",
       "      <td>2022-01-01</td>\n",
       "      <td>6175bfedb4f95f0001a132f4</td>\n",
       "      <td>rsn-fee</td>\n",
       "    </tr>\n",
       "    <tr>\n",
       "      <th>18767735</th>\n",
       "      <td>2021-09-01</td>\n",
       "      <td>60610971c641910001edca22</td>\n",
       "      <td>rsn-fee</td>\n",
       "    </tr>\n",
       "    <tr>\n",
       "      <th>18767736</th>\n",
       "      <td>2022-02-01</td>\n",
       "      <td>60c0cb33bff11a0001df9945</td>\n",
       "      <td>rsn-fee</td>\n",
       "    </tr>\n",
       "    <tr>\n",
       "      <th>18767737</th>\n",
       "      <td>2022-01-01</td>\n",
       "      <td>6000b77f01dad2000188a4d3</td>\n",
       "      <td>rsn-fee</td>\n",
       "    </tr>\n",
       "    <tr>\n",
       "      <th>18767738</th>\n",
       "      <td>2022-04-01</td>\n",
       "      <td>61b3cf1415c2a50001fe6b5d</td>\n",
       "      <td>rsn-fee</td>\n",
       "    </tr>\n",
       "  </tbody>\n",
       "</table>\n",
       "<p>18113098 rows × 3 columns</p>\n",
       "</div>"
      ],
      "text/plain": [
       "              month              account_code     nonbundle_addons\n",
       "0        2022-06-01  62138c861d2a050001cf8773  starz-epix-showtime\n",
       "1        2022-06-01  62138c861d2a050001cf8773         amc-premiere\n",
       "2        2022-04-01  5b7b3dc5e09d61ef1b4a74ed             deportes\n",
       "3        2022-04-01  5b7b3dc5e09d61ef1b4a74ed              rsn-fee\n",
       "4        2021-06-01  5fe4ee8ff0680c0001514ab5                 epix\n",
       "...             ...                       ...                  ...\n",
       "18767734 2022-01-01  6175bfedb4f95f0001a132f4              rsn-fee\n",
       "18767735 2021-09-01  60610971c641910001edca22              rsn-fee\n",
       "18767736 2022-02-01  60c0cb33bff11a0001df9945              rsn-fee\n",
       "18767737 2022-01-01  6000b77f01dad2000188a4d3              rsn-fee\n",
       "18767738 2022-04-01  61b3cf1415c2a50001fe6b5d              rsn-fee\n",
       "\n",
       "[18113098 rows x 3 columns]"
      ]
     },
     "execution_count": 125,
     "metadata": {},
     "output_type": "execute_result"
    }
   ],
   "source": [
    "df"
   ]
  },
  {
   "cell_type": "markdown",
   "metadata": {},
   "source": [
    "#### Aggregating by month and new_addition to count distinct account_code"
   ]
  },
  {
   "cell_type": "code",
   "execution_count": 126,
   "metadata": {},
   "outputs": [],
   "source": [
    "df = df.groupby(['month', 'nonbundle_addons'],  as_index=False ).agg({'account_code': 'nunique'})"
   ]
  },
  {
   "cell_type": "code",
   "execution_count": 127,
   "metadata": {},
   "outputs": [],
   "source": [
    "df = df[df.nonbundle_addons != 'rsn-fee']\n",
    "df = df[df.nonbundle_addons != '']\n",
    "df = df[df.nonbundle_addons != \"\"]"
   ]
  },
  {
   "cell_type": "code",
   "execution_count": 128,
   "metadata": {},
   "outputs": [
    {
     "name": "stdout",
     "output_type": "stream",
     "text": [
      "<class 'pandas.core.frame.DataFrame'>\n",
      "Int64Index: 522 entries, 1 to 557\n",
      "Data columns (total 3 columns):\n",
      " #   Column            Non-Null Count  Dtype         \n",
      "---  ------            --------------  -----         \n",
      " 0   month             522 non-null    datetime64[ns]\n",
      " 1   nonbundle_addons  522 non-null    object        \n",
      " 2   account_code      522 non-null    int64         \n",
      "dtypes: datetime64[ns](1), int64(1), object(1)\n",
      "memory usage: 16.3+ KB\n"
     ]
    }
   ],
   "source": [
    "df.info()"
   ]
  },
  {
   "cell_type": "code",
   "execution_count": 107,
   "metadata": {},
   "outputs": [],
   "source": [
    "df.to_csv('/Users/nanditanandakumar/Dropbox (fuboTV)/Business Analytics/Team/Nandita/Git/Addons_Project/NonBundle_AddOns - Count.csv', index =False)"
   ]
  },
  {
   "cell_type": "code",
   "execution_count": 129,
   "metadata": {},
   "outputs": [],
   "source": [
    "df.to_gbq ( destination_table='business_analytics.temp_nonbundle_addon_counts', project_id= 'fubotv-dev', if_exists= 'replace')"
   ]
  }
 ],
 "metadata": {
  "interpreter": {
   "hash": "0974d6d4526877ac03092eddf71329aa51a4904723e66e5891e6e45546228747"
  },
  "kernelspec": {
   "display_name": "Python 3 (ipykernel)",
   "language": "python",
   "name": "python3"
  },
  "language_info": {
   "codemirror_mode": {
    "name": "ipython",
    "version": 3
   },
   "file_extension": ".py",
   "mimetype": "text/x-python",
   "name": "python",
   "nbconvert_exporter": "python",
   "pygments_lexer": "ipython3",
   "version": "3.7.13"
  }
 },
 "nbformat": 4,
 "nbformat_minor": 4
}
