{
 "cells": [
  {
   "cell_type": "code",
   "execution_count": 49,
   "metadata": {},
   "outputs": [],
   "source": [
    "import pandas as pd\n",
    "from pandas.io import gbq\n",
    "import numpy as np\n",
    "import os\n",
    "import glob\n",
    "import re"
   ]
  },
  {
   "cell_type": "code",
   "execution_count": 50,
   "metadata": {},
   "outputs": [],
   "source": [
    "import pydata_google_auth"
   ]
  },
  {
   "cell_type": "code",
   "execution_count": 78,
   "metadata": {},
   "outputs": [],
   "source": [
    "    connect_bq = [\n",
    "        'https://www.googleapis.com/auth/cloud-platform',\n",
    "        'https://www.googleapis.com/auth/drive',\n",
    "    ]\n",
    "\n",
    "    credentials = pydata_google_auth.get_user_credentials(\n",
    "        connect_bq,\n",
    "        auth_local_webserver=True,\n",
    "    )"
   ]
  },
  {
   "cell_type": "markdown",
   "metadata": {},
   "source": [
    "#### Query that retrieves add_ons per user for a month and new addition to the addons for that same month sorted in order as \"ordered_updated_addons\""
   ]
  },
  {
   "cell_type": "code",
   "execution_count": 79,
   "metadata": {},
   "outputs": [],
   "source": [
    "sql_query = \"\"\"\n",
    "# June 1st Add-Ons\n",
    "CREATE TEMP FUNCTION STRING_DEDUP(str STRING) AS (\n",
    "(SELECT STRING_AGG(item ORDER BY item) FROM (\n",
    "SELECT DISTINCT item FROM UNNEST(SPLIT(str)) item \n",
    ")) \n",
    ");\n",
    "----------------------------------------------------------------------------------------------------------------------\n",
    "with daily_status as (\n",
    "Select * , DATE_TRUNC(day, month) as change_month\n",
    "from `fubotv-prod.data_insights.daily_status_static_update` t1\n",
    "where final_status_restated like '%paid%'\n",
    "AND day = current_date()-1\n",
    "),\n",
    "add_on as (\n",
    "select account_code, change_month, STRING_DEDUP(add_ons) as addons_sorted,STRING_DEDUP(bundle_add_on_list) as bundle_addons_sorted\n",
    "FROM daily_status\n",
    ")\n",
    "select DISTINCT change_month, account_code, bundle_addons_sorted, addons_sorted\n",
    "from add_on\n",
    "ORDER BY 1,2\n",
    "LIMIT 1000\n",
    "\"\"\""
   ]
  },
  {
   "cell_type": "code",
   "execution_count": 97,
   "metadata": {},
   "outputs": [],
   "source": [
    "df = pd.read_gbq(\n",
    "    sql_query,\n",
    "    project_id='fubotv-prod',\n",
    "    credentials=credentials,\n",
    ")"
   ]
  },
  {
   "cell_type": "code",
   "execution_count": 98,
   "metadata": {},
   "outputs": [
    {
     "data": {
      "text/html": [
       "<div>\n",
       "<style scoped>\n",
       "    .dataframe tbody tr th:only-of-type {\n",
       "        vertical-align: middle;\n",
       "    }\n",
       "\n",
       "    .dataframe tbody tr th {\n",
       "        vertical-align: top;\n",
       "    }\n",
       "\n",
       "    .dataframe thead th {\n",
       "        text-align: right;\n",
       "    }\n",
       "</style>\n",
       "<table border=\"1\" class=\"dataframe\">\n",
       "  <thead>\n",
       "    <tr style=\"text-align: right;\">\n",
       "      <th></th>\n",
       "      <th>change_month</th>\n",
       "      <th>account_code</th>\n",
       "      <th>bundle_addons_sorted</th>\n",
       "      <th>addons_sorted</th>\n",
       "    </tr>\n",
       "  </thead>\n",
       "  <tbody>\n",
       "    <tr>\n",
       "      <th>0</th>\n",
       "      <td>2022-06-01</td>\n",
       "      <td>53cd5564c44bf00200483fd8</td>\n",
       "      <td>advanced-dvr-1000,fubo-extra-lite,third-screen...</td>\n",
       "      <td>advanced-dvr-1000,fubo-extra-lite,rsn-fee,thir...</td>\n",
       "    </tr>\n",
       "    <tr>\n",
       "      <th>1</th>\n",
       "      <td>2022-06-01</td>\n",
       "      <td>542cc7a4c95b4a0200cf1f7f</td>\n",
       "      <td>advanced-dvr-1000,fubo-extra-lite,third-screen...</td>\n",
       "      <td>advanced-dvr-1000,fubo-extra-lite,third-screen...</td>\n",
       "    </tr>\n",
       "    <tr>\n",
       "      <th>2</th>\n",
       "      <td>2022-06-01</td>\n",
       "      <td>5430e0c50d22c6020023a64e</td>\n",
       "      <td>advanced-dvr-1000,third-screen,unlimited-scree...</td>\n",
       "      <td>advanced-dvr-1000,rsn-fee,third-screen,unlimit...</td>\n",
       "    </tr>\n",
       "    <tr>\n",
       "      <th>3</th>\n",
       "      <td>2022-06-01</td>\n",
       "      <td>5430ea839ca3180200fea345</td>\n",
       "      <td>None</td>\n",
       "      <td>None</td>\n",
       "    </tr>\n",
       "    <tr>\n",
       "      <th>4</th>\n",
       "      <td>2022-06-01</td>\n",
       "      <td>543204aadea93902000052d1</td>\n",
       "      <td>advanced-dvr-1000,third-screen,unlimited-scree...</td>\n",
       "      <td>advanced-dvr-1000,third-screen,unlimited-scree...</td>\n",
       "    </tr>\n",
       "  </tbody>\n",
       "</table>\n",
       "</div>"
      ],
      "text/plain": [
       "  change_month              account_code  \\\n",
       "0   2022-06-01  53cd5564c44bf00200483fd8   \n",
       "1   2022-06-01  542cc7a4c95b4a0200cf1f7f   \n",
       "2   2022-06-01  5430e0c50d22c6020023a64e   \n",
       "3   2022-06-01  5430ea839ca3180200fea345   \n",
       "4   2022-06-01  543204aadea93902000052d1   \n",
       "\n",
       "                                bundle_addons_sorted  \\\n",
       "0  advanced-dvr-1000,fubo-extra-lite,third-screen...   \n",
       "1  advanced-dvr-1000,fubo-extra-lite,third-screen...   \n",
       "2  advanced-dvr-1000,third-screen,unlimited-scree...   \n",
       "3                                               None   \n",
       "4  advanced-dvr-1000,third-screen,unlimited-scree...   \n",
       "\n",
       "                                       addons_sorted  \n",
       "0  advanced-dvr-1000,fubo-extra-lite,rsn-fee,thir...  \n",
       "1  advanced-dvr-1000,fubo-extra-lite,third-screen...  \n",
       "2  advanced-dvr-1000,rsn-fee,third-screen,unlimit...  \n",
       "3                                               None  \n",
       "4  advanced-dvr-1000,third-screen,unlimited-scree...  "
      ]
     },
     "execution_count": 98,
     "metadata": {},
     "output_type": "execute_result"
    }
   ],
   "source": [
    "df.head()"
   ]
  },
  {
   "cell_type": "code",
   "execution_count": null,
   "metadata": {},
   "outputs": [],
   "source": [
    "old_df = df #fail safe"
   ]
  },
  {
   "cell_type": "code",
   "execution_count": 99,
   "metadata": {},
   "outputs": [
    {
     "name": "stdout",
     "output_type": "stream",
     "text": [
      "<class 'pandas.core.frame.DataFrame'>\n",
      "RangeIndex: 1000 entries, 0 to 999\n",
      "Data columns (total 4 columns):\n",
      " #   Column                Non-Null Count  Dtype         \n",
      "---  ------                --------------  -----         \n",
      " 0   change_month          1000 non-null   datetime64[ns]\n",
      " 1   account_code          1000 non-null   object        \n",
      " 2   bundle_addons_sorted  980 non-null    object        \n",
      " 3   addons_sorted         985 non-null    object        \n",
      "dtypes: datetime64[ns](1), object(3)\n",
      "memory usage: 31.4+ KB\n"
     ]
    }
   ],
   "source": [
    "df.info()"
   ]
  },
  {
   "cell_type": "code",
   "execution_count": 100,
   "metadata": {},
   "outputs": [],
   "source": [
    "df = df.fillna(\" \")"
   ]
  },
  {
   "cell_type": "code",
   "execution_count": 104,
   "metadata": {},
   "outputs": [
    {
     "name": "stdout",
     "output_type": "stream",
     "text": [
      "<class 'pandas.core.frame.DataFrame'>\n",
      "RangeIndex: 1000 entries, 0 to 999\n",
      "Data columns (total 4 columns):\n",
      " #   Column                Non-Null Count  Dtype         \n",
      "---  ------                --------------  -----         \n",
      " 0   change_month          1000 non-null   datetime64[ns]\n",
      " 1   account_code          1000 non-null   object        \n",
      " 2   bundle_addons_sorted  1000 non-null   object        \n",
      " 3   addons_sorted         1000 non-null   object        \n",
      "dtypes: datetime64[ns](1), object(3)\n",
      "memory usage: 31.4+ KB\n"
     ]
    }
   ],
   "source": [
    "df.info()"
   ]
  },
  {
   "cell_type": "code",
   "execution_count": 103,
   "metadata": {},
   "outputs": [
    {
     "data": {
      "text/html": [
       "<div>\n",
       "<style scoped>\n",
       "    .dataframe tbody tr th:only-of-type {\n",
       "        vertical-align: middle;\n",
       "    }\n",
       "\n",
       "    .dataframe tbody tr th {\n",
       "        vertical-align: top;\n",
       "    }\n",
       "\n",
       "    .dataframe thead th {\n",
       "        text-align: right;\n",
       "    }\n",
       "</style>\n",
       "<table border=\"1\" class=\"dataframe\">\n",
       "  <thead>\n",
       "    <tr style=\"text-align: right;\">\n",
       "      <th></th>\n",
       "      <th>change_month</th>\n",
       "      <th>account_code</th>\n",
       "      <th>bundle_addons_sorted</th>\n",
       "      <th>addons_sorted</th>\n",
       "    </tr>\n",
       "  </thead>\n",
       "  <tbody>\n",
       "    <tr>\n",
       "      <th>0</th>\n",
       "      <td>2022-06-01</td>\n",
       "      <td>53cd5564c44bf00200483fd8</td>\n",
       "      <td>advanced-dvr-1000,fubo-extra-lite,third-screen...</td>\n",
       "      <td>advanced-dvr-1000,fubo-extra-lite,rsn-fee,thir...</td>\n",
       "    </tr>\n",
       "    <tr>\n",
       "      <th>1</th>\n",
       "      <td>2022-06-01</td>\n",
       "      <td>542cc7a4c95b4a0200cf1f7f</td>\n",
       "      <td>advanced-dvr-1000,fubo-extra-lite,third-screen...</td>\n",
       "      <td>advanced-dvr-1000,fubo-extra-lite,third-screen...</td>\n",
       "    </tr>\n",
       "    <tr>\n",
       "      <th>2</th>\n",
       "      <td>2022-06-01</td>\n",
       "      <td>5430e0c50d22c6020023a64e</td>\n",
       "      <td>advanced-dvr-1000,third-screen,unlimited-scree...</td>\n",
       "      <td>advanced-dvr-1000,rsn-fee,third-screen,unlimit...</td>\n",
       "    </tr>\n",
       "    <tr>\n",
       "      <th>3</th>\n",
       "      <td>2022-06-01</td>\n",
       "      <td>5430ea839ca3180200fea345</td>\n",
       "      <td></td>\n",
       "      <td></td>\n",
       "    </tr>\n",
       "    <tr>\n",
       "      <th>4</th>\n",
       "      <td>2022-06-01</td>\n",
       "      <td>543204aadea93902000052d1</td>\n",
       "      <td>advanced-dvr-1000,third-screen,unlimited-scree...</td>\n",
       "      <td>advanced-dvr-1000,third-screen,unlimited-scree...</td>\n",
       "    </tr>\n",
       "  </tbody>\n",
       "</table>\n",
       "</div>"
      ],
      "text/plain": [
       "  change_month              account_code  \\\n",
       "0   2022-06-01  53cd5564c44bf00200483fd8   \n",
       "1   2022-06-01  542cc7a4c95b4a0200cf1f7f   \n",
       "2   2022-06-01  5430e0c50d22c6020023a64e   \n",
       "3   2022-06-01  5430ea839ca3180200fea345   \n",
       "4   2022-06-01  543204aadea93902000052d1   \n",
       "\n",
       "                                bundle_addons_sorted  \\\n",
       "0  advanced-dvr-1000,fubo-extra-lite,third-screen...   \n",
       "1  advanced-dvr-1000,fubo-extra-lite,third-screen...   \n",
       "2  advanced-dvr-1000,third-screen,unlimited-scree...   \n",
       "3                                                      \n",
       "4  advanced-dvr-1000,third-screen,unlimited-scree...   \n",
       "\n",
       "                                       addons_sorted  \n",
       "0  advanced-dvr-1000,fubo-extra-lite,rsn-fee,thir...  \n",
       "1  advanced-dvr-1000,fubo-extra-lite,third-screen...  \n",
       "2  advanced-dvr-1000,rsn-fee,third-screen,unlimit...  \n",
       "3                                                     \n",
       "4  advanced-dvr-1000,third-screen,unlimited-scree...  "
      ]
     },
     "execution_count": 103,
     "metadata": {},
     "output_type": "execute_result"
    }
   ],
   "source": [
    "df.head()"
   ]
  },
  {
   "cell_type": "markdown",
   "metadata": {},
   "source": [
    "###### Comparing ordered_updated_addons with ordered_previous_addons and get the difference by splitting the objects into sets. Making that a new column new_addition"
   ]
  },
  {
   "cell_type": "code",
   "execution_count": 105,
   "metadata": {},
   "outputs": [],
   "source": [
    "df['new_addition'] = [','.join(set(n.split(',')) - set(o.split(','))) \n",
    "                                                          for o, n in zip(df.bundle_addons_sorted, df.addons_sorted)]"
   ]
  },
  {
   "cell_type": "code",
   "execution_count": 106,
   "metadata": {},
   "outputs": [
    {
     "data": {
      "text/html": [
       "<div>\n",
       "<style scoped>\n",
       "    .dataframe tbody tr th:only-of-type {\n",
       "        vertical-align: middle;\n",
       "    }\n",
       "\n",
       "    .dataframe tbody tr th {\n",
       "        vertical-align: top;\n",
       "    }\n",
       "\n",
       "    .dataframe thead th {\n",
       "        text-align: right;\n",
       "    }\n",
       "</style>\n",
       "<table border=\"1\" class=\"dataframe\">\n",
       "  <thead>\n",
       "    <tr style=\"text-align: right;\">\n",
       "      <th></th>\n",
       "      <th>change_month</th>\n",
       "      <th>account_code</th>\n",
       "      <th>bundle_addons_sorted</th>\n",
       "      <th>addons_sorted</th>\n",
       "      <th>new_addition</th>\n",
       "    </tr>\n",
       "  </thead>\n",
       "  <tbody>\n",
       "    <tr>\n",
       "      <th>0</th>\n",
       "      <td>2022-06-01</td>\n",
       "      <td>53cd5564c44bf00200483fd8</td>\n",
       "      <td>advanced-dvr-1000,fubo-extra-lite,third-screen...</td>\n",
       "      <td>advanced-dvr-1000,fubo-extra-lite,rsn-fee,thir...</td>\n",
       "      <td>rsn-fee</td>\n",
       "    </tr>\n",
       "    <tr>\n",
       "      <th>1</th>\n",
       "      <td>2022-06-01</td>\n",
       "      <td>542cc7a4c95b4a0200cf1f7f</td>\n",
       "      <td>advanced-dvr-1000,fubo-extra-lite,third-screen...</td>\n",
       "      <td>advanced-dvr-1000,fubo-extra-lite,third-screen...</td>\n",
       "      <td></td>\n",
       "    </tr>\n",
       "    <tr>\n",
       "      <th>2</th>\n",
       "      <td>2022-06-01</td>\n",
       "      <td>5430e0c50d22c6020023a64e</td>\n",
       "      <td>advanced-dvr-1000,third-screen,unlimited-scree...</td>\n",
       "      <td>advanced-dvr-1000,rsn-fee,third-screen,unlimit...</td>\n",
       "      <td>rsn-fee</td>\n",
       "    </tr>\n",
       "    <tr>\n",
       "      <th>3</th>\n",
       "      <td>2022-06-01</td>\n",
       "      <td>5430ea839ca3180200fea345</td>\n",
       "      <td></td>\n",
       "      <td></td>\n",
       "      <td></td>\n",
       "    </tr>\n",
       "    <tr>\n",
       "      <th>4</th>\n",
       "      <td>2022-06-01</td>\n",
       "      <td>543204aadea93902000052d1</td>\n",
       "      <td>advanced-dvr-1000,third-screen,unlimited-scree...</td>\n",
       "      <td>advanced-dvr-1000,third-screen,unlimited-scree...</td>\n",
       "      <td></td>\n",
       "    </tr>\n",
       "    <tr>\n",
       "      <th>...</th>\n",
       "      <td>...</td>\n",
       "      <td>...</td>\n",
       "      <td>...</td>\n",
       "      <td>...</td>\n",
       "      <td>...</td>\n",
       "    </tr>\n",
       "    <tr>\n",
       "      <th>995</th>\n",
       "      <td>2022-06-01</td>\n",
       "      <td>55e32e6b4651a00f0018910d</td>\n",
       "      <td>advanced-dvr-250</td>\n",
       "      <td>advanced-dvr</td>\n",
       "      <td>advanced-dvr</td>\n",
       "    </tr>\n",
       "    <tr>\n",
       "      <th>996</th>\n",
       "      <td>2022-06-01</td>\n",
       "      <td>55e3329ece3a600f00d001de</td>\n",
       "      <td>advanced-dvr-250,third-screen</td>\n",
       "      <td>advanced-dvr-250,third-screen</td>\n",
       "      <td></td>\n",
       "    </tr>\n",
       "    <tr>\n",
       "      <th>997</th>\n",
       "      <td>2022-06-01</td>\n",
       "      <td>55e3392d78cf680700d6b4ac</td>\n",
       "      <td>advanced-dvr-1000,third-screen,unlimited-scree...</td>\n",
       "      <td>advanced-dvr-1000,rsn-fee,third-screen,unlimit...</td>\n",
       "      <td>rsn-fee</td>\n",
       "    </tr>\n",
       "    <tr>\n",
       "      <th>998</th>\n",
       "      <td>2022-06-01</td>\n",
       "      <td>55e33cdb4651a00f0018914a</td>\n",
       "      <td>advanced-dvr-250,third-screen</td>\n",
       "      <td>advanced-dvr-250,third-screen</td>\n",
       "      <td></td>\n",
       "    </tr>\n",
       "    <tr>\n",
       "      <th>999</th>\n",
       "      <td>2022-06-01</td>\n",
       "      <td>55e358d54651a00f001891d8</td>\n",
       "      <td>advanced-dvr-250,third-screen</td>\n",
       "      <td>advanced-dvr-250,third-screen</td>\n",
       "      <td></td>\n",
       "    </tr>\n",
       "  </tbody>\n",
       "</table>\n",
       "<p>1000 rows × 5 columns</p>\n",
       "</div>"
      ],
      "text/plain": [
       "    change_month              account_code  \\\n",
       "0     2022-06-01  53cd5564c44bf00200483fd8   \n",
       "1     2022-06-01  542cc7a4c95b4a0200cf1f7f   \n",
       "2     2022-06-01  5430e0c50d22c6020023a64e   \n",
       "3     2022-06-01  5430ea839ca3180200fea345   \n",
       "4     2022-06-01  543204aadea93902000052d1   \n",
       "..           ...                       ...   \n",
       "995   2022-06-01  55e32e6b4651a00f0018910d   \n",
       "996   2022-06-01  55e3329ece3a600f00d001de   \n",
       "997   2022-06-01  55e3392d78cf680700d6b4ac   \n",
       "998   2022-06-01  55e33cdb4651a00f0018914a   \n",
       "999   2022-06-01  55e358d54651a00f001891d8   \n",
       "\n",
       "                                  bundle_addons_sorted  \\\n",
       "0    advanced-dvr-1000,fubo-extra-lite,third-screen...   \n",
       "1    advanced-dvr-1000,fubo-extra-lite,third-screen...   \n",
       "2    advanced-dvr-1000,third-screen,unlimited-scree...   \n",
       "3                                                        \n",
       "4    advanced-dvr-1000,third-screen,unlimited-scree...   \n",
       "..                                                 ...   \n",
       "995                                   advanced-dvr-250   \n",
       "996                      advanced-dvr-250,third-screen   \n",
       "997  advanced-dvr-1000,third-screen,unlimited-scree...   \n",
       "998                      advanced-dvr-250,third-screen   \n",
       "999                      advanced-dvr-250,third-screen   \n",
       "\n",
       "                                         addons_sorted  new_addition  \n",
       "0    advanced-dvr-1000,fubo-extra-lite,rsn-fee,thir...       rsn-fee  \n",
       "1    advanced-dvr-1000,fubo-extra-lite,third-screen...                \n",
       "2    advanced-dvr-1000,rsn-fee,third-screen,unlimit...       rsn-fee  \n",
       "3                                                                     \n",
       "4    advanced-dvr-1000,third-screen,unlimited-scree...                \n",
       "..                                                 ...           ...  \n",
       "995                                       advanced-dvr  advanced-dvr  \n",
       "996                      advanced-dvr-250,third-screen                \n",
       "997  advanced-dvr-1000,rsn-fee,third-screen,unlimit...       rsn-fee  \n",
       "998                      advanced-dvr-250,third-screen                \n",
       "999                      advanced-dvr-250,third-screen                \n",
       "\n",
       "[1000 rows x 5 columns]"
      ]
     },
     "execution_count": 106,
     "metadata": {},
     "output_type": "execute_result"
    }
   ],
   "source": [
    "df"
   ]
  },
  {
   "cell_type": "markdown",
   "metadata": {},
   "source": [
    "#### Splitting new_addition column into additional columns and exploding them into individual rows"
   ]
  },
  {
   "cell_type": "code",
   "execution_count": 107,
   "metadata": {},
   "outputs": [],
   "source": [
    "new_df = df #Fail safe"
   ]
  },
  {
   "cell_type": "code",
   "execution_count": 108,
   "metadata": {},
   "outputs": [],
   "source": [
    "new_df['new_addition'] = new_df['new_addition'].str.split(',')\n",
    "new_df = new_df.explode('new_addition').reset_index(drop=True)\n",
    "cols = list(new_df.columns)\n",
    "new2_df = new_df[cols]"
   ]
  },
  {
   "cell_type": "code",
   "execution_count": 109,
   "metadata": {},
   "outputs": [
    {
     "name": "stdout",
     "output_type": "stream",
     "text": [
      "<class 'pandas.core.frame.DataFrame'>\n",
      "RangeIndex: 1115 entries, 0 to 1114\n",
      "Data columns (total 5 columns):\n",
      " #   Column                Non-Null Count  Dtype         \n",
      "---  ------                --------------  -----         \n",
      " 0   change_month          1115 non-null   datetime64[ns]\n",
      " 1   account_code          1115 non-null   object        \n",
      " 2   bundle_addons_sorted  1115 non-null   object        \n",
      " 3   addons_sorted         1115 non-null   object        \n",
      " 4   new_addition          1115 non-null   object        \n",
      "dtypes: datetime64[ns](1), object(4)\n",
      "memory usage: 43.7+ KB\n"
     ]
    }
   ],
   "source": [
    "new2_df.info()"
   ]
  },
  {
   "cell_type": "code",
   "execution_count": 110,
   "metadata": {},
   "outputs": [],
   "source": [
    "new2_df.to_csv('Test-All data.csv', index =False)"
   ]
  },
  {
   "cell_type": "code",
   "execution_count": 111,
   "metadata": {},
   "outputs": [],
   "source": [
    "new2_df = new2_df.drop(['addons_sorted', 'bundle_addons_sorted'], axis=1)"
   ]
  },
  {
   "cell_type": "code",
   "execution_count": 112,
   "metadata": {},
   "outputs": [
    {
     "data": {
      "text/html": [
       "<div>\n",
       "<style scoped>\n",
       "    .dataframe tbody tr th:only-of-type {\n",
       "        vertical-align: middle;\n",
       "    }\n",
       "\n",
       "    .dataframe tbody tr th {\n",
       "        vertical-align: top;\n",
       "    }\n",
       "\n",
       "    .dataframe thead th {\n",
       "        text-align: right;\n",
       "    }\n",
       "</style>\n",
       "<table border=\"1\" class=\"dataframe\">\n",
       "  <thead>\n",
       "    <tr style=\"text-align: right;\">\n",
       "      <th></th>\n",
       "      <th>change_month</th>\n",
       "      <th>account_code</th>\n",
       "      <th>new_addition</th>\n",
       "    </tr>\n",
       "  </thead>\n",
       "  <tbody>\n",
       "    <tr>\n",
       "      <th>0</th>\n",
       "      <td>2022-06-01</td>\n",
       "      <td>53cd5564c44bf00200483fd8</td>\n",
       "      <td>rsn-fee</td>\n",
       "    </tr>\n",
       "    <tr>\n",
       "      <th>1</th>\n",
       "      <td>2022-06-01</td>\n",
       "      <td>542cc7a4c95b4a0200cf1f7f</td>\n",
       "      <td></td>\n",
       "    </tr>\n",
       "    <tr>\n",
       "      <th>2</th>\n",
       "      <td>2022-06-01</td>\n",
       "      <td>5430e0c50d22c6020023a64e</td>\n",
       "      <td>rsn-fee</td>\n",
       "    </tr>\n",
       "    <tr>\n",
       "      <th>3</th>\n",
       "      <td>2022-06-01</td>\n",
       "      <td>5430ea839ca3180200fea345</td>\n",
       "      <td></td>\n",
       "    </tr>\n",
       "    <tr>\n",
       "      <th>4</th>\n",
       "      <td>2022-06-01</td>\n",
       "      <td>543204aadea93902000052d1</td>\n",
       "      <td></td>\n",
       "    </tr>\n",
       "    <tr>\n",
       "      <th>...</th>\n",
       "      <td>...</td>\n",
       "      <td>...</td>\n",
       "      <td>...</td>\n",
       "    </tr>\n",
       "    <tr>\n",
       "      <th>1110</th>\n",
       "      <td>2022-06-01</td>\n",
       "      <td>55e32e6b4651a00f0018910d</td>\n",
       "      <td>advanced-dvr</td>\n",
       "    </tr>\n",
       "    <tr>\n",
       "      <th>1111</th>\n",
       "      <td>2022-06-01</td>\n",
       "      <td>55e3329ece3a600f00d001de</td>\n",
       "      <td></td>\n",
       "    </tr>\n",
       "    <tr>\n",
       "      <th>1112</th>\n",
       "      <td>2022-06-01</td>\n",
       "      <td>55e3392d78cf680700d6b4ac</td>\n",
       "      <td>rsn-fee</td>\n",
       "    </tr>\n",
       "    <tr>\n",
       "      <th>1113</th>\n",
       "      <td>2022-06-01</td>\n",
       "      <td>55e33cdb4651a00f0018914a</td>\n",
       "      <td></td>\n",
       "    </tr>\n",
       "    <tr>\n",
       "      <th>1114</th>\n",
       "      <td>2022-06-01</td>\n",
       "      <td>55e358d54651a00f001891d8</td>\n",
       "      <td></td>\n",
       "    </tr>\n",
       "  </tbody>\n",
       "</table>\n",
       "<p>1115 rows × 3 columns</p>\n",
       "</div>"
      ],
      "text/plain": [
       "     change_month              account_code  new_addition\n",
       "0      2022-06-01  53cd5564c44bf00200483fd8       rsn-fee\n",
       "1      2022-06-01  542cc7a4c95b4a0200cf1f7f              \n",
       "2      2022-06-01  5430e0c50d22c6020023a64e       rsn-fee\n",
       "3      2022-06-01  5430ea839ca3180200fea345              \n",
       "4      2022-06-01  543204aadea93902000052d1              \n",
       "...           ...                       ...           ...\n",
       "1110   2022-06-01  55e32e6b4651a00f0018910d  advanced-dvr\n",
       "1111   2022-06-01  55e3329ece3a600f00d001de              \n",
       "1112   2022-06-01  55e3392d78cf680700d6b4ac       rsn-fee\n",
       "1113   2022-06-01  55e33cdb4651a00f0018914a              \n",
       "1114   2022-06-01  55e358d54651a00f001891d8              \n",
       "\n",
       "[1115 rows x 3 columns]"
      ]
     },
     "execution_count": 112,
     "metadata": {},
     "output_type": "execute_result"
    }
   ],
   "source": [
    "new2_df"
   ]
  },
  {
   "cell_type": "code",
   "execution_count": 113,
   "metadata": {},
   "outputs": [],
   "source": [
    "new2_df = new2_df.drop_duplicates()"
   ]
  },
  {
   "cell_type": "code",
   "execution_count": 114,
   "metadata": {},
   "outputs": [
    {
     "data": {
      "text/html": [
       "<div>\n",
       "<style scoped>\n",
       "    .dataframe tbody tr th:only-of-type {\n",
       "        vertical-align: middle;\n",
       "    }\n",
       "\n",
       "    .dataframe tbody tr th {\n",
       "        vertical-align: top;\n",
       "    }\n",
       "\n",
       "    .dataframe thead th {\n",
       "        text-align: right;\n",
       "    }\n",
       "</style>\n",
       "<table border=\"1\" class=\"dataframe\">\n",
       "  <thead>\n",
       "    <tr style=\"text-align: right;\">\n",
       "      <th></th>\n",
       "      <th>change_month</th>\n",
       "      <th>account_code</th>\n",
       "      <th>new_addition</th>\n",
       "    </tr>\n",
       "  </thead>\n",
       "  <tbody>\n",
       "    <tr>\n",
       "      <th>0</th>\n",
       "      <td>2022-06-01</td>\n",
       "      <td>53cd5564c44bf00200483fd8</td>\n",
       "      <td>rsn-fee</td>\n",
       "    </tr>\n",
       "    <tr>\n",
       "      <th>1</th>\n",
       "      <td>2022-06-01</td>\n",
       "      <td>542cc7a4c95b4a0200cf1f7f</td>\n",
       "      <td></td>\n",
       "    </tr>\n",
       "    <tr>\n",
       "      <th>2</th>\n",
       "      <td>2022-06-01</td>\n",
       "      <td>5430e0c50d22c6020023a64e</td>\n",
       "      <td>rsn-fee</td>\n",
       "    </tr>\n",
       "    <tr>\n",
       "      <th>3</th>\n",
       "      <td>2022-06-01</td>\n",
       "      <td>5430ea839ca3180200fea345</td>\n",
       "      <td></td>\n",
       "    </tr>\n",
       "    <tr>\n",
       "      <th>4</th>\n",
       "      <td>2022-06-01</td>\n",
       "      <td>543204aadea93902000052d1</td>\n",
       "      <td></td>\n",
       "    </tr>\n",
       "    <tr>\n",
       "      <th>...</th>\n",
       "      <td>...</td>\n",
       "      <td>...</td>\n",
       "      <td>...</td>\n",
       "    </tr>\n",
       "    <tr>\n",
       "      <th>1110</th>\n",
       "      <td>2022-06-01</td>\n",
       "      <td>55e32e6b4651a00f0018910d</td>\n",
       "      <td>advanced-dvr</td>\n",
       "    </tr>\n",
       "    <tr>\n",
       "      <th>1111</th>\n",
       "      <td>2022-06-01</td>\n",
       "      <td>55e3329ece3a600f00d001de</td>\n",
       "      <td></td>\n",
       "    </tr>\n",
       "    <tr>\n",
       "      <th>1112</th>\n",
       "      <td>2022-06-01</td>\n",
       "      <td>55e3392d78cf680700d6b4ac</td>\n",
       "      <td>rsn-fee</td>\n",
       "    </tr>\n",
       "    <tr>\n",
       "      <th>1113</th>\n",
       "      <td>2022-06-01</td>\n",
       "      <td>55e33cdb4651a00f0018914a</td>\n",
       "      <td></td>\n",
       "    </tr>\n",
       "    <tr>\n",
       "      <th>1114</th>\n",
       "      <td>2022-06-01</td>\n",
       "      <td>55e358d54651a00f001891d8</td>\n",
       "      <td></td>\n",
       "    </tr>\n",
       "  </tbody>\n",
       "</table>\n",
       "<p>1115 rows × 3 columns</p>\n",
       "</div>"
      ],
      "text/plain": [
       "     change_month              account_code  new_addition\n",
       "0      2022-06-01  53cd5564c44bf00200483fd8       rsn-fee\n",
       "1      2022-06-01  542cc7a4c95b4a0200cf1f7f              \n",
       "2      2022-06-01  5430e0c50d22c6020023a64e       rsn-fee\n",
       "3      2022-06-01  5430ea839ca3180200fea345              \n",
       "4      2022-06-01  543204aadea93902000052d1              \n",
       "...           ...                       ...           ...\n",
       "1110   2022-06-01  55e32e6b4651a00f0018910d  advanced-dvr\n",
       "1111   2022-06-01  55e3329ece3a600f00d001de              \n",
       "1112   2022-06-01  55e3392d78cf680700d6b4ac       rsn-fee\n",
       "1113   2022-06-01  55e33cdb4651a00f0018914a              \n",
       "1114   2022-06-01  55e358d54651a00f001891d8              \n",
       "\n",
       "[1115 rows x 3 columns]"
      ]
     },
     "execution_count": 114,
     "metadata": {},
     "output_type": "execute_result"
    }
   ],
   "source": [
    "new2_df"
   ]
  },
  {
   "cell_type": "code",
   "execution_count": 115,
   "metadata": {},
   "outputs": [],
   "source": [
    "new3_df = new2_df"
   ]
  },
  {
   "cell_type": "code",
   "execution_count": 116,
   "metadata": {},
   "outputs": [
    {
     "name": "stdout",
     "output_type": "stream",
     "text": [
      "<class 'pandas.core.frame.DataFrame'>\n",
      "Int64Index: 1115 entries, 0 to 1114\n",
      "Data columns (total 3 columns):\n",
      " #   Column        Non-Null Count  Dtype         \n",
      "---  ------        --------------  -----         \n",
      " 0   change_month  1115 non-null   datetime64[ns]\n",
      " 1   account_code  1115 non-null   object        \n",
      " 2   new_addition  1115 non-null   object        \n",
      "dtypes: datetime64[ns](1), object(2)\n",
      "memory usage: 34.8+ KB\n"
     ]
    }
   ],
   "source": [
    "new3_df.info()"
   ]
  },
  {
   "cell_type": "code",
   "execution_count": 117,
   "metadata": {},
   "outputs": [
    {
     "name": "stdout",
     "output_type": "stream",
     "text": [
      "<class 'pandas.core.frame.DataFrame'>\n",
      "RangeIndex: 27 entries, 0 to 26\n",
      "Data columns (total 3 columns):\n",
      " #   Column        Non-Null Count  Dtype         \n",
      "---  ------        --------------  -----         \n",
      " 0   change_month  27 non-null     datetime64[ns]\n",
      " 1   new_addition  27 non-null     object        \n",
      " 2   account_code  27 non-null     int64         \n",
      "dtypes: datetime64[ns](1), int64(1), object(1)\n",
      "memory usage: 776.0+ bytes\n"
     ]
    }
   ],
   "source": [
    "new4_df.info()"
   ]
  },
  {
   "cell_type": "markdown",
   "metadata": {},
   "source": [
    "df = df.groupby(['id','product']).agg({'quantity':'sum'}).reset_index()\n"
   ]
  },
  {
   "cell_type": "code",
   "execution_count": 118,
   "metadata": {},
   "outputs": [],
   "source": [
    "new4_df = new4_df.groupby(['change_month', 'new_addition'],  as_index=False ).agg({'account_code': 'nunique'})\n"
   ]
  },
  {
   "cell_type": "code",
   "execution_count": 119,
   "metadata": {},
   "outputs": [
    {
     "name": "stdout",
     "output_type": "stream",
     "text": [
      "   change_month           new_addition  account_code\n",
      "0    2022-06-01                                    1\n",
      "1    2022-06-01              4k-screen             1\n",
      "2    2022-06-01           advanced-dvr             1\n",
      "3    2022-06-01      advanced-dvr-1000             1\n",
      "4    2022-06-01       advanced-dvr-250             1\n",
      "5    2022-06-01              adventure             1\n",
      "6    2022-06-01           amc-premiere             1\n",
      "7    2022-06-01               deportes             1\n",
      "8    2022-06-01          entertainment             1\n",
      "9    2022-06-01       entertainment-v2             1\n",
      "10   2022-06-01                  extra             1\n",
      "11   2022-06-01        fubo-extra-lite             1\n",
      "12   2022-06-01       intl-sports-plus             1\n",
      "13   2022-06-01                 latino             1\n",
      "14   2022-06-01              news-plus             1\n",
      "15   2022-06-01                pantaya             1\n",
      "16   2022-06-01             portuguese             1\n",
      "17   2022-06-01               premiere             1\n",
      "18   2022-06-01              raiitalia             1\n",
      "19   2022-06-01                rsn-fee             1\n",
      "20   2022-06-01               showtime             1\n",
      "21   2022-06-01            sports-lite             1\n",
      "22   2022-06-01                  starz             1\n",
      "23   2022-06-01    starz-epix-showtime             1\n",
      "24   2022-06-01           third-screen             1\n",
      "25   2022-06-01              tv5-monde             1\n",
      "26   2022-06-01  unlimited-screen-home             1\n"
     ]
    }
   ],
   "source": [
    "print(new4_df)"
   ]
  },
  {
   "cell_type": "code",
   "execution_count": 120,
   "metadata": {},
   "outputs": [],
   "source": [
    "new4_df.to_csv('Test-Count of Users - 2000 entries for June 2022.csv', index =False)"
   ]
  }
 ],
 "metadata": {
  "interpreter": {
   "hash": "0974d6d4526877ac03092eddf71329aa51a4904723e66e5891e6e45546228747"
  },
  "kernelspec": {
   "display_name": "Python 3 (ipykernel)",
   "language": "python",
   "name": "python3"
  },
  "language_info": {
   "codemirror_mode": {
    "name": "ipython",
    "version": 3
   },
   "file_extension": ".py",
   "mimetype": "text/x-python",
   "name": "python",
   "nbconvert_exporter": "python",
   "pygments_lexer": "ipython3",
   "version": "3.7.13"
  }
 },
 "nbformat": 4,
 "nbformat_minor": 4
}
